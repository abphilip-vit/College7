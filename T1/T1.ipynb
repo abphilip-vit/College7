{
  "nbformat": 4,
  "nbformat_minor": 0,
  "metadata": {
    "colab": {
      "name": "T1.ipynb",
      "provenance": [],
      "collapsed_sections": [
        "UVjpftgcVgHH",
        "p9RMLu7GWwZ2",
        "XgSQ_CZ7ZjOa",
        "ICB2I9CdJn9i",
        "aG2eNPabJuaG",
        "W8Pt9PsMZ0T6",
        "xzyyUZ6Kr-bZ",
        "UwmyImYUsM4H",
        "eHn_Z3wDsOqT",
        "ZRpseaA1scgZ",
        "ui9CJQukJwaS",
        "y1wzGQNVZrrs",
        "brcVXKcNvd_r",
        "gqsJyWs0wtv6",
        "ZXop1lJgwNPa",
        "_Q2mC0bTyYrI",
        "6SBvtgm2Qtdd",
        "E3fMIaWp6oaT",
        "NH2UGcj527Rr",
        "aA48nazBsgEy",
        "V5Q8Gsh3Zr_c",
        "22Fe9ukyOv9O",
        "p_xNUNQkO1yn",
        "Few7kLcHO5JE",
        "sLmmKra2O8KQ",
        "AL2cxDz24Zo7",
        "tZijc_O45kJK",
        "0NbXaKjL6OpQ",
        "hAaPC92WZsV6",
        "cBzx7jGeSx_9",
        "bb-gklbrTZUX",
        "fJ3b1MxOTxY9",
        "gCphB5TfTzJD",
        "4O9Ogduk5HHz",
        "Y9Ok__cZ5gNO",
        "Umdea-MyUFgF",
        "E0D6P9hYUKTw",
        "yYGpMWB0UMEX",
        "wrK0EyWfJpeN",
        "bNr4cbbcSKW7"
      ],
      "toc_visible": true,
      "mount_file_id": "1KZD98u0CbLavpdTXOKzaC5zt6kMkm-7n",
      "authorship_tag": "ABX9TyNCTc7h6OGtJJX/zdMV8cNs",
      "include_colab_link": true
    },
    "kernelspec": {
      "name": "python3",
      "display_name": "Python 3"
    }
  },
  "cells": [
    {
      "cell_type": "markdown",
      "metadata": {
        "id": "view-in-github",
        "colab_type": "text"
      },
      "source": [
        "<a href=\"https://colab.research.google.com/github/allenalvin333/College7/blob/master/T1/T1.ipynb\" target=\"_parent\"><img src=\"https://colab.research.google.com/assets/colab-badge.svg\" alt=\"Open In Colab\"/></a>"
      ]
    },
    {
      "cell_type": "markdown",
      "metadata": {
        "id": "UVjpftgcVgHH"
      },
      "source": [
        "# **Allen Ben Philipose** - 18BIS0043\n",
        "# **Lab Task - 1, Submitted to: Dr. Sankar Ganesh S**"
      ]
    },
    {
      "cell_type": "markdown",
      "metadata": {
        "id": "p9RMLu7GWwZ2"
      },
      "source": [
        "## Example"
      ]
    },
    {
      "cell_type": "code",
      "metadata": {
        "colab": {
          "base_uri": "https://localhost:8080/"
        },
        "id": "TaSkzzJ48Rz7",
        "outputId": "f5e2fddf-407f-4923-d3e2-1433c5e87948"
      },
      "source": [
        "dataset = pd.read_csv('sample_data.csv')\n",
        "print(dataset)"
      ],
      "execution_count": null,
      "outputs": [
        {
          "output_type": "stream",
          "text": [
            "    Country   Age   Salary Purchased\n",
            "0    France  44.0  72000.0        No\n",
            "1     Spain  27.0  48000.0       Yes\n",
            "2   Germany  30.0  54000.0        No\n",
            "3     Spain  38.0  61000.0        No\n",
            "4   Nigeria  18.0  15000.0        No\n",
            "5   Germany  40.0      NaN       Yes\n",
            "6    France  35.0  58000.0       Yes\n",
            "7     Spain   NaN  52000.0        No\n",
            "8    France  48.0  79000.0       Yes\n",
            "9   Germany  50.0  83000.0        No\n",
            "10   France  37.0  67000.0       Yes\n",
            "11  Nigeria  50.0  60000.0       Yes\n",
            "12   France  22.0  30000.0        No\n",
            "13      NaN  44.0  45000.0       Yes\n",
            "14   France  47.0  78000.0       NaN\n",
            "15  Nigeria  35.0  43000.0       Yes\n",
            "16    Spain  34.0  44000.0       Yes\n",
            "17    Spain  27.0  48000.0       Yes\n",
            "18    Spain  33.0  48000.0       Yes\n",
            "19  Nigeria  29.0  77000.0       Yes\n",
            "20    Spain   NaN  57000.0       Yes\n",
            "21   France  44.0  48000.0       Yes\n",
            "22  Germany  50.0  83000.0        No\n",
            "23   France  37.0  67000.0       Yes\n",
            "24   France  37.0  23000.0       Yes\n",
            "25  Germany  45.0  50000.0        No\n",
            "26   France  37.0  67000.0       Yes\n",
            "27  Nigeria  30.0  30000.0       Yes\n",
            "28  Nigeria  29.0  15000.0        No\n"
          ],
          "name": "stdout"
        }
      ]
    },
    {
      "cell_type": "code",
      "metadata": {
        "colab": {
          "base_uri": "https://localhost:8080/"
        },
        "id": "Ixu6Dh9r50L8",
        "outputId": "d1a44c5f-e196-4558-907d-baa27f4d4463"
      },
      "source": [
        "dataset = dataset.drop_duplicates()\n",
        "print(dataset)"
      ],
      "execution_count": null,
      "outputs": [
        {
          "output_type": "stream",
          "text": [
            "    Country   Age   Salary Purchased\n",
            "0    France  44.0  72000.0        No\n",
            "1     Spain  27.0  48000.0       Yes\n",
            "2   Germany  30.0  54000.0        No\n",
            "3     Spain  38.0  61000.0        No\n",
            "4   Nigeria  18.0  15000.0        No\n",
            "5   Germany  40.0      NaN       Yes\n",
            "6    France  35.0  58000.0       Yes\n",
            "7     Spain   NaN  52000.0        No\n",
            "8    France  48.0  79000.0       Yes\n",
            "9   Germany  50.0  83000.0        No\n",
            "10   France  37.0  67000.0       Yes\n",
            "11  Nigeria  50.0  60000.0       Yes\n",
            "12   France  22.0  30000.0        No\n",
            "13      NaN  44.0  45000.0       Yes\n",
            "14   France  47.0  78000.0       NaN\n",
            "15  Nigeria  35.0  43000.0       Yes\n",
            "16    Spain  34.0  44000.0       Yes\n",
            "18    Spain  33.0  48000.0       Yes\n",
            "19  Nigeria  29.0  77000.0       Yes\n",
            "20    Spain   NaN  57000.0       Yes\n",
            "21   France  44.0  48000.0       Yes\n",
            "24   France  37.0  23000.0       Yes\n",
            "25  Germany  45.0  50000.0        No\n",
            "27  Nigeria  30.0  30000.0       Yes\n",
            "28  Nigeria  29.0  15000.0        No\n"
          ],
          "name": "stdout"
        }
      ]
    },
    {
      "cell_type": "markdown",
      "metadata": {
        "id": "Zxyz4_1gC971"
      },
      "source": [
        "# **0. Initialization**"
      ]
    },
    {
      "cell_type": "code",
      "metadata": {
        "colab": {
          "base_uri": "https://localhost:8080/"
        },
        "id": "_NxlLHiL3tGr",
        "outputId": "aedf5c0f-bb44-43b6-c8a7-c0c75a20bd2f"
      },
      "source": [
        "pip install fuzzywuzzy"
      ],
      "execution_count": 2,
      "outputs": [
        {
          "output_type": "stream",
          "text": [
            "Collecting fuzzywuzzy\n",
            "  Downloading https://files.pythonhosted.org/packages/43/ff/74f23998ad2f93b945c0309f825be92e04e0348e062026998b5eefef4c33/fuzzywuzzy-0.18.0-py2.py3-none-any.whl\n",
            "Installing collected packages: fuzzywuzzy\n",
            "Successfully installed fuzzywuzzy-0.18.0\n"
          ],
          "name": "stdout"
        }
      ]
    },
    {
      "cell_type": "code",
      "metadata": {
        "colab": {
          "base_uri": "https://localhost:8080/"
        },
        "id": "Un1O0J8ADpMM",
        "outputId": "0d7df9b5-e749-441b-dca2-a7ca2b4e28a6"
      },
      "source": [
        "from google.colab import drive\n",
        "drive.mount(\"/content/gdrive\")"
      ],
      "execution_count": 3,
      "outputs": [
        {
          "output_type": "stream",
          "text": [
            "Mounted at /content/gdrive\n"
          ],
          "name": "stdout"
        }
      ]
    },
    {
      "cell_type": "code",
      "metadata": {
        "id": "kyE8Ju5CFMM8"
      },
      "source": [
        "!cp -r /content/gdrive/MyDrive/Academic/Labs/ML/T1 /content/"
      ],
      "execution_count": 133,
      "outputs": []
    },
    {
      "cell_type": "code",
      "metadata": {
        "id": "L-wofYF9r-m9"
      },
      "source": [
        "import warnings\n",
        "warnings.filterwarnings(\"ignore\")"
      ],
      "execution_count": 9,
      "outputs": []
    },
    {
      "cell_type": "code",
      "metadata": {
        "id": "VebPMaCk71qX"
      },
      "source": [
        "import pandas as pd\n",
        "import numpy as np\n",
        "import seaborn as sns\n",
        "import matplotlib.pyplot as plt"
      ],
      "execution_count": 136,
      "outputs": []
    },
    {
      "cell_type": "code",
      "metadata": {
        "id": "Vm_4cNrEed4Y"
      },
      "source": [
        "#1\n",
        "from sklearn.impute import SimpleImputer\n",
        "from sklearn.metrics import mean_absolute_error\n",
        "from sklearn.ensemble import RandomForestRegressor\n",
        "from sklearn.model_selection import train_test_split\n",
        "\n",
        "#2\n",
        "from sklearn.preprocessing import LabelEncoder\n",
        "from sklearn.preprocessing import LabelBinarizer\n",
        "\n",
        "#3\n",
        "import fuzzywuzzy\n",
        "from fuzzywuzzy import process\n",
        "import chardet\n",
        "\n",
        "#4\n",
        "import datetime\n",
        "\n",
        "#5\n",
        "from scipy import stats\n",
        "from numpy import asarray\n",
        "from mlxtend.preprocessing import minmax_scaling\n",
        "from sklearn.preprocessing import StandardScaler\n",
        "from sklearn.preprocessing import MinMaxScaler\n",
        "from pandas.plotting import scatter_matrix\n",
        "from sklearn.neighbors import KNeighborsClassifier\n",
        "from sklearn.model_selection import cross_val_score\n",
        "from sklearn.model_selection import RepeatedStratifiedKFold"
      ],
      "execution_count": 162,
      "outputs": []
    },
    {
      "cell_type": "markdown",
      "metadata": {
        "id": "XgSQ_CZ7ZjOa"
      },
      "source": [
        "# **1. Dealing with Missing Values** "
      ]
    },
    {
      "cell_type": "markdown",
      "metadata": {
        "id": "ICB2I9CdJn9i"
      },
      "source": [
        "## References\n",
        "- https://www.kaggle.com/dansbecker/handling-missing-values\n",
        "- https://towardsdatascience.com/how-to-deal-with-missing-data-in-python-1f74a9112d93\n",
        "- https://medium.com/x8-the-ai-community/handling-missing-values-in-data-54e1dc77e24f"
      ]
    },
    {
      "cell_type": "markdown",
      "metadata": {
        "id": "aG2eNPabJuaG"
      },
      "source": [
        "## Dataset\n",
        "- https://www.kaggle.com/dansbecker/melbourne-housing-snapshot/home?select=melb_data.csv"
      ]
    },
    {
      "cell_type": "markdown",
      "metadata": {
        "id": "W8Pt9PsMZ0T6"
      },
      "source": [
        "## Explanation\n",
        "*A common occurrence in a data-set is missing values. This can happen due to multiple reasons like unrecorded observations or data corruption. Pandas library provides a variety of functions for marking these corrupt values. We will study how we can remove or impute these values. There are many ways data can end up with missing values.*\n",
        "- *A 2 bedroom house wouldn't include an answer for \"How large is the third bedroom?\"*\n",
        "- *Someone being surveyed may choose not to share their income*\n",
        "\n",
        "*Python libraries represent missing numbers as nan which is short for \"not a number\". Most libraries (including scikit-learn) will give you an error if you try to build a model using data with missing values.*\n",
        "- *A Simple Option: **Drop Columns with Missing Values** - \n",
        "In many cases, you'll have both a training dataset and a test dataset. You will want to drop the same columns in both DataFrames*\n",
        "- *A Better Option: **Imputation** - Imputation fills in the missing value with some number. The imputed value won't be exactly right in most cases, but it usually gives more accurate models than dropping the column entirely. The default behavior fills in the mean value for imputation. Statisticians have researched more complex strategies, but those complex strategies typically give no benefit once you plug the results into sophisticated machine learning models.*"
      ]
    },
    {
      "cell_type": "markdown",
      "metadata": {
        "id": "xzyyUZ6Kr-bZ"
      },
      "source": [
        "## **Sample Program**"
      ]
    },
    {
      "cell_type": "markdown",
      "metadata": {
        "id": "UwmyImYUsM4H"
      },
      "source": [
        "#### Dataset Inspection"
      ]
    },
    {
      "cell_type": "code",
      "metadata": {
        "id": "tDoeKxhw0aGR"
      },
      "source": [
        "df1 = pd.read_csv('/content/T1/2.csv')"
      ],
      "execution_count": 12,
      "outputs": []
    },
    {
      "cell_type": "code",
      "metadata": {
        "colab": {
          "base_uri": "https://localhost:8080/",
          "height": 347
        },
        "id": "7_uya6xi0bS5",
        "outputId": "c2ee0280-4358-4bb2-ade2-644332ea12f7"
      },
      "source": [
        "df1.head()"
      ],
      "execution_count": 13,
      "outputs": [
        {
          "output_type": "execute_result",
          "data": {
            "text/html": [
              "<div>\n",
              "<style scoped>\n",
              "    .dataframe tbody tr th:only-of-type {\n",
              "        vertical-align: middle;\n",
              "    }\n",
              "\n",
              "    .dataframe tbody tr th {\n",
              "        vertical-align: top;\n",
              "    }\n",
              "\n",
              "    .dataframe thead th {\n",
              "        text-align: right;\n",
              "    }\n",
              "</style>\n",
              "<table border=\"1\" class=\"dataframe\">\n",
              "  <thead>\n",
              "    <tr style=\"text-align: right;\">\n",
              "      <th></th>\n",
              "      <th>Suburb</th>\n",
              "      <th>Address</th>\n",
              "      <th>Rooms</th>\n",
              "      <th>Type</th>\n",
              "      <th>Price</th>\n",
              "      <th>Method</th>\n",
              "      <th>SellerG</th>\n",
              "      <th>Date</th>\n",
              "      <th>Distance</th>\n",
              "      <th>Postcode</th>\n",
              "      <th>Bedroom2</th>\n",
              "      <th>Bathroom</th>\n",
              "      <th>Car</th>\n",
              "      <th>Landsize</th>\n",
              "      <th>BuildingArea</th>\n",
              "      <th>YearBuilt</th>\n",
              "      <th>CouncilArea</th>\n",
              "      <th>Lattitude</th>\n",
              "      <th>Longtitude</th>\n",
              "      <th>Regionname</th>\n",
              "      <th>Propertycount</th>\n",
              "    </tr>\n",
              "  </thead>\n",
              "  <tbody>\n",
              "    <tr>\n",
              "      <th>0</th>\n",
              "      <td>Abbotsford</td>\n",
              "      <td>85 Turner St</td>\n",
              "      <td>2</td>\n",
              "      <td>h</td>\n",
              "      <td>1480000.0</td>\n",
              "      <td>S</td>\n",
              "      <td>Biggin</td>\n",
              "      <td>3/12/2016</td>\n",
              "      <td>2.5</td>\n",
              "      <td>3067.0</td>\n",
              "      <td>2.0</td>\n",
              "      <td>1.0</td>\n",
              "      <td>1.0</td>\n",
              "      <td>202.0</td>\n",
              "      <td>NaN</td>\n",
              "      <td>NaN</td>\n",
              "      <td>Yarra</td>\n",
              "      <td>-37.7996</td>\n",
              "      <td>144.9984</td>\n",
              "      <td>Northern Metropolitan</td>\n",
              "      <td>4019.0</td>\n",
              "    </tr>\n",
              "    <tr>\n",
              "      <th>1</th>\n",
              "      <td>Abbotsford</td>\n",
              "      <td>25 Bloomburg St</td>\n",
              "      <td>2</td>\n",
              "      <td>h</td>\n",
              "      <td>1035000.0</td>\n",
              "      <td>S</td>\n",
              "      <td>Biggin</td>\n",
              "      <td>4/02/2016</td>\n",
              "      <td>2.5</td>\n",
              "      <td>3067.0</td>\n",
              "      <td>2.0</td>\n",
              "      <td>1.0</td>\n",
              "      <td>0.0</td>\n",
              "      <td>156.0</td>\n",
              "      <td>79.0</td>\n",
              "      <td>1900.0</td>\n",
              "      <td>Yarra</td>\n",
              "      <td>-37.8079</td>\n",
              "      <td>144.9934</td>\n",
              "      <td>Northern Metropolitan</td>\n",
              "      <td>4019.0</td>\n",
              "    </tr>\n",
              "    <tr>\n",
              "      <th>2</th>\n",
              "      <td>Abbotsford</td>\n",
              "      <td>5 Charles St</td>\n",
              "      <td>3</td>\n",
              "      <td>h</td>\n",
              "      <td>1465000.0</td>\n",
              "      <td>SP</td>\n",
              "      <td>Biggin</td>\n",
              "      <td>4/03/2017</td>\n",
              "      <td>2.5</td>\n",
              "      <td>3067.0</td>\n",
              "      <td>3.0</td>\n",
              "      <td>2.0</td>\n",
              "      <td>0.0</td>\n",
              "      <td>134.0</td>\n",
              "      <td>150.0</td>\n",
              "      <td>1900.0</td>\n",
              "      <td>Yarra</td>\n",
              "      <td>-37.8093</td>\n",
              "      <td>144.9944</td>\n",
              "      <td>Northern Metropolitan</td>\n",
              "      <td>4019.0</td>\n",
              "    </tr>\n",
              "    <tr>\n",
              "      <th>3</th>\n",
              "      <td>Abbotsford</td>\n",
              "      <td>40 Federation La</td>\n",
              "      <td>3</td>\n",
              "      <td>h</td>\n",
              "      <td>850000.0</td>\n",
              "      <td>PI</td>\n",
              "      <td>Biggin</td>\n",
              "      <td>4/03/2017</td>\n",
              "      <td>2.5</td>\n",
              "      <td>3067.0</td>\n",
              "      <td>3.0</td>\n",
              "      <td>2.0</td>\n",
              "      <td>1.0</td>\n",
              "      <td>94.0</td>\n",
              "      <td>NaN</td>\n",
              "      <td>NaN</td>\n",
              "      <td>Yarra</td>\n",
              "      <td>-37.7969</td>\n",
              "      <td>144.9969</td>\n",
              "      <td>Northern Metropolitan</td>\n",
              "      <td>4019.0</td>\n",
              "    </tr>\n",
              "    <tr>\n",
              "      <th>4</th>\n",
              "      <td>Abbotsford</td>\n",
              "      <td>55a Park St</td>\n",
              "      <td>4</td>\n",
              "      <td>h</td>\n",
              "      <td>1600000.0</td>\n",
              "      <td>VB</td>\n",
              "      <td>Nelson</td>\n",
              "      <td>4/06/2016</td>\n",
              "      <td>2.5</td>\n",
              "      <td>3067.0</td>\n",
              "      <td>3.0</td>\n",
              "      <td>1.0</td>\n",
              "      <td>2.0</td>\n",
              "      <td>120.0</td>\n",
              "      <td>142.0</td>\n",
              "      <td>2014.0</td>\n",
              "      <td>Yarra</td>\n",
              "      <td>-37.8072</td>\n",
              "      <td>144.9941</td>\n",
              "      <td>Northern Metropolitan</td>\n",
              "      <td>4019.0</td>\n",
              "    </tr>\n",
              "  </tbody>\n",
              "</table>\n",
              "</div>"
            ],
            "text/plain": [
              "       Suburb           Address  ...             Regionname Propertycount\n",
              "0  Abbotsford      85 Turner St  ...  Northern Metropolitan        4019.0\n",
              "1  Abbotsford   25 Bloomburg St  ...  Northern Metropolitan        4019.0\n",
              "2  Abbotsford      5 Charles St  ...  Northern Metropolitan        4019.0\n",
              "3  Abbotsford  40 Federation La  ...  Northern Metropolitan        4019.0\n",
              "4  Abbotsford       55a Park St  ...  Northern Metropolitan        4019.0\n",
              "\n",
              "[5 rows x 21 columns]"
            ]
          },
          "metadata": {
            "tags": []
          },
          "execution_count": 13
        }
      ]
    },
    {
      "cell_type": "code",
      "metadata": {
        "id": "7Ii-L2gr0ef4",
        "colab": {
          "base_uri": "https://localhost:8080/",
          "height": 320
        },
        "outputId": "42f10728-7322-4e08-ee0d-32c699024bcf"
      },
      "source": [
        "df1.describe()"
      ],
      "execution_count": 14,
      "outputs": [
        {
          "output_type": "execute_result",
          "data": {
            "text/html": [
              "<div>\n",
              "<style scoped>\n",
              "    .dataframe tbody tr th:only-of-type {\n",
              "        vertical-align: middle;\n",
              "    }\n",
              "\n",
              "    .dataframe tbody tr th {\n",
              "        vertical-align: top;\n",
              "    }\n",
              "\n",
              "    .dataframe thead th {\n",
              "        text-align: right;\n",
              "    }\n",
              "</style>\n",
              "<table border=\"1\" class=\"dataframe\">\n",
              "  <thead>\n",
              "    <tr style=\"text-align: right;\">\n",
              "      <th></th>\n",
              "      <th>Rooms</th>\n",
              "      <th>Price</th>\n",
              "      <th>Distance</th>\n",
              "      <th>Postcode</th>\n",
              "      <th>Bedroom2</th>\n",
              "      <th>Bathroom</th>\n",
              "      <th>Car</th>\n",
              "      <th>Landsize</th>\n",
              "      <th>BuildingArea</th>\n",
              "      <th>YearBuilt</th>\n",
              "      <th>Lattitude</th>\n",
              "      <th>Longtitude</th>\n",
              "      <th>Propertycount</th>\n",
              "    </tr>\n",
              "  </thead>\n",
              "  <tbody>\n",
              "    <tr>\n",
              "      <th>count</th>\n",
              "      <td>13580.000000</td>\n",
              "      <td>1.358000e+04</td>\n",
              "      <td>13580.000000</td>\n",
              "      <td>13580.000000</td>\n",
              "      <td>13580.000000</td>\n",
              "      <td>13580.000000</td>\n",
              "      <td>13518.000000</td>\n",
              "      <td>13580.000000</td>\n",
              "      <td>7130.000000</td>\n",
              "      <td>8205.000000</td>\n",
              "      <td>13580.000000</td>\n",
              "      <td>13580.000000</td>\n",
              "      <td>13580.000000</td>\n",
              "    </tr>\n",
              "    <tr>\n",
              "      <th>mean</th>\n",
              "      <td>2.937997</td>\n",
              "      <td>1.075684e+06</td>\n",
              "      <td>10.137776</td>\n",
              "      <td>3105.301915</td>\n",
              "      <td>2.914728</td>\n",
              "      <td>1.534242</td>\n",
              "      <td>1.610075</td>\n",
              "      <td>558.416127</td>\n",
              "      <td>151.967650</td>\n",
              "      <td>1964.684217</td>\n",
              "      <td>-37.809203</td>\n",
              "      <td>144.995216</td>\n",
              "      <td>7454.417378</td>\n",
              "    </tr>\n",
              "    <tr>\n",
              "      <th>std</th>\n",
              "      <td>0.955748</td>\n",
              "      <td>6.393107e+05</td>\n",
              "      <td>5.868725</td>\n",
              "      <td>90.676964</td>\n",
              "      <td>0.965921</td>\n",
              "      <td>0.691712</td>\n",
              "      <td>0.962634</td>\n",
              "      <td>3990.669241</td>\n",
              "      <td>541.014538</td>\n",
              "      <td>37.273762</td>\n",
              "      <td>0.079260</td>\n",
              "      <td>0.103916</td>\n",
              "      <td>4378.581772</td>\n",
              "    </tr>\n",
              "    <tr>\n",
              "      <th>min</th>\n",
              "      <td>1.000000</td>\n",
              "      <td>8.500000e+04</td>\n",
              "      <td>0.000000</td>\n",
              "      <td>3000.000000</td>\n",
              "      <td>0.000000</td>\n",
              "      <td>0.000000</td>\n",
              "      <td>0.000000</td>\n",
              "      <td>0.000000</td>\n",
              "      <td>0.000000</td>\n",
              "      <td>1196.000000</td>\n",
              "      <td>-38.182550</td>\n",
              "      <td>144.431810</td>\n",
              "      <td>249.000000</td>\n",
              "    </tr>\n",
              "    <tr>\n",
              "      <th>25%</th>\n",
              "      <td>2.000000</td>\n",
              "      <td>6.500000e+05</td>\n",
              "      <td>6.100000</td>\n",
              "      <td>3044.000000</td>\n",
              "      <td>2.000000</td>\n",
              "      <td>1.000000</td>\n",
              "      <td>1.000000</td>\n",
              "      <td>177.000000</td>\n",
              "      <td>93.000000</td>\n",
              "      <td>1940.000000</td>\n",
              "      <td>-37.856822</td>\n",
              "      <td>144.929600</td>\n",
              "      <td>4380.000000</td>\n",
              "    </tr>\n",
              "    <tr>\n",
              "      <th>50%</th>\n",
              "      <td>3.000000</td>\n",
              "      <td>9.030000e+05</td>\n",
              "      <td>9.200000</td>\n",
              "      <td>3084.000000</td>\n",
              "      <td>3.000000</td>\n",
              "      <td>1.000000</td>\n",
              "      <td>2.000000</td>\n",
              "      <td>440.000000</td>\n",
              "      <td>126.000000</td>\n",
              "      <td>1970.000000</td>\n",
              "      <td>-37.802355</td>\n",
              "      <td>145.000100</td>\n",
              "      <td>6555.000000</td>\n",
              "    </tr>\n",
              "    <tr>\n",
              "      <th>75%</th>\n",
              "      <td>3.000000</td>\n",
              "      <td>1.330000e+06</td>\n",
              "      <td>13.000000</td>\n",
              "      <td>3148.000000</td>\n",
              "      <td>3.000000</td>\n",
              "      <td>2.000000</td>\n",
              "      <td>2.000000</td>\n",
              "      <td>651.000000</td>\n",
              "      <td>174.000000</td>\n",
              "      <td>1999.000000</td>\n",
              "      <td>-37.756400</td>\n",
              "      <td>145.058305</td>\n",
              "      <td>10331.000000</td>\n",
              "    </tr>\n",
              "    <tr>\n",
              "      <th>max</th>\n",
              "      <td>10.000000</td>\n",
              "      <td>9.000000e+06</td>\n",
              "      <td>48.100000</td>\n",
              "      <td>3977.000000</td>\n",
              "      <td>20.000000</td>\n",
              "      <td>8.000000</td>\n",
              "      <td>10.000000</td>\n",
              "      <td>433014.000000</td>\n",
              "      <td>44515.000000</td>\n",
              "      <td>2018.000000</td>\n",
              "      <td>-37.408530</td>\n",
              "      <td>145.526350</td>\n",
              "      <td>21650.000000</td>\n",
              "    </tr>\n",
              "  </tbody>\n",
              "</table>\n",
              "</div>"
            ],
            "text/plain": [
              "              Rooms         Price  ...    Longtitude  Propertycount\n",
              "count  13580.000000  1.358000e+04  ...  13580.000000   13580.000000\n",
              "mean       2.937997  1.075684e+06  ...    144.995216    7454.417378\n",
              "std        0.955748  6.393107e+05  ...      0.103916    4378.581772\n",
              "min        1.000000  8.500000e+04  ...    144.431810     249.000000\n",
              "25%        2.000000  6.500000e+05  ...    144.929600    4380.000000\n",
              "50%        3.000000  9.030000e+05  ...    145.000100    6555.000000\n",
              "75%        3.000000  1.330000e+06  ...    145.058305   10331.000000\n",
              "max       10.000000  9.000000e+06  ...    145.526350   21650.000000\n",
              "\n",
              "[8 rows x 13 columns]"
            ]
          },
          "metadata": {
            "tags": []
          },
          "execution_count": 14
        }
      ]
    },
    {
      "cell_type": "code",
      "metadata": {
        "id": "3QXrbAUz0hfJ",
        "colab": {
          "base_uri": "https://localhost:8080/"
        },
        "outputId": "85fa7c36-ab37-46b5-e386-778601ecf73a"
      },
      "source": [
        "df1.info"
      ],
      "execution_count": 15,
      "outputs": [
        {
          "output_type": "execute_result",
          "data": {
            "text/plain": [
              "<bound method DataFrame.info of               Suburb  ... Propertycount\n",
              "0         Abbotsford  ...        4019.0\n",
              "1         Abbotsford  ...        4019.0\n",
              "2         Abbotsford  ...        4019.0\n",
              "3         Abbotsford  ...        4019.0\n",
              "4         Abbotsford  ...        4019.0\n",
              "...              ...  ...           ...\n",
              "13575  Wheelers Hill  ...        7392.0\n",
              "13576   Williamstown  ...        6380.0\n",
              "13577   Williamstown  ...        6380.0\n",
              "13578   Williamstown  ...        6380.0\n",
              "13579     Yarraville  ...        6543.0\n",
              "\n",
              "[13580 rows x 21 columns]>"
            ]
          },
          "metadata": {
            "tags": []
          },
          "execution_count": 15
        }
      ]
    },
    {
      "cell_type": "code",
      "metadata": {
        "colab": {
          "base_uri": "https://localhost:8080/",
          "height": 348
        },
        "id": "TXVKPmadQLeI",
        "outputId": "725cceca-f1dc-4dad-8788-e89eddf8f612"
      },
      "source": [
        "col1 = df1.columns[:30]\n",
        "colours1 = ['#000099', '#ffff00']\n",
        "sns.heatmap(df1[col1].isnull(), cmap=sns.color_palette(colours1))"
      ],
      "execution_count": 16,
      "outputs": [
        {
          "output_type": "execute_result",
          "data": {
            "text/plain": [
              "<matplotlib.axes._subplots.AxesSubplot at 0x7fa5f8332a90>"
            ]
          },
          "metadata": {
            "tags": []
          },
          "execution_count": 16
        },
        {
          "output_type": "display_data",
          "data": {
            "image/png": "[encoded data removed]",
            "text/plain": [
              "<Figure size 432x288 with 2 Axes>"
            ]
          },
          "metadata": {
            "tags": [],
            "needs_background": "light"
          }
        }
      ]
    },
    {
      "cell_type": "markdown",
      "metadata": {
        "id": "TXa7vKseQneQ"
      },
      "source": [
        "*Yellow represents the missing data in the first 30 entries of the dataframe*"
      ]
    },
    {
      "cell_type": "markdown",
      "metadata": {
        "id": "eHn_Z3wDsOqT"
      },
      "source": [
        "#### **Drop Columns**\n",
        "*If those columns had useful information (in the places that were not missing), your model loses access to this information when the column is dropped. Also, if your test data has missing values in places where your training data did not, this will result in an error.*"
      ]
    },
    {
      "cell_type": "code",
      "metadata": {
        "id": "6DdsoJWIhJY6"
      },
      "source": [
        "df11 = df1.dropna(axis=1)"
      ],
      "execution_count": 17,
      "outputs": []
    },
    {
      "cell_type": "code",
      "metadata": {
        "colab": {
          "base_uri": "https://localhost:8080/",
          "height": 347
        },
        "id": "MIFvmtDGi82B",
        "outputId": "3f382cc7-41d5-4ff8-c89b-a0c4cc18f54e"
      },
      "source": [
        "df11.head()"
      ],
      "execution_count": 18,
      "outputs": [
        {
          "output_type": "execute_result",
          "data": {
            "text/html": [
              "<div>\n",
              "<style scoped>\n",
              "    .dataframe tbody tr th:only-of-type {\n",
              "        vertical-align: middle;\n",
              "    }\n",
              "\n",
              "    .dataframe tbody tr th {\n",
              "        vertical-align: top;\n",
              "    }\n",
              "\n",
              "    .dataframe thead th {\n",
              "        text-align: right;\n",
              "    }\n",
              "</style>\n",
              "<table border=\"1\" class=\"dataframe\">\n",
              "  <thead>\n",
              "    <tr style=\"text-align: right;\">\n",
              "      <th></th>\n",
              "      <th>Suburb</th>\n",
              "      <th>Address</th>\n",
              "      <th>Rooms</th>\n",
              "      <th>Type</th>\n",
              "      <th>Price</th>\n",
              "      <th>Method</th>\n",
              "      <th>SellerG</th>\n",
              "      <th>Date</th>\n",
              "      <th>Distance</th>\n",
              "      <th>Postcode</th>\n",
              "      <th>Bedroom2</th>\n",
              "      <th>Bathroom</th>\n",
              "      <th>Landsize</th>\n",
              "      <th>Lattitude</th>\n",
              "      <th>Longtitude</th>\n",
              "      <th>Regionname</th>\n",
              "      <th>Propertycount</th>\n",
              "    </tr>\n",
              "  </thead>\n",
              "  <tbody>\n",
              "    <tr>\n",
              "      <th>0</th>\n",
              "      <td>Abbotsford</td>\n",
              "      <td>85 Turner St</td>\n",
              "      <td>2</td>\n",
              "      <td>h</td>\n",
              "      <td>1480000.0</td>\n",
              "      <td>S</td>\n",
              "      <td>Biggin</td>\n",
              "      <td>3/12/2016</td>\n",
              "      <td>2.5</td>\n",
              "      <td>3067.0</td>\n",
              "      <td>2.0</td>\n",
              "      <td>1.0</td>\n",
              "      <td>202.0</td>\n",
              "      <td>-37.7996</td>\n",
              "      <td>144.9984</td>\n",
              "      <td>Northern Metropolitan</td>\n",
              "      <td>4019.0</td>\n",
              "    </tr>\n",
              "    <tr>\n",
              "      <th>1</th>\n",
              "      <td>Abbotsford</td>\n",
              "      <td>25 Bloomburg St</td>\n",
              "      <td>2</td>\n",
              "      <td>h</td>\n",
              "      <td>1035000.0</td>\n",
              "      <td>S</td>\n",
              "      <td>Biggin</td>\n",
              "      <td>4/02/2016</td>\n",
              "      <td>2.5</td>\n",
              "      <td>3067.0</td>\n",
              "      <td>2.0</td>\n",
              "      <td>1.0</td>\n",
              "      <td>156.0</td>\n",
              "      <td>-37.8079</td>\n",
              "      <td>144.9934</td>\n",
              "      <td>Northern Metropolitan</td>\n",
              "      <td>4019.0</td>\n",
              "    </tr>\n",
              "    <tr>\n",
              "      <th>2</th>\n",
              "      <td>Abbotsford</td>\n",
              "      <td>5 Charles St</td>\n",
              "      <td>3</td>\n",
              "      <td>h</td>\n",
              "      <td>1465000.0</td>\n",
              "      <td>SP</td>\n",
              "      <td>Biggin</td>\n",
              "      <td>4/03/2017</td>\n",
              "      <td>2.5</td>\n",
              "      <td>3067.0</td>\n",
              "      <td>3.0</td>\n",
              "      <td>2.0</td>\n",
              "      <td>134.0</td>\n",
              "      <td>-37.8093</td>\n",
              "      <td>144.9944</td>\n",
              "      <td>Northern Metropolitan</td>\n",
              "      <td>4019.0</td>\n",
              "    </tr>\n",
              "    <tr>\n",
              "      <th>3</th>\n",
              "      <td>Abbotsford</td>\n",
              "      <td>40 Federation La</td>\n",
              "      <td>3</td>\n",
              "      <td>h</td>\n",
              "      <td>850000.0</td>\n",
              "      <td>PI</td>\n",
              "      <td>Biggin</td>\n",
              "      <td>4/03/2017</td>\n",
              "      <td>2.5</td>\n",
              "      <td>3067.0</td>\n",
              "      <td>3.0</td>\n",
              "      <td>2.0</td>\n",
              "      <td>94.0</td>\n",
              "      <td>-37.7969</td>\n",
              "      <td>144.9969</td>\n",
              "      <td>Northern Metropolitan</td>\n",
              "      <td>4019.0</td>\n",
              "    </tr>\n",
              "    <tr>\n",
              "      <th>4</th>\n",
              "      <td>Abbotsford</td>\n",
              "      <td>55a Park St</td>\n",
              "      <td>4</td>\n",
              "      <td>h</td>\n",
              "      <td>1600000.0</td>\n",
              "      <td>VB</td>\n",
              "      <td>Nelson</td>\n",
              "      <td>4/06/2016</td>\n",
              "      <td>2.5</td>\n",
              "      <td>3067.0</td>\n",
              "      <td>3.0</td>\n",
              "      <td>1.0</td>\n",
              "      <td>120.0</td>\n",
              "      <td>-37.8072</td>\n",
              "      <td>144.9941</td>\n",
              "      <td>Northern Metropolitan</td>\n",
              "      <td>4019.0</td>\n",
              "    </tr>\n",
              "  </tbody>\n",
              "</table>\n",
              "</div>"
            ],
            "text/plain": [
              "       Suburb           Address  ...             Regionname Propertycount\n",
              "0  Abbotsford      85 Turner St  ...  Northern Metropolitan        4019.0\n",
              "1  Abbotsford   25 Bloomburg St  ...  Northern Metropolitan        4019.0\n",
              "2  Abbotsford      5 Charles St  ...  Northern Metropolitan        4019.0\n",
              "3  Abbotsford  40 Federation La  ...  Northern Metropolitan        4019.0\n",
              "4  Abbotsford       55a Park St  ...  Northern Metropolitan        4019.0\n",
              "\n",
              "[5 rows x 17 columns]"
            ]
          },
          "metadata": {
            "tags": []
          },
          "execution_count": 18
        }
      ]
    },
    {
      "cell_type": "code",
      "metadata": {
        "colab": {
          "base_uri": "https://localhost:8080/",
          "height": 320
        },
        "id": "GeCEW2sgi_Vq",
        "outputId": "e74319b7-d0f5-4403-fb9d-9ea44f4faa0c"
      },
      "source": [
        "df11.describe()"
      ],
      "execution_count": 19,
      "outputs": [
        {
          "output_type": "execute_result",
          "data": {
            "text/html": [
              "<div>\n",
              "<style scoped>\n",
              "    .dataframe tbody tr th:only-of-type {\n",
              "        vertical-align: middle;\n",
              "    }\n",
              "\n",
              "    .dataframe tbody tr th {\n",
              "        vertical-align: top;\n",
              "    }\n",
              "\n",
              "    .dataframe thead th {\n",
              "        text-align: right;\n",
              "    }\n",
              "</style>\n",
              "<table border=\"1\" class=\"dataframe\">\n",
              "  <thead>\n",
              "    <tr style=\"text-align: right;\">\n",
              "      <th></th>\n",
              "      <th>Rooms</th>\n",
              "      <th>Price</th>\n",
              "      <th>Distance</th>\n",
              "      <th>Postcode</th>\n",
              "      <th>Bedroom2</th>\n",
              "      <th>Bathroom</th>\n",
              "      <th>Landsize</th>\n",
              "      <th>Lattitude</th>\n",
              "      <th>Longtitude</th>\n",
              "      <th>Propertycount</th>\n",
              "    </tr>\n",
              "  </thead>\n",
              "  <tbody>\n",
              "    <tr>\n",
              "      <th>count</th>\n",
              "      <td>13580.000000</td>\n",
              "      <td>1.358000e+04</td>\n",
              "      <td>13580.000000</td>\n",
              "      <td>13580.000000</td>\n",
              "      <td>13580.000000</td>\n",
              "      <td>13580.000000</td>\n",
              "      <td>13580.000000</td>\n",
              "      <td>13580.000000</td>\n",
              "      <td>13580.000000</td>\n",
              "      <td>13580.000000</td>\n",
              "    </tr>\n",
              "    <tr>\n",
              "      <th>mean</th>\n",
              "      <td>2.937997</td>\n",
              "      <td>1.075684e+06</td>\n",
              "      <td>10.137776</td>\n",
              "      <td>3105.301915</td>\n",
              "      <td>2.914728</td>\n",
              "      <td>1.534242</td>\n",
              "      <td>558.416127</td>\n",
              "      <td>-37.809203</td>\n",
              "      <td>144.995216</td>\n",
              "      <td>7454.417378</td>\n",
              "    </tr>\n",
              "    <tr>\n",
              "      <th>std</th>\n",
              "      <td>0.955748</td>\n",
              "      <td>6.393107e+05</td>\n",
              "      <td>5.868725</td>\n",
              "      <td>90.676964</td>\n",
              "      <td>0.965921</td>\n",
              "      <td>0.691712</td>\n",
              "      <td>3990.669241</td>\n",
              "      <td>0.079260</td>\n",
              "      <td>0.103916</td>\n",
              "      <td>4378.581772</td>\n",
              "    </tr>\n",
              "    <tr>\n",
              "      <th>min</th>\n",
              "      <td>1.000000</td>\n",
              "      <td>8.500000e+04</td>\n",
              "      <td>0.000000</td>\n",
              "      <td>3000.000000</td>\n",
              "      <td>0.000000</td>\n",
              "      <td>0.000000</td>\n",
              "      <td>0.000000</td>\n",
              "      <td>-38.182550</td>\n",
              "      <td>144.431810</td>\n",
              "      <td>249.000000</td>\n",
              "    </tr>\n",
              "    <tr>\n",
              "      <th>25%</th>\n",
              "      <td>2.000000</td>\n",
              "      <td>6.500000e+05</td>\n",
              "      <td>6.100000</td>\n",
              "      <td>3044.000000</td>\n",
              "      <td>2.000000</td>\n",
              "      <td>1.000000</td>\n",
              "      <td>177.000000</td>\n",
              "      <td>-37.856822</td>\n",
              "      <td>144.929600</td>\n",
              "      <td>4380.000000</td>\n",
              "    </tr>\n",
              "    <tr>\n",
              "      <th>50%</th>\n",
              "      <td>3.000000</td>\n",
              "      <td>9.030000e+05</td>\n",
              "      <td>9.200000</td>\n",
              "      <td>3084.000000</td>\n",
              "      <td>3.000000</td>\n",
              "      <td>1.000000</td>\n",
              "      <td>440.000000</td>\n",
              "      <td>-37.802355</td>\n",
              "      <td>145.000100</td>\n",
              "      <td>6555.000000</td>\n",
              "    </tr>\n",
              "    <tr>\n",
              "      <th>75%</th>\n",
              "      <td>3.000000</td>\n",
              "      <td>1.330000e+06</td>\n",
              "      <td>13.000000</td>\n",
              "      <td>3148.000000</td>\n",
              "      <td>3.000000</td>\n",
              "      <td>2.000000</td>\n",
              "      <td>651.000000</td>\n",
              "      <td>-37.756400</td>\n",
              "      <td>145.058305</td>\n",
              "      <td>10331.000000</td>\n",
              "    </tr>\n",
              "    <tr>\n",
              "      <th>max</th>\n",
              "      <td>10.000000</td>\n",
              "      <td>9.000000e+06</td>\n",
              "      <td>48.100000</td>\n",
              "      <td>3977.000000</td>\n",
              "      <td>20.000000</td>\n",
              "      <td>8.000000</td>\n",
              "      <td>433014.000000</td>\n",
              "      <td>-37.408530</td>\n",
              "      <td>145.526350</td>\n",
              "      <td>21650.000000</td>\n",
              "    </tr>\n",
              "  </tbody>\n",
              "</table>\n",
              "</div>"
            ],
            "text/plain": [
              "              Rooms         Price  ...    Longtitude  Propertycount\n",
              "count  13580.000000  1.358000e+04  ...  13580.000000   13580.000000\n",
              "mean       2.937997  1.075684e+06  ...    144.995216    7454.417378\n",
              "std        0.955748  6.393107e+05  ...      0.103916    4378.581772\n",
              "min        1.000000  8.500000e+04  ...    144.431810     249.000000\n",
              "25%        2.000000  6.500000e+05  ...    144.929600    4380.000000\n",
              "50%        3.000000  9.030000e+05  ...    145.000100    6555.000000\n",
              "75%        3.000000  1.330000e+06  ...    145.058305   10331.000000\n",
              "max       10.000000  9.000000e+06  ...    145.526350   21650.000000\n",
              "\n",
              "[8 rows x 10 columns]"
            ]
          },
          "metadata": {
            "tags": []
          },
          "execution_count": 19
        }
      ]
    },
    {
      "cell_type": "code",
      "metadata": {
        "id": "Sp2Lz2t4jdsx"
      },
      "source": [
        "df1_cols = [col for col in df1.columns \n",
        "            if df1[col].isnull().any()]"
      ],
      "execution_count": 20,
      "outputs": []
    },
    {
      "cell_type": "code",
      "metadata": {
        "colab": {
          "base_uri": "https://localhost:8080/"
        },
        "id": "ESsaCwFajnJS",
        "outputId": "48d92828-8e3f-47cd-93af-ce687d90386e"
      },
      "source": [
        "print(df1_cols)"
      ],
      "execution_count": 21,
      "outputs": [
        {
          "output_type": "stream",
          "text": [
            "['Car', 'BuildingArea', 'YearBuilt', 'CouncilArea']\n"
          ],
          "name": "stdout"
        }
      ]
    },
    {
      "cell_type": "code",
      "metadata": {
        "id": "jmKaqhNbjtmw"
      },
      "source": [
        "df12 = df1.drop(df1_cols, axis=1)"
      ],
      "execution_count": 22,
      "outputs": []
    },
    {
      "cell_type": "code",
      "metadata": {
        "colab": {
          "base_uri": "https://localhost:8080/",
          "height": 347
        },
        "id": "RffI8KZZj2EI",
        "outputId": "b9866891-2c30-4682-e5de-40fb58bc6f20"
      },
      "source": [
        "df12.head()"
      ],
      "execution_count": 23,
      "outputs": [
        {
          "output_type": "execute_result",
          "data": {
            "text/html": [
              "<div>\n",
              "<style scoped>\n",
              "    .dataframe tbody tr th:only-of-type {\n",
              "        vertical-align: middle;\n",
              "    }\n",
              "\n",
              "    .dataframe tbody tr th {\n",
              "        vertical-align: top;\n",
              "    }\n",
              "\n",
              "    .dataframe thead th {\n",
              "        text-align: right;\n",
              "    }\n",
              "</style>\n",
              "<table border=\"1\" class=\"dataframe\">\n",
              "  <thead>\n",
              "    <tr style=\"text-align: right;\">\n",
              "      <th></th>\n",
              "      <th>Suburb</th>\n",
              "      <th>Address</th>\n",
              "      <th>Rooms</th>\n",
              "      <th>Type</th>\n",
              "      <th>Price</th>\n",
              "      <th>Method</th>\n",
              "      <th>SellerG</th>\n",
              "      <th>Date</th>\n",
              "      <th>Distance</th>\n",
              "      <th>Postcode</th>\n",
              "      <th>Bedroom2</th>\n",
              "      <th>Bathroom</th>\n",
              "      <th>Landsize</th>\n",
              "      <th>Lattitude</th>\n",
              "      <th>Longtitude</th>\n",
              "      <th>Regionname</th>\n",
              "      <th>Propertycount</th>\n",
              "    </tr>\n",
              "  </thead>\n",
              "  <tbody>\n",
              "    <tr>\n",
              "      <th>0</th>\n",
              "      <td>Abbotsford</td>\n",
              "      <td>85 Turner St</td>\n",
              "      <td>2</td>\n",
              "      <td>h</td>\n",
              "      <td>1480000.0</td>\n",
              "      <td>S</td>\n",
              "      <td>Biggin</td>\n",
              "      <td>3/12/2016</td>\n",
              "      <td>2.5</td>\n",
              "      <td>3067.0</td>\n",
              "      <td>2.0</td>\n",
              "      <td>1.0</td>\n",
              "      <td>202.0</td>\n",
              "      <td>-37.7996</td>\n",
              "      <td>144.9984</td>\n",
              "      <td>Northern Metropolitan</td>\n",
              "      <td>4019.0</td>\n",
              "    </tr>\n",
              "    <tr>\n",
              "      <th>1</th>\n",
              "      <td>Abbotsford</td>\n",
              "      <td>25 Bloomburg St</td>\n",
              "      <td>2</td>\n",
              "      <td>h</td>\n",
              "      <td>1035000.0</td>\n",
              "      <td>S</td>\n",
              "      <td>Biggin</td>\n",
              "      <td>4/02/2016</td>\n",
              "      <td>2.5</td>\n",
              "      <td>3067.0</td>\n",
              "      <td>2.0</td>\n",
              "      <td>1.0</td>\n",
              "      <td>156.0</td>\n",
              "      <td>-37.8079</td>\n",
              "      <td>144.9934</td>\n",
              "      <td>Northern Metropolitan</td>\n",
              "      <td>4019.0</td>\n",
              "    </tr>\n",
              "    <tr>\n",
              "      <th>2</th>\n",
              "      <td>Abbotsford</td>\n",
              "      <td>5 Charles St</td>\n",
              "      <td>3</td>\n",
              "      <td>h</td>\n",
              "      <td>1465000.0</td>\n",
              "      <td>SP</td>\n",
              "      <td>Biggin</td>\n",
              "      <td>4/03/2017</td>\n",
              "      <td>2.5</td>\n",
              "      <td>3067.0</td>\n",
              "      <td>3.0</td>\n",
              "      <td>2.0</td>\n",
              "      <td>134.0</td>\n",
              "      <td>-37.8093</td>\n",
              "      <td>144.9944</td>\n",
              "      <td>Northern Metropolitan</td>\n",
              "      <td>4019.0</td>\n",
              "    </tr>\n",
              "    <tr>\n",
              "      <th>3</th>\n",
              "      <td>Abbotsford</td>\n",
              "      <td>40 Federation La</td>\n",
              "      <td>3</td>\n",
              "      <td>h</td>\n",
              "      <td>850000.0</td>\n",
              "      <td>PI</td>\n",
              "      <td>Biggin</td>\n",
              "      <td>4/03/2017</td>\n",
              "      <td>2.5</td>\n",
              "      <td>3067.0</td>\n",
              "      <td>3.0</td>\n",
              "      <td>2.0</td>\n",
              "      <td>94.0</td>\n",
              "      <td>-37.7969</td>\n",
              "      <td>144.9969</td>\n",
              "      <td>Northern Metropolitan</td>\n",
              "      <td>4019.0</td>\n",
              "    </tr>\n",
              "    <tr>\n",
              "      <th>4</th>\n",
              "      <td>Abbotsford</td>\n",
              "      <td>55a Park St</td>\n",
              "      <td>4</td>\n",
              "      <td>h</td>\n",
              "      <td>1600000.0</td>\n",
              "      <td>VB</td>\n",
              "      <td>Nelson</td>\n",
              "      <td>4/06/2016</td>\n",
              "      <td>2.5</td>\n",
              "      <td>3067.0</td>\n",
              "      <td>3.0</td>\n",
              "      <td>1.0</td>\n",
              "      <td>120.0</td>\n",
              "      <td>-37.8072</td>\n",
              "      <td>144.9941</td>\n",
              "      <td>Northern Metropolitan</td>\n",
              "      <td>4019.0</td>\n",
              "    </tr>\n",
              "  </tbody>\n",
              "</table>\n",
              "</div>"
            ],
            "text/plain": [
              "       Suburb           Address  ...             Regionname Propertycount\n",
              "0  Abbotsford      85 Turner St  ...  Northern Metropolitan        4019.0\n",
              "1  Abbotsford   25 Bloomburg St  ...  Northern Metropolitan        4019.0\n",
              "2  Abbotsford      5 Charles St  ...  Northern Metropolitan        4019.0\n",
              "3  Abbotsford  40 Federation La  ...  Northern Metropolitan        4019.0\n",
              "4  Abbotsford       55a Park St  ...  Northern Metropolitan        4019.0\n",
              "\n",
              "[5 rows x 17 columns]"
            ]
          },
          "metadata": {
            "tags": []
          },
          "execution_count": 23
        }
      ]
    },
    {
      "cell_type": "code",
      "metadata": {
        "colab": {
          "base_uri": "https://localhost:8080/",
          "height": 320
        },
        "id": "A11UES7Oj3eB",
        "outputId": "951a0e44-c2b8-4966-d286-7d032e426e7c"
      },
      "source": [
        "df12.describe()"
      ],
      "execution_count": 24,
      "outputs": [
        {
          "output_type": "execute_result",
          "data": {
            "text/html": [
              "<div>\n",
              "<style scoped>\n",
              "    .dataframe tbody tr th:only-of-type {\n",
              "        vertical-align: middle;\n",
              "    }\n",
              "\n",
              "    .dataframe tbody tr th {\n",
              "        vertical-align: top;\n",
              "    }\n",
              "\n",
              "    .dataframe thead th {\n",
              "        text-align: right;\n",
              "    }\n",
              "</style>\n",
              "<table border=\"1\" class=\"dataframe\">\n",
              "  <thead>\n",
              "    <tr style=\"text-align: right;\">\n",
              "      <th></th>\n",
              "      <th>Rooms</th>\n",
              "      <th>Price</th>\n",
              "      <th>Distance</th>\n",
              "      <th>Postcode</th>\n",
              "      <th>Bedroom2</th>\n",
              "      <th>Bathroom</th>\n",
              "      <th>Landsize</th>\n",
              "      <th>Lattitude</th>\n",
              "      <th>Longtitude</th>\n",
              "      <th>Propertycount</th>\n",
              "    </tr>\n",
              "  </thead>\n",
              "  <tbody>\n",
              "    <tr>\n",
              "      <th>count</th>\n",
              "      <td>13580.000000</td>\n",
              "      <td>1.358000e+04</td>\n",
              "      <td>13580.000000</td>\n",
              "      <td>13580.000000</td>\n",
              "      <td>13580.000000</td>\n",
              "      <td>13580.000000</td>\n",
              "      <td>13580.000000</td>\n",
              "      <td>13580.000000</td>\n",
              "      <td>13580.000000</td>\n",
              "      <td>13580.000000</td>\n",
              "    </tr>\n",
              "    <tr>\n",
              "      <th>mean</th>\n",
              "      <td>2.937997</td>\n",
              "      <td>1.075684e+06</td>\n",
              "      <td>10.137776</td>\n",
              "      <td>3105.301915</td>\n",
              "      <td>2.914728</td>\n",
              "      <td>1.534242</td>\n",
              "      <td>558.416127</td>\n",
              "      <td>-37.809203</td>\n",
              "      <td>144.995216</td>\n",
              "      <td>7454.417378</td>\n",
              "    </tr>\n",
              "    <tr>\n",
              "      <th>std</th>\n",
              "      <td>0.955748</td>\n",
              "      <td>6.393107e+05</td>\n",
              "      <td>5.868725</td>\n",
              "      <td>90.676964</td>\n",
              "      <td>0.965921</td>\n",
              "      <td>0.691712</td>\n",
              "      <td>3990.669241</td>\n",
              "      <td>0.079260</td>\n",
              "      <td>0.103916</td>\n",
              "      <td>4378.581772</td>\n",
              "    </tr>\n",
              "    <tr>\n",
              "      <th>min</th>\n",
              "      <td>1.000000</td>\n",
              "      <td>8.500000e+04</td>\n",
              "      <td>0.000000</td>\n",
              "      <td>3000.000000</td>\n",
              "      <td>0.000000</td>\n",
              "      <td>0.000000</td>\n",
              "      <td>0.000000</td>\n",
              "      <td>-38.182550</td>\n",
              "      <td>144.431810</td>\n",
              "      <td>249.000000</td>\n",
              "    </tr>\n",
              "    <tr>\n",
              "      <th>25%</th>\n",
              "      <td>2.000000</td>\n",
              "      <td>6.500000e+05</td>\n",
              "      <td>6.100000</td>\n",
              "      <td>3044.000000</td>\n",
              "      <td>2.000000</td>\n",
              "      <td>1.000000</td>\n",
              "      <td>177.000000</td>\n",
              "      <td>-37.856822</td>\n",
              "      <td>144.929600</td>\n",
              "      <td>4380.000000</td>\n",
              "    </tr>\n",
              "    <tr>\n",
              "      <th>50%</th>\n",
              "      <td>3.000000</td>\n",
              "      <td>9.030000e+05</td>\n",
              "      <td>9.200000</td>\n",
              "      <td>3084.000000</td>\n",
              "      <td>3.000000</td>\n",
              "      <td>1.000000</td>\n",
              "      <td>440.000000</td>\n",
              "      <td>-37.802355</td>\n",
              "      <td>145.000100</td>\n",
              "      <td>6555.000000</td>\n",
              "    </tr>\n",
              "    <tr>\n",
              "      <th>75%</th>\n",
              "      <td>3.000000</td>\n",
              "      <td>1.330000e+06</td>\n",
              "      <td>13.000000</td>\n",
              "      <td>3148.000000</td>\n",
              "      <td>3.000000</td>\n",
              "      <td>2.000000</td>\n",
              "      <td>651.000000</td>\n",
              "      <td>-37.756400</td>\n",
              "      <td>145.058305</td>\n",
              "      <td>10331.000000</td>\n",
              "    </tr>\n",
              "    <tr>\n",
              "      <th>max</th>\n",
              "      <td>10.000000</td>\n",
              "      <td>9.000000e+06</td>\n",
              "      <td>48.100000</td>\n",
              "      <td>3977.000000</td>\n",
              "      <td>20.000000</td>\n",
              "      <td>8.000000</td>\n",
              "      <td>433014.000000</td>\n",
              "      <td>-37.408530</td>\n",
              "      <td>145.526350</td>\n",
              "      <td>21650.000000</td>\n",
              "    </tr>\n",
              "  </tbody>\n",
              "</table>\n",
              "</div>"
            ],
            "text/plain": [
              "              Rooms         Price  ...    Longtitude  Propertycount\n",
              "count  13580.000000  1.358000e+04  ...  13580.000000   13580.000000\n",
              "mean       2.937997  1.075684e+06  ...    144.995216    7454.417378\n",
              "std        0.955748  6.393107e+05  ...      0.103916    4378.581772\n",
              "min        1.000000  8.500000e+04  ...    144.431810     249.000000\n",
              "25%        2.000000  6.500000e+05  ...    144.929600    4380.000000\n",
              "50%        3.000000  9.030000e+05  ...    145.000100    6555.000000\n",
              "75%        3.000000  1.330000e+06  ...    145.058305   10331.000000\n",
              "max       10.000000  9.000000e+06  ...    145.526350   21650.000000\n",
              "\n",
              "[8 rows x 10 columns]"
            ]
          },
          "metadata": {
            "tags": []
          },
          "execution_count": 24
        }
      ]
    },
    {
      "cell_type": "markdown",
      "metadata": {
        "id": "IJNm4oOAlkEw"
      },
      "source": [
        "*So, it's somewhat usually not the best solution. However, it can be useful when most values in a column are missing.*"
      ]
    },
    {
      "cell_type": "markdown",
      "metadata": {
        "id": "ZRpseaA1scgZ"
      },
      "source": [
        "#### **Imputation**\n",
        "*Imputation is the standard approach, and it usually works well. However, imputed values may by systematically above or below their actual values (which weren't collected in the dataset). Or rows with missing values may be unique in some other way.*"
      ]
    },
    {
      "cell_type": "code",
      "metadata": {
        "id": "34kljwUbqf2K"
      },
      "source": [
        "df13 = df1.select_dtypes(exclude=['object'])"
      ],
      "execution_count": 25,
      "outputs": []
    },
    {
      "cell_type": "code",
      "metadata": {
        "id": "62zjUMvyodL_"
      },
      "source": [
        "im1 = SimpleImputer()\n",
        "df14 = im1.fit_transform(df13)"
      ],
      "execution_count": 26,
      "outputs": []
    },
    {
      "cell_type": "code",
      "metadata": {
        "colab": {
          "base_uri": "https://localhost:8080/"
        },
        "id": "DFmBN64uyYAG",
        "outputId": "0d088f64-7013-4df8-b1ca-f4885fff04f5"
      },
      "source": [
        "print(df14)"
      ],
      "execution_count": 27,
      "outputs": [
        {
          "output_type": "stream",
          "text": [
            "[[ 2.0000000e+00  1.4800000e+06  2.5000000e+00 ... -3.7799600e+01\n",
            "   1.4499840e+02  4.0190000e+03]\n",
            " [ 2.0000000e+00  1.0350000e+06  2.5000000e+00 ... -3.7807900e+01\n",
            "   1.4499340e+02  4.0190000e+03]\n",
            " [ 3.0000000e+00  1.4650000e+06  2.5000000e+00 ... -3.7809300e+01\n",
            "   1.4499440e+02  4.0190000e+03]\n",
            " ...\n",
            " [ 3.0000000e+00  1.1700000e+06  6.8000000e+00 ... -3.7852740e+01\n",
            "   1.4488738e+02  6.3800000e+03]\n",
            " [ 4.0000000e+00  2.5000000e+06  6.8000000e+00 ... -3.7859080e+01\n",
            "   1.4489299e+02  6.3800000e+03]\n",
            " [ 4.0000000e+00  1.2850000e+06  6.3000000e+00 ... -3.7811880e+01\n",
            "   1.4488449e+02  6.5430000e+03]]\n"
          ],
          "name": "stdout"
        }
      ]
    },
    {
      "cell_type": "markdown",
      "metadata": {
        "id": "ui9CJQukJwaS"
      },
      "source": [
        "#### **Comparitive Study**\n",
        "*Let's see which method is better for dealing with the missing values in this dataset*"
      ]
    },
    {
      "cell_type": "code",
      "metadata": {
        "id": "XWjDAvGGKFeh"
      },
      "source": [
        "x1 = df1.drop(['Price'], axis=1)               # Predictors\n",
        "y1 = df1.Price                                 # Target\n",
        "x1_num = x1.select_dtypes(exclude=['object'])  # Numeric Predictors"
      ],
      "execution_count": 28,
      "outputs": []
    },
    {
      "cell_type": "code",
      "metadata": {
        "id": "XtIpJoC_KtM-"
      },
      "source": [
        "xtrain1, xtest1, ytrain1, ytest1 = train_test_split(x1_num,y1,train_size=0.7,\n",
        "                                                    test_size=0.3,random_state=0)"
      ],
      "execution_count": 29,
      "outputs": []
    },
    {
      "cell_type": "code",
      "metadata": {
        "id": "vYk4TZ76LOPb"
      },
      "source": [
        "def score_dataset_1(xtrain1, xtest1, ytrain1, ytest1):\n",
        "    model1 = RandomForestRegressor()\n",
        "    model1.fit(xtrain1, ytrain1)\n",
        "    p1 = model1.predict(xtest1)\n",
        "    return mean_absolute_error(ytest1, p1)"
      ],
      "execution_count": 30,
      "outputs": []
    },
    {
      "cell_type": "code",
      "metadata": {
        "colab": {
          "base_uri": "https://localhost:8080/"
        },
        "id": "_PluuPW9LhPq",
        "outputId": "cfd37955-c7b0-43a3-85d3-a0da752cac8a"
      },
      "source": [
        "# Dropping Values\n",
        "df15 = [col for col in xtrain1.columns if xtrain1[col].isnull().any()]\n",
        "red_xtrain1 = xtrain1.drop(df15, axis=1)\n",
        "red_xtest1  = xtest1.drop(df15, axis=1)\n",
        "print(\"Mean Absolute Error from Dropping columns with Missing Values:\")\n",
        "print(score_dataset_1(red_xtrain1, red_xtest1, ytrain1, ytest1))"
      ],
      "execution_count": 31,
      "outputs": [
        {
          "output_type": "stream",
          "text": [
            "Mean Absolute Error from Dropping columns with Missing Values:\n",
            "181118.67821935075\n"
          ],
          "name": "stdout"
        }
      ]
    },
    {
      "cell_type": "code",
      "metadata": {
        "colab": {
          "base_uri": "https://localhost:8080/"
        },
        "id": "CgxXdmsRMB8H",
        "outputId": "4b86c2ab-3f7e-4126-fb1d-470bf602f85c"
      },
      "source": [
        "# Imputation\n",
        "im2 = SimpleImputer()\n",
        "imp_xtrain1 = im2.fit_transform(xtrain1)\n",
        "imp_xtest1 = im2.transform(xtest1)\n",
        "print(\"Mean Absolute Error from Imputation:\")\n",
        "print(score_dataset_1(imp_xtrain1, imp_xtest1, ytrain1, ytest1))"
      ],
      "execution_count": 32,
      "outputs": [
        {
          "output_type": "stream",
          "text": [
            "Mean Absolute Error from Imputation:\n",
            "174206.7743274423\n"
          ],
          "name": "stdout"
        }
      ]
    },
    {
      "cell_type": "markdown",
      "metadata": {
        "id": "IlGlGEWHNUIJ"
      },
      "source": [
        "*Mean Absolute Error from Imputation is lesser. Using this method will help us to improve the model compared to dropping values*"
      ]
    },
    {
      "cell_type": "markdown",
      "metadata": {
        "id": "y1wzGQNVZrrs"
      },
      "source": [
        "# **2. Handling categorical data**"
      ]
    },
    {
      "cell_type": "markdown",
      "metadata": {
        "id": "brcVXKcNvd_r"
      },
      "source": [
        "## References\n",
        "- https://pbpython.com/categorical-encoding.html\n",
        "- https://analyticsindiamag.com/complete-guide-to-handling-categorical-data-using-scikit-learn/\n",
        "- https://towardsdatascience.com/handling-categorical-data-the-right-way-9d1279956fc6"
      ]
    },
    {
      "cell_type": "markdown",
      "metadata": {
        "id": "gqsJyWs0wtv6"
      },
      "source": [
        "## Dataset\n",
        "- https://www.kaggle.com/dansbecker/melbourne-housing-snapshot/home?select=melb_data.csv"
      ]
    },
    {
      "cell_type": "markdown",
      "metadata": {
        "id": "ZXop1lJgwNPa"
      },
      "source": [
        "## Explanation\n",
        "*Categorical features have a lot to say about the dataset thus it should be converted to numerical to make it into a machine-readable format. Focusing only on numerical variables in the dataset isn’t enough to get good accuracy. Often categorical variables prove to be the most important factor and thus identify them. In many practical Data Science activities, the data set will contain categorical variables.*\n",
        "\n",
        "*These variables are typically stored as text values which represent various traits. Some examples include color (“Red”, “Yellow”, “Blue”), size (“Small”, “Medium”, “Large”) or geographic designations (State or Country). Regardless of what the value is used for, the challenge is determining how to use this data in the analysis. Many machine learning algorithms can support categorical values without further manipulation but there are many more algorithms that do not. Therefore, the analyst is faced with the challenge of figuring out how to turn these text attributes into numerical values for further processing.*\n",
        "\n",
        "*Currently, many resources advertise a wide variety of solutions that might seem to work at first, but are deeply wrong once thought through. This is especially true for non-ordinal categorical data, meaning that the classes are not ordered (As it might be for Good=0, Better=1, Best=2). A bit of clarity is needed to distinguish the approaches that Data Scientists should use from those that simply make the models run.*\n",
        "\n",
        "*Two major types of categorical features are:*\n",
        "- ***Nominal*** – *These are variables which are not related to each other in any order such as colour (black, blue, green).*\n",
        "- ***Ordinal*** – *These are variables where a certain order can be found between them such as student grades (A, B, C, D, Fail).*\n",
        "\n",
        "*There are many more ways by which categorical variables can be changed to numeric I’ve discussed some of the important and commonly used ones. Handling categorical variables is an important step for feature engineering. New variables can be formed by categorical variables and get more insight into the dataset.*"
      ]
    },
    {
      "cell_type": "markdown",
      "metadata": {
        "id": "_Q2mC0bTyYrI"
      },
      "source": [
        "## **Sample Program**"
      ]
    },
    {
      "cell_type": "markdown",
      "metadata": {
        "id": "6SBvtgm2Qtdd"
      },
      "source": [
        "#### Dataset Inspection"
      ]
    },
    {
      "cell_type": "code",
      "metadata": {
        "id": "WmzAXfqAvYqL"
      },
      "source": [
        "df2 = pd.read_csv('/content/T1/2.csv')"
      ],
      "execution_count": 33,
      "outputs": []
    },
    {
      "cell_type": "code",
      "metadata": {
        "colab": {
          "base_uri": "https://localhost:8080/",
          "height": 347
        },
        "id": "saqey1yPWNOR",
        "outputId": "8d490149-61ec-4919-f454-21889eb0b8e6"
      },
      "source": [
        "df2.head()"
      ],
      "execution_count": 34,
      "outputs": [
        {
          "output_type": "execute_result",
          "data": {
            "text/html": [
              "<div>\n",
              "<style scoped>\n",
              "    .dataframe tbody tr th:only-of-type {\n",
              "        vertical-align: middle;\n",
              "    }\n",
              "\n",
              "    .dataframe tbody tr th {\n",
              "        vertical-align: top;\n",
              "    }\n",
              "\n",
              "    .dataframe thead th {\n",
              "        text-align: right;\n",
              "    }\n",
              "</style>\n",
              "<table border=\"1\" class=\"dataframe\">\n",
              "  <thead>\n",
              "    <tr style=\"text-align: right;\">\n",
              "      <th></th>\n",
              "      <th>Suburb</th>\n",
              "      <th>Address</th>\n",
              "      <th>Rooms</th>\n",
              "      <th>Type</th>\n",
              "      <th>Price</th>\n",
              "      <th>Method</th>\n",
              "      <th>SellerG</th>\n",
              "      <th>Date</th>\n",
              "      <th>Distance</th>\n",
              "      <th>Postcode</th>\n",
              "      <th>Bedroom2</th>\n",
              "      <th>Bathroom</th>\n",
              "      <th>Car</th>\n",
              "      <th>Landsize</th>\n",
              "      <th>BuildingArea</th>\n",
              "      <th>YearBuilt</th>\n",
              "      <th>CouncilArea</th>\n",
              "      <th>Lattitude</th>\n",
              "      <th>Longtitude</th>\n",
              "      <th>Regionname</th>\n",
              "      <th>Propertycount</th>\n",
              "    </tr>\n",
              "  </thead>\n",
              "  <tbody>\n",
              "    <tr>\n",
              "      <th>0</th>\n",
              "      <td>Abbotsford</td>\n",
              "      <td>85 Turner St</td>\n",
              "      <td>2</td>\n",
              "      <td>h</td>\n",
              "      <td>1480000.0</td>\n",
              "      <td>S</td>\n",
              "      <td>Biggin</td>\n",
              "      <td>3/12/2016</td>\n",
              "      <td>2.5</td>\n",
              "      <td>3067.0</td>\n",
              "      <td>2.0</td>\n",
              "      <td>1.0</td>\n",
              "      <td>1.0</td>\n",
              "      <td>202.0</td>\n",
              "      <td>NaN</td>\n",
              "      <td>NaN</td>\n",
              "      <td>Yarra</td>\n",
              "      <td>-37.7996</td>\n",
              "      <td>144.9984</td>\n",
              "      <td>Northern Metropolitan</td>\n",
              "      <td>4019.0</td>\n",
              "    </tr>\n",
              "    <tr>\n",
              "      <th>1</th>\n",
              "      <td>Abbotsford</td>\n",
              "      <td>25 Bloomburg St</td>\n",
              "      <td>2</td>\n",
              "      <td>h</td>\n",
              "      <td>1035000.0</td>\n",
              "      <td>S</td>\n",
              "      <td>Biggin</td>\n",
              "      <td>4/02/2016</td>\n",
              "      <td>2.5</td>\n",
              "      <td>3067.0</td>\n",
              "      <td>2.0</td>\n",
              "      <td>1.0</td>\n",
              "      <td>0.0</td>\n",
              "      <td>156.0</td>\n",
              "      <td>79.0</td>\n",
              "      <td>1900.0</td>\n",
              "      <td>Yarra</td>\n",
              "      <td>-37.8079</td>\n",
              "      <td>144.9934</td>\n",
              "      <td>Northern Metropolitan</td>\n",
              "      <td>4019.0</td>\n",
              "    </tr>\n",
              "    <tr>\n",
              "      <th>2</th>\n",
              "      <td>Abbotsford</td>\n",
              "      <td>5 Charles St</td>\n",
              "      <td>3</td>\n",
              "      <td>h</td>\n",
              "      <td>1465000.0</td>\n",
              "      <td>SP</td>\n",
              "      <td>Biggin</td>\n",
              "      <td>4/03/2017</td>\n",
              "      <td>2.5</td>\n",
              "      <td>3067.0</td>\n",
              "      <td>3.0</td>\n",
              "      <td>2.0</td>\n",
              "      <td>0.0</td>\n",
              "      <td>134.0</td>\n",
              "      <td>150.0</td>\n",
              "      <td>1900.0</td>\n",
              "      <td>Yarra</td>\n",
              "      <td>-37.8093</td>\n",
              "      <td>144.9944</td>\n",
              "      <td>Northern Metropolitan</td>\n",
              "      <td>4019.0</td>\n",
              "    </tr>\n",
              "    <tr>\n",
              "      <th>3</th>\n",
              "      <td>Abbotsford</td>\n",
              "      <td>40 Federation La</td>\n",
              "      <td>3</td>\n",
              "      <td>h</td>\n",
              "      <td>850000.0</td>\n",
              "      <td>PI</td>\n",
              "      <td>Biggin</td>\n",
              "      <td>4/03/2017</td>\n",
              "      <td>2.5</td>\n",
              "      <td>3067.0</td>\n",
              "      <td>3.0</td>\n",
              "      <td>2.0</td>\n",
              "      <td>1.0</td>\n",
              "      <td>94.0</td>\n",
              "      <td>NaN</td>\n",
              "      <td>NaN</td>\n",
              "      <td>Yarra</td>\n",
              "      <td>-37.7969</td>\n",
              "      <td>144.9969</td>\n",
              "      <td>Northern Metropolitan</td>\n",
              "      <td>4019.0</td>\n",
              "    </tr>\n",
              "    <tr>\n",
              "      <th>4</th>\n",
              "      <td>Abbotsford</td>\n",
              "      <td>55a Park St</td>\n",
              "      <td>4</td>\n",
              "      <td>h</td>\n",
              "      <td>1600000.0</td>\n",
              "      <td>VB</td>\n",
              "      <td>Nelson</td>\n",
              "      <td>4/06/2016</td>\n",
              "      <td>2.5</td>\n",
              "      <td>3067.0</td>\n",
              "      <td>3.0</td>\n",
              "      <td>1.0</td>\n",
              "      <td>2.0</td>\n",
              "      <td>120.0</td>\n",
              "      <td>142.0</td>\n",
              "      <td>2014.0</td>\n",
              "      <td>Yarra</td>\n",
              "      <td>-37.8072</td>\n",
              "      <td>144.9941</td>\n",
              "      <td>Northern Metropolitan</td>\n",
              "      <td>4019.0</td>\n",
              "    </tr>\n",
              "  </tbody>\n",
              "</table>\n",
              "</div>"
            ],
            "text/plain": [
              "       Suburb           Address  ...             Regionname Propertycount\n",
              "0  Abbotsford      85 Turner St  ...  Northern Metropolitan        4019.0\n",
              "1  Abbotsford   25 Bloomburg St  ...  Northern Metropolitan        4019.0\n",
              "2  Abbotsford      5 Charles St  ...  Northern Metropolitan        4019.0\n",
              "3  Abbotsford  40 Federation La  ...  Northern Metropolitan        4019.0\n",
              "4  Abbotsford       55a Park St  ...  Northern Metropolitan        4019.0\n",
              "\n",
              "[5 rows x 21 columns]"
            ]
          },
          "metadata": {
            "tags": []
          },
          "execution_count": 34
        }
      ]
    },
    {
      "cell_type": "code",
      "metadata": {
        "colab": {
          "base_uri": "https://localhost:8080/",
          "height": 320
        },
        "id": "T3jmsHQ_WkjM",
        "outputId": "d3424f0c-6be1-43e0-d74a-188cd5333511"
      },
      "source": [
        "df2.describe()"
      ],
      "execution_count": 35,
      "outputs": [
        {
          "output_type": "execute_result",
          "data": {
            "text/html": [
              "<div>\n",
              "<style scoped>\n",
              "    .dataframe tbody tr th:only-of-type {\n",
              "        vertical-align: middle;\n",
              "    }\n",
              "\n",
              "    .dataframe tbody tr th {\n",
              "        vertical-align: top;\n",
              "    }\n",
              "\n",
              "    .dataframe thead th {\n",
              "        text-align: right;\n",
              "    }\n",
              "</style>\n",
              "<table border=\"1\" class=\"dataframe\">\n",
              "  <thead>\n",
              "    <tr style=\"text-align: right;\">\n",
              "      <th></th>\n",
              "      <th>Rooms</th>\n",
              "      <th>Price</th>\n",
              "      <th>Distance</th>\n",
              "      <th>Postcode</th>\n",
              "      <th>Bedroom2</th>\n",
              "      <th>Bathroom</th>\n",
              "      <th>Car</th>\n",
              "      <th>Landsize</th>\n",
              "      <th>BuildingArea</th>\n",
              "      <th>YearBuilt</th>\n",
              "      <th>Lattitude</th>\n",
              "      <th>Longtitude</th>\n",
              "      <th>Propertycount</th>\n",
              "    </tr>\n",
              "  </thead>\n",
              "  <tbody>\n",
              "    <tr>\n",
              "      <th>count</th>\n",
              "      <td>13580.000000</td>\n",
              "      <td>1.358000e+04</td>\n",
              "      <td>13580.000000</td>\n",
              "      <td>13580.000000</td>\n",
              "      <td>13580.000000</td>\n",
              "      <td>13580.000000</td>\n",
              "      <td>13518.000000</td>\n",
              "      <td>13580.000000</td>\n",
              "      <td>7130.000000</td>\n",
              "      <td>8205.000000</td>\n",
              "      <td>13580.000000</td>\n",
              "      <td>13580.000000</td>\n",
              "      <td>13580.000000</td>\n",
              "    </tr>\n",
              "    <tr>\n",
              "      <th>mean</th>\n",
              "      <td>2.937997</td>\n",
              "      <td>1.075684e+06</td>\n",
              "      <td>10.137776</td>\n",
              "      <td>3105.301915</td>\n",
              "      <td>2.914728</td>\n",
              "      <td>1.534242</td>\n",
              "      <td>1.610075</td>\n",
              "      <td>558.416127</td>\n",
              "      <td>151.967650</td>\n",
              "      <td>1964.684217</td>\n",
              "      <td>-37.809203</td>\n",
              "      <td>144.995216</td>\n",
              "      <td>7454.417378</td>\n",
              "    </tr>\n",
              "    <tr>\n",
              "      <th>std</th>\n",
              "      <td>0.955748</td>\n",
              "      <td>6.393107e+05</td>\n",
              "      <td>5.868725</td>\n",
              "      <td>90.676964</td>\n",
              "      <td>0.965921</td>\n",
              "      <td>0.691712</td>\n",
              "      <td>0.962634</td>\n",
              "      <td>3990.669241</td>\n",
              "      <td>541.014538</td>\n",
              "      <td>37.273762</td>\n",
              "      <td>0.079260</td>\n",
              "      <td>0.103916</td>\n",
              "      <td>4378.581772</td>\n",
              "    </tr>\n",
              "    <tr>\n",
              "      <th>min</th>\n",
              "      <td>1.000000</td>\n",
              "      <td>8.500000e+04</td>\n",
              "      <td>0.000000</td>\n",
              "      <td>3000.000000</td>\n",
              "      <td>0.000000</td>\n",
              "      <td>0.000000</td>\n",
              "      <td>0.000000</td>\n",
              "      <td>0.000000</td>\n",
              "      <td>0.000000</td>\n",
              "      <td>1196.000000</td>\n",
              "      <td>-38.182550</td>\n",
              "      <td>144.431810</td>\n",
              "      <td>249.000000</td>\n",
              "    </tr>\n",
              "    <tr>\n",
              "      <th>25%</th>\n",
              "      <td>2.000000</td>\n",
              "      <td>6.500000e+05</td>\n",
              "      <td>6.100000</td>\n",
              "      <td>3044.000000</td>\n",
              "      <td>2.000000</td>\n",
              "      <td>1.000000</td>\n",
              "      <td>1.000000</td>\n",
              "      <td>177.000000</td>\n",
              "      <td>93.000000</td>\n",
              "      <td>1940.000000</td>\n",
              "      <td>-37.856822</td>\n",
              "      <td>144.929600</td>\n",
              "      <td>4380.000000</td>\n",
              "    </tr>\n",
              "    <tr>\n",
              "      <th>50%</th>\n",
              "      <td>3.000000</td>\n",
              "      <td>9.030000e+05</td>\n",
              "      <td>9.200000</td>\n",
              "      <td>3084.000000</td>\n",
              "      <td>3.000000</td>\n",
              "      <td>1.000000</td>\n",
              "      <td>2.000000</td>\n",
              "      <td>440.000000</td>\n",
              "      <td>126.000000</td>\n",
              "      <td>1970.000000</td>\n",
              "      <td>-37.802355</td>\n",
              "      <td>145.000100</td>\n",
              "      <td>6555.000000</td>\n",
              "    </tr>\n",
              "    <tr>\n",
              "      <th>75%</th>\n",
              "      <td>3.000000</td>\n",
              "      <td>1.330000e+06</td>\n",
              "      <td>13.000000</td>\n",
              "      <td>3148.000000</td>\n",
              "      <td>3.000000</td>\n",
              "      <td>2.000000</td>\n",
              "      <td>2.000000</td>\n",
              "      <td>651.000000</td>\n",
              "      <td>174.000000</td>\n",
              "      <td>1999.000000</td>\n",
              "      <td>-37.756400</td>\n",
              "      <td>145.058305</td>\n",
              "      <td>10331.000000</td>\n",
              "    </tr>\n",
              "    <tr>\n",
              "      <th>max</th>\n",
              "      <td>10.000000</td>\n",
              "      <td>9.000000e+06</td>\n",
              "      <td>48.100000</td>\n",
              "      <td>3977.000000</td>\n",
              "      <td>20.000000</td>\n",
              "      <td>8.000000</td>\n",
              "      <td>10.000000</td>\n",
              "      <td>433014.000000</td>\n",
              "      <td>44515.000000</td>\n",
              "      <td>2018.000000</td>\n",
              "      <td>-37.408530</td>\n",
              "      <td>145.526350</td>\n",
              "      <td>21650.000000</td>\n",
              "    </tr>\n",
              "  </tbody>\n",
              "</table>\n",
              "</div>"
            ],
            "text/plain": [
              "              Rooms         Price  ...    Longtitude  Propertycount\n",
              "count  13580.000000  1.358000e+04  ...  13580.000000   13580.000000\n",
              "mean       2.937997  1.075684e+06  ...    144.995216    7454.417378\n",
              "std        0.955748  6.393107e+05  ...      0.103916    4378.581772\n",
              "min        1.000000  8.500000e+04  ...    144.431810     249.000000\n",
              "25%        2.000000  6.500000e+05  ...    144.929600    4380.000000\n",
              "50%        3.000000  9.030000e+05  ...    145.000100    6555.000000\n",
              "75%        3.000000  1.330000e+06  ...    145.058305   10331.000000\n",
              "max       10.000000  9.000000e+06  ...    145.526350   21650.000000\n",
              "\n",
              "[8 rows x 13 columns]"
            ]
          },
          "metadata": {
            "tags": []
          },
          "execution_count": 35
        }
      ]
    },
    {
      "cell_type": "code",
      "metadata": {
        "colab": {
          "base_uri": "https://localhost:8080/"
        },
        "id": "oyouGJDtWs04",
        "outputId": "84e84083-dc34-43f5-d8ec-006d1dd98076"
      },
      "source": [
        "df2.info"
      ],
      "execution_count": 36,
      "outputs": [
        {
          "output_type": "execute_result",
          "data": {
            "text/plain": [
              "<bound method DataFrame.info of               Suburb  ... Propertycount\n",
              "0         Abbotsford  ...        4019.0\n",
              "1         Abbotsford  ...        4019.0\n",
              "2         Abbotsford  ...        4019.0\n",
              "3         Abbotsford  ...        4019.0\n",
              "4         Abbotsford  ...        4019.0\n",
              "...              ...  ...           ...\n",
              "13575  Wheelers Hill  ...        7392.0\n",
              "13576   Williamstown  ...        6380.0\n",
              "13577   Williamstown  ...        6380.0\n",
              "13578   Williamstown  ...        6380.0\n",
              "13579     Yarraville  ...        6543.0\n",
              "\n",
              "[13580 rows x 21 columns]>"
            ]
          },
          "metadata": {
            "tags": []
          },
          "execution_count": 36
        }
      ]
    },
    {
      "cell_type": "code",
      "metadata": {
        "colab": {
          "base_uri": "https://localhost:8080/"
        },
        "id": "eq3Xi9zLW0Gi",
        "outputId": "9217259c-fa82-4d7d-98bf-cdd489916b3d"
      },
      "source": [
        "s2 = (df2.dtypes=='object')\n",
        "o2 = list(s2[s2].index)\n",
        "print(o2)"
      ],
      "execution_count": 37,
      "outputs": [
        {
          "output_type": "stream",
          "text": [
            "['Suburb', 'Address', 'Type', 'Method', 'SellerG', 'Date', 'CouncilArea', 'Regionname']\n"
          ],
          "name": "stdout"
        }
      ]
    },
    {
      "cell_type": "code",
      "metadata": {
        "colab": {
          "base_uri": "https://localhost:8080/",
          "height": 206
        },
        "id": "N_vYwreyZNaD",
        "outputId": "c7ead129-d468-44a6-f582-bd11990795da"
      },
      "source": [
        "features2 = df2[['Type','Method','Regionname']]\n",
        "features2.head()"
      ],
      "execution_count": 38,
      "outputs": [
        {
          "output_type": "execute_result",
          "data": {
            "text/html": [
              "<div>\n",
              "<style scoped>\n",
              "    .dataframe tbody tr th:only-of-type {\n",
              "        vertical-align: middle;\n",
              "    }\n",
              "\n",
              "    .dataframe tbody tr th {\n",
              "        vertical-align: top;\n",
              "    }\n",
              "\n",
              "    .dataframe thead th {\n",
              "        text-align: right;\n",
              "    }\n",
              "</style>\n",
              "<table border=\"1\" class=\"dataframe\">\n",
              "  <thead>\n",
              "    <tr style=\"text-align: right;\">\n",
              "      <th></th>\n",
              "      <th>Type</th>\n",
              "      <th>Method</th>\n",
              "      <th>Regionname</th>\n",
              "    </tr>\n",
              "  </thead>\n",
              "  <tbody>\n",
              "    <tr>\n",
              "      <th>0</th>\n",
              "      <td>h</td>\n",
              "      <td>S</td>\n",
              "      <td>Northern Metropolitan</td>\n",
              "    </tr>\n",
              "    <tr>\n",
              "      <th>1</th>\n",
              "      <td>h</td>\n",
              "      <td>S</td>\n",
              "      <td>Northern Metropolitan</td>\n",
              "    </tr>\n",
              "    <tr>\n",
              "      <th>2</th>\n",
              "      <td>h</td>\n",
              "      <td>SP</td>\n",
              "      <td>Northern Metropolitan</td>\n",
              "    </tr>\n",
              "    <tr>\n",
              "      <th>3</th>\n",
              "      <td>h</td>\n",
              "      <td>PI</td>\n",
              "      <td>Northern Metropolitan</td>\n",
              "    </tr>\n",
              "    <tr>\n",
              "      <th>4</th>\n",
              "      <td>h</td>\n",
              "      <td>VB</td>\n",
              "      <td>Northern Metropolitan</td>\n",
              "    </tr>\n",
              "  </tbody>\n",
              "</table>\n",
              "</div>"
            ],
            "text/plain": [
              "  Type Method             Regionname\n",
              "0    h      S  Northern Metropolitan\n",
              "1    h      S  Northern Metropolitan\n",
              "2    h     SP  Northern Metropolitan\n",
              "3    h     PI  Northern Metropolitan\n",
              "4    h     VB  Northern Metropolitan"
            ]
          },
          "metadata": {
            "tags": []
          },
          "execution_count": 38
        }
      ]
    },
    {
      "cell_type": "code",
      "metadata": {
        "colab": {
          "base_uri": "https://localhost:8080/",
          "height": 175
        },
        "id": "PbHjTfRVZX1o",
        "outputId": "7493a36f-a01a-44db-b0fd-02d134687ae3"
      },
      "source": [
        "features2.describe()"
      ],
      "execution_count": 39,
      "outputs": [
        {
          "output_type": "execute_result",
          "data": {
            "text/html": [
              "<div>\n",
              "<style scoped>\n",
              "    .dataframe tbody tr th:only-of-type {\n",
              "        vertical-align: middle;\n",
              "    }\n",
              "\n",
              "    .dataframe tbody tr th {\n",
              "        vertical-align: top;\n",
              "    }\n",
              "\n",
              "    .dataframe thead th {\n",
              "        text-align: right;\n",
              "    }\n",
              "</style>\n",
              "<table border=\"1\" class=\"dataframe\">\n",
              "  <thead>\n",
              "    <tr style=\"text-align: right;\">\n",
              "      <th></th>\n",
              "      <th>Type</th>\n",
              "      <th>Method</th>\n",
              "      <th>Regionname</th>\n",
              "    </tr>\n",
              "  </thead>\n",
              "  <tbody>\n",
              "    <tr>\n",
              "      <th>count</th>\n",
              "      <td>13580</td>\n",
              "      <td>13580</td>\n",
              "      <td>13580</td>\n",
              "    </tr>\n",
              "    <tr>\n",
              "      <th>unique</th>\n",
              "      <td>3</td>\n",
              "      <td>5</td>\n",
              "      <td>8</td>\n",
              "    </tr>\n",
              "    <tr>\n",
              "      <th>top</th>\n",
              "      <td>h</td>\n",
              "      <td>S</td>\n",
              "      <td>Southern Metropolitan</td>\n",
              "    </tr>\n",
              "    <tr>\n",
              "      <th>freq</th>\n",
              "      <td>9449</td>\n",
              "      <td>9022</td>\n",
              "      <td>4695</td>\n",
              "    </tr>\n",
              "  </tbody>\n",
              "</table>\n",
              "</div>"
            ],
            "text/plain": [
              "         Type Method             Regionname\n",
              "count   13580  13580                  13580\n",
              "unique      3      5                      8\n",
              "top         h      S  Southern Metropolitan\n",
              "freq     9449   9022                   4695"
            ]
          },
          "metadata": {
            "tags": []
          },
          "execution_count": 39
        }
      ]
    },
    {
      "cell_type": "code",
      "metadata": {
        "colab": {
          "base_uri": "https://localhost:8080/"
        },
        "id": "xfjrnQSuZe5a",
        "outputId": "efae352a-1b5c-4b95-a80e-357daad0b182"
      },
      "source": [
        "features2.Regionname.value_counts()"
      ],
      "execution_count": 40,
      "outputs": [
        {
          "output_type": "execute_result",
          "data": {
            "text/plain": [
              "Southern Metropolitan         4695\n",
              "Northern Metropolitan         3890\n",
              "Western Metropolitan          2948\n",
              "Eastern Metropolitan          1471\n",
              "South-Eastern Metropolitan     450\n",
              "Eastern Victoria                53\n",
              "Northern Victoria               41\n",
              "Western Victoria                32\n",
              "Name: Regionname, dtype: int64"
            ]
          },
          "metadata": {
            "tags": []
          },
          "execution_count": 40
        }
      ]
    },
    {
      "cell_type": "code",
      "metadata": {
        "colab": {
          "base_uri": "https://localhost:8080/"
        },
        "id": "-bHt_mgMZmGM",
        "outputId": "1e65991c-e45d-460b-f5d4-d787c30855e0"
      },
      "source": [
        "features2.Type.value_counts()"
      ],
      "execution_count": 41,
      "outputs": [
        {
          "output_type": "execute_result",
          "data": {
            "text/plain": [
              "h    9449\n",
              "u    3017\n",
              "t    1114\n",
              "Name: Type, dtype: int64"
            ]
          },
          "metadata": {
            "tags": []
          },
          "execution_count": 41
        }
      ]
    },
    {
      "cell_type": "code",
      "metadata": {
        "colab": {
          "base_uri": "https://localhost:8080/"
        },
        "id": "bWFsSNGKZsLR",
        "outputId": "d179cf14-ab3c-47f8-a356-493a59924fa8"
      },
      "source": [
        "features2.Method.value_counts()"
      ],
      "execution_count": 42,
      "outputs": [
        {
          "output_type": "execute_result",
          "data": {
            "text/plain": [
              "S     9022\n",
              "SP    1703\n",
              "PI    1564\n",
              "VB    1199\n",
              "SA      92\n",
              "Name: Method, dtype: int64"
            ]
          },
          "metadata": {
            "tags": []
          },
          "execution_count": 42
        }
      ]
    },
    {
      "cell_type": "markdown",
      "metadata": {
        "id": "E3fMIaWp6oaT"
      },
      "source": [
        "#### **Label Encoding**\n",
        "*Label encoding can uniquely number the different categories from 0 to n-1. Thus also termed as Integer encoding. LabelEncoder class from the scikit-learn library is used for this purpose.*"
      ]
    },
    {
      "cell_type": "code",
      "metadata": {
        "id": "sk0F_Av47kzT",
        "colab": {
          "base_uri": "https://localhost:8080/"
        },
        "outputId": "9bc4f584-a308-4744-f223-c801b1ca7335"
      },
      "source": [
        "le21 = LabelEncoder()\n",
        "df21 = features2[['Regionname']]\n",
        "df21['Region'] = le21.fit_transform(features2['Regionname'])\n",
        "df21.value_counts()"
      ],
      "execution_count": 43,
      "outputs": [
        {
          "output_type": "execute_result",
          "data": {
            "text/plain": [
              "Regionname                  Region\n",
              "Southern Metropolitan       5         4695\n",
              "Northern Metropolitan       2         3890\n",
              "Western Metropolitan        6         2948\n",
              "Eastern Metropolitan        0         1471\n",
              "South-Eastern Metropolitan  4          450\n",
              "Eastern Victoria            1           53\n",
              "Northern Victoria           3           41\n",
              "Western Victoria            7           32\n",
              "dtype: int64"
            ]
          },
          "metadata": {
            "tags": []
          },
          "execution_count": 43
        }
      ]
    },
    {
      "cell_type": "code",
      "metadata": {
        "colab": {
          "base_uri": "https://localhost:8080/"
        },
        "id": "UrIevLXBrmg6",
        "outputId": "ed20ea04-97e7-4d26-bd70-bb014785024e"
      },
      "source": [
        "le22 = LabelEncoder()\n",
        "df22 = features2[['Type']]\n",
        "df22['Type'] = le22.fit_transform(features2['Type'])\n",
        "df22.value_counts()"
      ],
      "execution_count": 44,
      "outputs": [
        {
          "output_type": "execute_result",
          "data": {
            "text/plain": [
              "Type\n",
              "0       9449\n",
              "2       3017\n",
              "1       1114\n",
              "dtype: int64"
            ]
          },
          "metadata": {
            "tags": []
          },
          "execution_count": 44
        }
      ]
    },
    {
      "cell_type": "code",
      "metadata": {
        "colab": {
          "base_uri": "https://localhost:8080/"
        },
        "id": "rhGnjQYarxDx",
        "outputId": "d5c096df-0c63-4d35-9c3b-4a00076288a6"
      },
      "source": [
        "le23 = LabelEncoder()\n",
        "df23 = features2[['Method']]\n",
        "df23['Method'] = le23.fit_transform(features2['Method'])\n",
        "df23.value_counts()"
      ],
      "execution_count": 45,
      "outputs": [
        {
          "output_type": "execute_result",
          "data": {
            "text/plain": [
              "Method\n",
              "1         9022\n",
              "3         1703\n",
              "0         1564\n",
              "4         1199\n",
              "2           92\n",
              "dtype: int64"
            ]
          },
          "metadata": {
            "tags": []
          },
          "execution_count": 45
        }
      ]
    },
    {
      "cell_type": "markdown",
      "metadata": {
        "id": "739FJzmjlTN4"
      },
      "source": [
        "*LabelEncoder cannot handle missing values so it’s important to impute them. LabelEncoder can be used to store values using less disk space. This is simple to use and works well on tree-based algorithms. It cannot work for linear models, SVMs, or neural networks as their data needs to be standardized.*"
      ]
    },
    {
      "cell_type": "markdown",
      "metadata": {
        "id": "NH2UGcj527Rr"
      },
      "source": [
        "#### **One Hot Encoding**\n",
        "*One hot encoding is a binary encoding applied to categorical values. To increase performance one can also first perform label encoding then those integer variables to binary values which will become the most desired form of machine-readable.*"
      ]
    },
    {
      "cell_type": "code",
      "metadata": {
        "id": "nqmwqV4L2_9j",
        "colab": {
          "base_uri": "https://localhost:8080/"
        },
        "outputId": "467890be-4895-4cd2-a4f9-d6447a8f0f3e"
      },
      "source": [
        "df24 = pd.get_dummies(features2['Regionname'])\n",
        "df24.value_counts()"
      ],
      "execution_count": 46,
      "outputs": [
        {
          "output_type": "execute_result",
          "data": {
            "text/plain": [
              "Eastern Metropolitan  Eastern Victoria  Northern Metropolitan  Northern Victoria  South-Eastern Metropolitan  Southern Metropolitan  Western Metropolitan  Western Victoria\n",
              "0                     0                 0                      0                  0                           1                      0                     0                   4695\n",
              "                                        1                      0                  0                           0                      0                     0                   3890\n",
              "                                        0                      0                  0                           0                      1                     0                   2948\n",
              "1                     0                 0                      0                  0                           0                      0                     0                   1471\n",
              "0                     0                 0                      0                  1                           0                      0                     0                    450\n",
              "                      1                 0                      0                  0                           0                      0                     0                     53\n",
              "                      0                 0                      1                  0                           0                      0                     0                     41\n",
              "                                                               0                  0                           0                      0                     1                     32\n",
              "dtype: int64"
            ]
          },
          "metadata": {
            "tags": []
          },
          "execution_count": 46
        }
      ]
    },
    {
      "cell_type": "code",
      "metadata": {
        "colab": {
          "base_uri": "https://localhost:8080/"
        },
        "id": "5HzxX6V_s2md",
        "outputId": "650cc64f-4946-4fa9-fd9e-55a9a2d101b9"
      },
      "source": [
        "df25 = pd.get_dummies(features2['Type'])\n",
        "df25.value_counts()"
      ],
      "execution_count": 47,
      "outputs": [
        {
          "output_type": "execute_result",
          "data": {
            "text/plain": [
              "h  t  u\n",
              "1  0  0    9449\n",
              "0  0  1    3017\n",
              "   1  0    1114\n",
              "dtype: int64"
            ]
          },
          "metadata": {
            "tags": []
          },
          "execution_count": 47
        }
      ]
    },
    {
      "cell_type": "code",
      "metadata": {
        "colab": {
          "base_uri": "https://localhost:8080/"
        },
        "id": "LhPvy-UBs7lq",
        "outputId": "defd7944-75fa-49bd-ad34-d6fc7beb3a00"
      },
      "source": [
        "df26 = pd.get_dummies(features2['Method'])\n",
        "df26.value_counts()"
      ],
      "execution_count": 48,
      "outputs": [
        {
          "output_type": "execute_result",
          "data": {
            "text/plain": [
              "PI  S  SA  SP  VB\n",
              "0   1  0   0   0     9022\n",
              "    0  0   1   0     1703\n",
              "1   0  0   0   0     1564\n",
              "0   0  0   0   1     1199\n",
              "       1   0   0       92\n",
              "dtype: int64"
            ]
          },
          "metadata": {
            "tags": []
          },
          "execution_count": 48
        }
      ]
    },
    {
      "cell_type": "markdown",
      "metadata": {
        "id": "RCLalD2XlZbS"
      },
      "source": [
        "*One hot encoding overcomes the limitations of label encoding and can be used in both tree-based and non-tree-based machine learning algorithms. The disadvantage is that for high cardinality, the feature space can really blow up quickly. The binary variables are often called “dummy variables” in statistics.*"
      ]
    },
    {
      "cell_type": "markdown",
      "metadata": {
        "id": "aA48nazBsgEy"
      },
      "source": [
        "#### **Label Binarizer**\n",
        "*Scikit-learn also supports binary encoding by using the LabelBinarizer. We use a similar process as above to transform the data for the process of creating a pandas DataFrame.*"
      ]
    },
    {
      "cell_type": "code",
      "metadata": {
        "colab": {
          "base_uri": "https://localhost:8080/"
        },
        "id": "MjxicUP-sjOe",
        "outputId": "8a98e0ba-df79-4e1e-9d69-78ee941e5736"
      },
      "source": [
        "lb21 = LabelBinarizer()\n",
        "lb24 = lb21.fit_transform(features2[\"Regionname\"])\n",
        "pd.DataFrame(lb24, columns=lb21.classes_).value_counts()"
      ],
      "execution_count": 49,
      "outputs": [
        {
          "output_type": "execute_result",
          "data": {
            "text/plain": [
              "Eastern Metropolitan  Eastern Victoria  Northern Metropolitan  Northern Victoria  South-Eastern Metropolitan  Southern Metropolitan  Western Metropolitan  Western Victoria\n",
              "0                     0                 0                      0                  0                           1                      0                     0                   4695\n",
              "                                        1                      0                  0                           0                      0                     0                   3890\n",
              "                                        0                      0                  0                           0                      1                     0                   2948\n",
              "1                     0                 0                      0                  0                           0                      0                     0                   1471\n",
              "0                     0                 0                      0                  1                           0                      0                     0                    450\n",
              "                      1                 0                      0                  0                           0                      0                     0                     53\n",
              "                      0                 0                      1                  0                           0                      0                     0                     41\n",
              "                                                               0                  0                           0                      0                     1                     32\n",
              "dtype: int64"
            ]
          },
          "metadata": {
            "tags": []
          },
          "execution_count": 49
        }
      ]
    },
    {
      "cell_type": "code",
      "metadata": {
        "colab": {
          "base_uri": "https://localhost:8080/"
        },
        "id": "Ioy2nBkFv9Kp",
        "outputId": "3f2dda81-a379-43e2-fc06-012c60077245"
      },
      "source": [
        "lb22 = LabelBinarizer()\n",
        "lb25 = lb22.fit_transform(features2[\"Type\"])\n",
        "pd.DataFrame(lb25, columns=lb22.classes_).value_counts()"
      ],
      "execution_count": 50,
      "outputs": [
        {
          "output_type": "execute_result",
          "data": {
            "text/plain": [
              "h  t  u\n",
              "1  0  0    9449\n",
              "0  0  1    3017\n",
              "   1  0    1114\n",
              "dtype: int64"
            ]
          },
          "metadata": {
            "tags": []
          },
          "execution_count": 50
        }
      ]
    },
    {
      "cell_type": "code",
      "metadata": {
        "colab": {
          "base_uri": "https://localhost:8080/"
        },
        "id": "gFQgu1hZwGbw",
        "outputId": "055b4e68-379b-473b-c100-1c068da96944"
      },
      "source": [
        "lb23 = LabelBinarizer()\n",
        "lb26 = lb23.fit_transform(features2[\"Method\"])\n",
        "pd.DataFrame(lb26, columns=lb23.classes_).value_counts()"
      ],
      "execution_count": 51,
      "outputs": [
        {
          "output_type": "execute_result",
          "data": {
            "text/plain": [
              "PI  S  SA  SP  VB\n",
              "0   1  0   0   0     9022\n",
              "    0  0   1   0     1703\n",
              "1   0  0   0   0     1564\n",
              "0   0  0   0   1     1199\n",
              "       1   0   0       92\n",
              "dtype: int64"
            ]
          },
          "metadata": {
            "tags": []
          },
          "execution_count": 51
        }
      ]
    },
    {
      "cell_type": "markdown",
      "metadata": {
        "id": "V5Q8Gsh3Zr_c"
      },
      "source": [
        "# **3. Dealing with inconsistent data entry**"
      ]
    },
    {
      "cell_type": "markdown",
      "metadata": {
        "id": "22Fe9ukyOv9O"
      },
      "source": [
        "## References\n",
        "- https://towardsdatascience.com/how-to-deal-with-missing-data-in-python-1f74a9112d93\n",
        "- https://www.kaggle.com/rtatman/data-cleaning-challenge-inconsistent-data-entry\n",
        "- https://www.kaggle.com/alexisbcook/inconsistent-data-entry\n",
        "- https://towardsdatascience.com/data-cleaning-in-python-the-ultimate-guide-2020-c63b88bf0a0d"
      ]
    },
    {
      "cell_type": "markdown",
      "metadata": {
        "id": "p_xNUNQkO1yn"
      },
      "source": [
        "## Dataset\n",
        "- https://www.kaggle.com/zusmani/pakistansuicideattacks"
      ]
    },
    {
      "cell_type": "markdown",
      "metadata": {
        "id": "Few7kLcHO5JE"
      },
      "source": [
        "## Explanation\n",
        "*Data cleaning or cleansing is the process of detecting and correcting (or removing) corrupt or inaccurate records from a record set, table, or database and refers to identifying incomplete, incorrect, inaccurate or irrelevant parts of the data and then replacing, modifying, or deleting the dirty or coarse data.*\n",
        "*It is also crucial to have the dataset follow specific standards to fit a model. We need to explore the data in different ways to find out the inconsistent data. Much of the time, it depends on observations and experience. There is no set code to run and fix them all.*\n",
        "\n",
        "*Three inconsistent data types are:*\n",
        "- ***Capitalization*** - *Inconsistent  usage of upper and lower cases in categorical values is a common mistake. It could cause issues since analyses in Python is case sensitive.*\n",
        "- ***Formats*** - *Another standardization we need to perform is the data formats. One example is to convert the feature from string to DateTime format.*\n",
        "- ***Categorical Values*** - *Inconsistent categorical values are the last inconsistent type we cover. A categorical feature has a limited number of values. Sometimes there may be other values due to reasons such as typos.*\n",
        "\n",
        "*To avoid **capitalization inconsistencies**, we can put all letters to lower cases (or upper cases).*\n",
        "\n",
        "*For avoiding **Format inconsistencies** we can convert it and extract the date or time values by using the code below. After this, it’s easier to analyze the transaction volume group by either year or month.*\n",
        "\n",
        "***Categorical Value inconsistencies*** *can easily be identified by fuzzy logic (or edit distance). It measures how many letters (distance) we need to change the spelling of one value to match with another value.*"
      ]
    },
    {
      "cell_type": "markdown",
      "metadata": {
        "id": "sLmmKra2O8KQ"
      },
      "source": [
        "## **Sample Program**"
      ]
    },
    {
      "cell_type": "markdown",
      "metadata": {
        "id": "AL2cxDz24Zo7"
      },
      "source": [
        "#### Dataset Inspection"
      ]
    },
    {
      "cell_type": "code",
      "metadata": {
        "id": "trdYjQMLRdR6"
      },
      "source": [
        "np.random.seed(0)"
      ],
      "execution_count": 52,
      "outputs": []
    },
    {
      "cell_type": "markdown",
      "metadata": {
        "id": "pu1SV0bT5B3g"
      },
      "source": [
        "`df3 = pd.read_csv('/content/T1/1.csv')` \n",
        "> This statement gives a character encoding error."
      ]
    },
    {
      "cell_type": "code",
      "metadata": {
        "colab": {
          "base_uri": "https://localhost:8080/"
        },
        "id": "XTOn92EU42lS",
        "outputId": "d05ae60a-322d-4838-9856-9423234c538a"
      },
      "source": [
        "with open(\"/content/T1/1.csv\", 'rb') as rd:\n",
        "    res = chardet.detect(rd.read(100000))\n",
        "print(res)"
      ],
      "execution_count": 53,
      "outputs": [
        {
          "output_type": "stream",
          "text": [
            "{'encoding': 'Windows-1252', 'confidence': 0.73, 'language': ''}\n"
          ],
          "name": "stdout"
        }
      ]
    },
    {
      "cell_type": "code",
      "metadata": {
        "id": "ETL3teSc4c9q"
      },
      "source": [
        "df3 = pd.read_csv('/content/T1/1.csv',encoding='Windows-1252')"
      ],
      "execution_count": 54,
      "outputs": []
    },
    {
      "cell_type": "code",
      "metadata": {
        "colab": {
          "base_uri": "https://localhost:8080/",
          "height": 573
        },
        "id": "fHR8OiPL5cDa",
        "outputId": "38505f70-8b56-4b84-afa8-d6dc435c8b88"
      },
      "source": [
        "df3.head()"
      ],
      "execution_count": 55,
      "outputs": [
        {
          "output_type": "execute_result",
          "data": {
            "text/html": [
              "<div>\n",
              "<style scoped>\n",
              "    .dataframe tbody tr th:only-of-type {\n",
              "        vertical-align: middle;\n",
              "    }\n",
              "\n",
              "    .dataframe tbody tr th {\n",
              "        vertical-align: top;\n",
              "    }\n",
              "\n",
              "    .dataframe thead th {\n",
              "        text-align: right;\n",
              "    }\n",
              "</style>\n",
              "<table border=\"1\" class=\"dataframe\">\n",
              "  <thead>\n",
              "    <tr style=\"text-align: right;\">\n",
              "      <th></th>\n",
              "      <th>S#</th>\n",
              "      <th>Date</th>\n",
              "      <th>Islamic Date</th>\n",
              "      <th>Blast Day Type</th>\n",
              "      <th>Holiday Type</th>\n",
              "      <th>Time</th>\n",
              "      <th>City</th>\n",
              "      <th>Latitude</th>\n",
              "      <th>Longitude</th>\n",
              "      <th>Province</th>\n",
              "      <th>Location</th>\n",
              "      <th>Location Category</th>\n",
              "      <th>Location Sensitivity</th>\n",
              "      <th>Open/Closed Space</th>\n",
              "      <th>Influencing Event/Event</th>\n",
              "      <th>Target Type</th>\n",
              "      <th>Targeted Sect if any</th>\n",
              "      <th>Killed Min</th>\n",
              "      <th>Killed Max</th>\n",
              "      <th>Injured Min</th>\n",
              "      <th>Injured Max</th>\n",
              "      <th>No. of Suicide Blasts</th>\n",
              "      <th>Explosive Weight (max)</th>\n",
              "      <th>Hospital Names</th>\n",
              "      <th>Temperature(C)</th>\n",
              "      <th>Temperature(F)</th>\n",
              "    </tr>\n",
              "  </thead>\n",
              "  <tbody>\n",
              "    <tr>\n",
              "      <th>0</th>\n",
              "      <td>1</td>\n",
              "      <td>Sunday-November 19-1995</td>\n",
              "      <td>25 Jumaada al-THaany 1416 A.H</td>\n",
              "      <td>Holiday</td>\n",
              "      <td>Weekend</td>\n",
              "      <td>NaN</td>\n",
              "      <td>Islamabad</td>\n",
              "      <td>33.7180</td>\n",
              "      <td>73.0718</td>\n",
              "      <td>Capital</td>\n",
              "      <td>Egyptian Embassy</td>\n",
              "      <td>Foreign</td>\n",
              "      <td>High</td>\n",
              "      <td>Closed</td>\n",
              "      <td>NaN</td>\n",
              "      <td>Foreigner</td>\n",
              "      <td>None</td>\n",
              "      <td>14.0</td>\n",
              "      <td>15.0</td>\n",
              "      <td>NaN</td>\n",
              "      <td>60</td>\n",
              "      <td>2.0</td>\n",
              "      <td>NaN</td>\n",
              "      <td>NaN</td>\n",
              "      <td>15.835</td>\n",
              "      <td>60.503</td>\n",
              "    </tr>\n",
              "    <tr>\n",
              "      <th>1</th>\n",
              "      <td>2</td>\n",
              "      <td>Monday-November 6-2000</td>\n",
              "      <td>10 SHa`baan 1421 A.H</td>\n",
              "      <td>Working Day</td>\n",
              "      <td>NaN</td>\n",
              "      <td>NaN</td>\n",
              "      <td>Karachi</td>\n",
              "      <td>24.9918</td>\n",
              "      <td>66.9911</td>\n",
              "      <td>Sindh</td>\n",
              "      <td>office of Nawa-e-Waqt</td>\n",
              "      <td>Office Building</td>\n",
              "      <td>Low</td>\n",
              "      <td>Closed</td>\n",
              "      <td>NaN</td>\n",
              "      <td>Media</td>\n",
              "      <td>None</td>\n",
              "      <td>NaN</td>\n",
              "      <td>3.0</td>\n",
              "      <td>NaN</td>\n",
              "      <td>3</td>\n",
              "      <td>1.0</td>\n",
              "      <td>NaN</td>\n",
              "      <td>NaN</td>\n",
              "      <td>23.770</td>\n",
              "      <td>74.786</td>\n",
              "    </tr>\n",
              "    <tr>\n",
              "      <th>2</th>\n",
              "      <td>3</td>\n",
              "      <td>Wednesday-May 8-2002</td>\n",
              "      <td>25 safar 1423 A.H</td>\n",
              "      <td>Working Day</td>\n",
              "      <td>NaN</td>\n",
              "      <td>7:45 AM</td>\n",
              "      <td>Karachi</td>\n",
              "      <td>24.9918</td>\n",
              "      <td>66.9911</td>\n",
              "      <td>Sindh</td>\n",
              "      <td>Pakistan Navy bus Parked outside Five Star She...</td>\n",
              "      <td>Hotel</td>\n",
              "      <td>Medium</td>\n",
              "      <td>Closed</td>\n",
              "      <td>NaN</td>\n",
              "      <td>Foreigner</td>\n",
              "      <td>Christian</td>\n",
              "      <td>13.0</td>\n",
              "      <td>15.0</td>\n",
              "      <td>20.0</td>\n",
              "      <td>40</td>\n",
              "      <td>1.0</td>\n",
              "      <td>2.5 Kg</td>\n",
              "      <td>1.Jinnah Postgraduate Medical Center 2. Civil ...</td>\n",
              "      <td>31.460</td>\n",
              "      <td>88.628</td>\n",
              "    </tr>\n",
              "    <tr>\n",
              "      <th>3</th>\n",
              "      <td>4</td>\n",
              "      <td>Friday-June 14-2002</td>\n",
              "      <td>3 Raby` al-THaany 1423 A.H</td>\n",
              "      <td>Working Day</td>\n",
              "      <td>NaN</td>\n",
              "      <td>11:10:00 AM</td>\n",
              "      <td>Karachi</td>\n",
              "      <td>24.9918</td>\n",
              "      <td>66.9911</td>\n",
              "      <td>Sindh</td>\n",
              "      <td>US Consulate Civil Lines Area</td>\n",
              "      <td>Foreign</td>\n",
              "      <td>High</td>\n",
              "      <td>Closed</td>\n",
              "      <td>NaN</td>\n",
              "      <td>Foreigner</td>\n",
              "      <td>Christian</td>\n",
              "      <td>NaN</td>\n",
              "      <td>12.0</td>\n",
              "      <td>NaN</td>\n",
              "      <td>51</td>\n",
              "      <td>1.0</td>\n",
              "      <td>NaN</td>\n",
              "      <td>NaN</td>\n",
              "      <td>31.430</td>\n",
              "      <td>88.574</td>\n",
              "    </tr>\n",
              "    <tr>\n",
              "      <th>4</th>\n",
              "      <td>5</td>\n",
              "      <td>Friday-July 4-2003</td>\n",
              "      <td>4 Jumaada al-awal 1424 A.H</td>\n",
              "      <td>Working Day</td>\n",
              "      <td>NaN</td>\n",
              "      <td>NaN</td>\n",
              "      <td>Quetta</td>\n",
              "      <td>30.2095</td>\n",
              "      <td>67.0182</td>\n",
              "      <td>Baluchistan</td>\n",
              "      <td>Imambargah MeCongy Road Quetta</td>\n",
              "      <td>Religious</td>\n",
              "      <td>Medium</td>\n",
              "      <td>Closed</td>\n",
              "      <td>during Friday prayer</td>\n",
              "      <td>Religious</td>\n",
              "      <td>Shiite</td>\n",
              "      <td>44.0</td>\n",
              "      <td>47.0</td>\n",
              "      <td>NaN</td>\n",
              "      <td>65</td>\n",
              "      <td>1.0</td>\n",
              "      <td>NaN</td>\n",
              "      <td>1.CMH Quetta \\n2.Civil Hospital 3. Boland Medi...</td>\n",
              "      <td>33.120</td>\n",
              "      <td>91.616</td>\n",
              "    </tr>\n",
              "  </tbody>\n",
              "</table>\n",
              "</div>"
            ],
            "text/plain": [
              "   S#                     Date  ... Temperature(C) Temperature(F)\n",
              "0   1  Sunday-November 19-1995  ...         15.835         60.503\n",
              "1   2   Monday-November 6-2000  ...         23.770         74.786\n",
              "2   3     Wednesday-May 8-2002  ...         31.460         88.628\n",
              "3   4      Friday-June 14-2002  ...         31.430         88.574\n",
              "4   5       Friday-July 4-2003  ...         33.120         91.616\n",
              "\n",
              "[5 rows x 26 columns]"
            ]
          },
          "metadata": {
            "tags": []
          },
          "execution_count": 55
        }
      ]
    },
    {
      "cell_type": "code",
      "metadata": {
        "colab": {
          "base_uri": "https://localhost:8080/",
          "height": 335
        },
        "id": "LZHiGxs-5gnU",
        "outputId": "42fdfdaa-1e7a-4946-f591-a8d74132c522"
      },
      "source": [
        "df3.describe()"
      ],
      "execution_count": 56,
      "outputs": [
        {
          "output_type": "execute_result",
          "data": {
            "text/html": [
              "<div>\n",
              "<style scoped>\n",
              "    .dataframe tbody tr th:only-of-type {\n",
              "        vertical-align: middle;\n",
              "    }\n",
              "\n",
              "    .dataframe tbody tr th {\n",
              "        vertical-align: top;\n",
              "    }\n",
              "\n",
              "    .dataframe thead th {\n",
              "        text-align: right;\n",
              "    }\n",
              "</style>\n",
              "<table border=\"1\" class=\"dataframe\">\n",
              "  <thead>\n",
              "    <tr style=\"text-align: right;\">\n",
              "      <th></th>\n",
              "      <th>S#</th>\n",
              "      <th>Latitude</th>\n",
              "      <th>Killed Min</th>\n",
              "      <th>Killed Max</th>\n",
              "      <th>Injured Min</th>\n",
              "      <th>No. of Suicide Blasts</th>\n",
              "      <th>Temperature(C)</th>\n",
              "      <th>Temperature(F)</th>\n",
              "    </tr>\n",
              "  </thead>\n",
              "  <tbody>\n",
              "    <tr>\n",
              "      <th>count</th>\n",
              "      <td>496.000000</td>\n",
              "      <td>493.000000</td>\n",
              "      <td>350.000000</td>\n",
              "      <td>480.000000</td>\n",
              "      <td>365.000000</td>\n",
              "      <td>414.000000</td>\n",
              "      <td>491.000000</td>\n",
              "      <td>489.000000</td>\n",
              "    </tr>\n",
              "    <tr>\n",
              "      <th>mean</th>\n",
              "      <td>248.500000</td>\n",
              "      <td>32.614705</td>\n",
              "      <td>14.725714</td>\n",
              "      <td>15.206250</td>\n",
              "      <td>31.397260</td>\n",
              "      <td>1.115942</td>\n",
              "      <td>21.111599</td>\n",
              "      <td>69.972579</td>\n",
              "    </tr>\n",
              "    <tr>\n",
              "      <th>std</th>\n",
              "      <td>143.327132</td>\n",
              "      <td>2.475917</td>\n",
              "      <td>17.600930</td>\n",
              "      <td>20.270436</td>\n",
              "      <td>38.603842</td>\n",
              "      <td>0.394989</td>\n",
              "      <td>8.369068</td>\n",
              "      <td>15.069622</td>\n",
              "    </tr>\n",
              "    <tr>\n",
              "      <th>min</th>\n",
              "      <td>1.000000</td>\n",
              "      <td>24.879503</td>\n",
              "      <td>0.000000</td>\n",
              "      <td>0.000000</td>\n",
              "      <td>0.000000</td>\n",
              "      <td>1.000000</td>\n",
              "      <td>-2.370000</td>\n",
              "      <td>27.734000</td>\n",
              "    </tr>\n",
              "    <tr>\n",
              "      <th>25%</th>\n",
              "      <td>124.750000</td>\n",
              "      <td>31.823800</td>\n",
              "      <td>3.000000</td>\n",
              "      <td>3.000000</td>\n",
              "      <td>7.000000</td>\n",
              "      <td>1.000000</td>\n",
              "      <td>14.690000</td>\n",
              "      <td>58.370000</td>\n",
              "    </tr>\n",
              "    <tr>\n",
              "      <th>50%</th>\n",
              "      <td>248.500000</td>\n",
              "      <td>33.583300</td>\n",
              "      <td>8.000000</td>\n",
              "      <td>8.000000</td>\n",
              "      <td>20.000000</td>\n",
              "      <td>1.000000</td>\n",
              "      <td>21.405000</td>\n",
              "      <td>70.529000</td>\n",
              "    </tr>\n",
              "    <tr>\n",
              "      <th>75%</th>\n",
              "      <td>372.250000</td>\n",
              "      <td>34.004300</td>\n",
              "      <td>20.000000</td>\n",
              "      <td>18.250000</td>\n",
              "      <td>40.000000</td>\n",
              "      <td>1.000000</td>\n",
              "      <td>28.115000</td>\n",
              "      <td>82.499000</td>\n",
              "    </tr>\n",
              "    <tr>\n",
              "      <th>max</th>\n",
              "      <td>496.000000</td>\n",
              "      <td>35.383300</td>\n",
              "      <td>125.000000</td>\n",
              "      <td>148.000000</td>\n",
              "      <td>320.000000</td>\n",
              "      <td>4.000000</td>\n",
              "      <td>44.000000</td>\n",
              "      <td>111.000000</td>\n",
              "    </tr>\n",
              "  </tbody>\n",
              "</table>\n",
              "</div>"
            ],
            "text/plain": [
              "               S#    Latitude  ...  Temperature(C)  Temperature(F)\n",
              "count  496.000000  493.000000  ...      491.000000      489.000000\n",
              "mean   248.500000   32.614705  ...       21.111599       69.972579\n",
              "std    143.327132    2.475917  ...        8.369068       15.069622\n",
              "min      1.000000   24.879503  ...       -2.370000       27.734000\n",
              "25%    124.750000   31.823800  ...       14.690000       58.370000\n",
              "50%    248.500000   33.583300  ...       21.405000       70.529000\n",
              "75%    372.250000   34.004300  ...       28.115000       82.499000\n",
              "max    496.000000   35.383300  ...       44.000000      111.000000\n",
              "\n",
              "[8 rows x 8 columns]"
            ]
          },
          "metadata": {
            "tags": []
          },
          "execution_count": 56
        }
      ]
    },
    {
      "cell_type": "code",
      "metadata": {
        "colab": {
          "base_uri": "https://localhost:8080/"
        },
        "id": "zXe0XGGQ5iAi",
        "outputId": "989ef8de-49d6-4265-a02f-2c9b511f77f3"
      },
      "source": [
        "df3.info"
      ],
      "execution_count": 57,
      "outputs": [
        {
          "output_type": "execute_result",
          "data": {
            "text/plain": [
              "<bound method DataFrame.info of       S#                       Date  ... Temperature(C) Temperature(F)\n",
              "0      1    Sunday-November 19-1995  ...         15.835         60.503\n",
              "1      2     Monday-November 6-2000  ...         23.770         74.786\n",
              "2      3       Wednesday-May 8-2002  ...         31.460         88.628\n",
              "3      4        Friday-June 14-2002  ...         31.430         88.574\n",
              "4      5         Friday-July 4-2003  ...         33.120         91.616\n",
              "..   ...                        ...  ...            ...            ...\n",
              "491  492   Thursday-October-05-2017  ...         27.800         81.000\n",
              "492  493   Thursday-October-19-2017  ...         26.000         79.000\n",
              "493  494   Thursday-November-9-2017  ...         25.000         77.000\n",
              "494  495    Friday-November-24-2017  ...         22.000         72.000\n",
              "495  496  Saturday-November-25-2017  ...         29.000         84.000\n",
              "\n",
              "[496 rows x 26 columns]>"
            ]
          },
          "metadata": {
            "tags": []
          },
          "execution_count": 57
        }
      ]
    },
    {
      "cell_type": "markdown",
      "metadata": {
        "id": "tZijc_O45kJK"
      },
      "source": [
        "#### **Manual Correction**\n",
        "*The first thing to do is to convert everything to lower case and remove any white spaces at the beginning and end of cells. Inconsistencies in capitalizations and trailing white spaces are very common in text data.*"
      ]
    },
    {
      "cell_type": "code",
      "metadata": {
        "id": "auo8h82w5pNU"
      },
      "source": [
        "x3 = df3['City'].unique()"
      ],
      "execution_count": 58,
      "outputs": []
    },
    {
      "cell_type": "code",
      "metadata": {
        "colab": {
          "base_uri": "https://localhost:8080/"
        },
        "id": "tOggjfLc_3fw",
        "outputId": "caf59849-2d05-4bae-bf65-30a6fcdacf3c"
      },
      "source": [
        "len(x3)"
      ],
      "execution_count": 59,
      "outputs": [
        {
          "output_type": "execute_result",
          "data": {
            "text/plain": [
              "93"
            ]
          },
          "metadata": {
            "tags": []
          },
          "execution_count": 59
        }
      ]
    },
    {
      "cell_type": "code",
      "metadata": {
        "colab": {
          "base_uri": "https://localhost:8080/"
        },
        "id": "nKxEi8co-tV4",
        "outputId": "526d6b95-a994-4b5d-f0b3-7577ee4fb265"
      },
      "source": [
        "x3.sort()\n",
        "x3"
      ],
      "execution_count": 60,
      "outputs": [
        {
          "output_type": "execute_result",
          "data": {
            "text/plain": [
              "array(['ATTOCK', 'Attock ', 'Bajaur Agency', 'Bannu', 'Bhakkar ', 'Buner',\n",
              "       'Chakwal ', 'Chaman', 'Charsadda', 'Charsadda ', 'D. I Khan',\n",
              "       'D.G Khan', 'D.G Khan ', 'D.I Khan', 'D.I Khan ', 'Dara Adam Khel',\n",
              "       'Dara Adam khel', 'Fateh Jang', 'Ghallanai, Mohmand Agency ',\n",
              "       'Gujrat', 'Hangu', 'Haripur', 'Hayatabad', 'Islamabad',\n",
              "       'Islamabad ', 'Jacobabad', 'KURRAM AGENCY', 'Karachi', 'Karachi ',\n",
              "       'Karak', 'Khanewal', 'Khuzdar', 'Khyber Agency', 'Khyber Agency ',\n",
              "       'Kohat', 'Kohat ', 'Kuram Agency ', 'Lahore', 'Lahore ',\n",
              "       'Lakki Marwat', 'Lakki marwat', 'Lasbela', 'Lower Dir', 'MULTAN',\n",
              "       'Malakand ', 'Mansehra', 'Mardan', 'Mohmand Agency',\n",
              "       'Mohmand Agency ', 'Mohmand agency', 'Mosal Kor, Mohmand Agency',\n",
              "       'Multan', 'Muzaffarabad', 'North Waziristan', 'North waziristan',\n",
              "       'Nowshehra', 'Orakzai Agency', 'Peshawar', 'Peshawar ', 'Pishin',\n",
              "       'Poonch', 'Quetta', 'Quetta ', 'Rawalpindi', 'Sargodha',\n",
              "       'Sehwan town', 'Shabqadar-Charsadda', 'Shangla ', 'Shikarpur',\n",
              "       'Sialkot', 'South Waziristan', 'South waziristan', 'Sudhanoti',\n",
              "       'Sukkur', 'Swabi ', 'Swat', 'Swat ', 'Taftan',\n",
              "       'Tangi, Charsadda District', 'Tank', 'Tank ', 'Taunsa',\n",
              "       'Tirah Valley', 'Totalai', 'Upper Dir', 'Wagah', 'Zhob', 'bannu',\n",
              "       'karachi', 'karachi ', 'lakki marwat', 'peshawar', 'swat'],\n",
              "      dtype=object)"
            ]
          },
          "metadata": {
            "tags": []
          },
          "execution_count": 60
        }
      ]
    },
    {
      "cell_type": "code",
      "metadata": {
        "id": "FiaTl3nY_ACq"
      },
      "source": [
        "df3['City'] = df3['City'].str.lower()"
      ],
      "execution_count": 61,
      "outputs": []
    },
    {
      "cell_type": "code",
      "metadata": {
        "id": "LPQn3aQQ_aOJ"
      },
      "source": [
        "df3['City'] = df3['City'].str.strip()"
      ],
      "execution_count": 62,
      "outputs": []
    },
    {
      "cell_type": "code",
      "metadata": {
        "id": "BHbnlit5_a94"
      },
      "source": [
        "y3 = df3['City'].unique()"
      ],
      "execution_count": 63,
      "outputs": []
    },
    {
      "cell_type": "code",
      "metadata": {
        "colab": {
          "base_uri": "https://localhost:8080/"
        },
        "id": "3dQ2AnzP_78P",
        "outputId": "00628657-68f9-4af4-9974-d2fa938c62bd"
      },
      "source": [
        "len(y3)"
      ],
      "execution_count": 64,
      "outputs": [
        {
          "output_type": "execute_result",
          "data": {
            "text/plain": [
              "67"
            ]
          },
          "metadata": {
            "tags": []
          },
          "execution_count": 64
        }
      ]
    },
    {
      "cell_type": "code",
      "metadata": {
        "colab": {
          "base_uri": "https://localhost:8080/"
        },
        "id": "YybMnqrI_ftx",
        "outputId": "accfabfa-0475-4c53-bb5f-9ffdd612cdee"
      },
      "source": [
        "y3.sort()\n",
        "y3"
      ],
      "execution_count": 65,
      "outputs": [
        {
          "output_type": "execute_result",
          "data": {
            "text/plain": [
              "array(['attock', 'bajaur agency', 'bannu', 'bhakkar', 'buner', 'chakwal',\n",
              "       'chaman', 'charsadda', 'd. i khan', 'd.g khan', 'd.i khan',\n",
              "       'dara adam khel', 'fateh jang', 'ghallanai, mohmand agency',\n",
              "       'gujrat', 'hangu', 'haripur', 'hayatabad', 'islamabad',\n",
              "       'jacobabad', 'karachi', 'karak', 'khanewal', 'khuzdar',\n",
              "       'khyber agency', 'kohat', 'kuram agency', 'kurram agency',\n",
              "       'lahore', 'lakki marwat', 'lasbela', 'lower dir', 'malakand',\n",
              "       'mansehra', 'mardan', 'mohmand agency',\n",
              "       'mosal kor, mohmand agency', 'multan', 'muzaffarabad',\n",
              "       'north waziristan', 'nowshehra', 'orakzai agency', 'peshawar',\n",
              "       'pishin', 'poonch', 'quetta', 'rawalpindi', 'sargodha',\n",
              "       'sehwan town', 'shabqadar-charsadda', 'shangla', 'shikarpur',\n",
              "       'sialkot', 'south waziristan', 'sudhanoti', 'sukkur', 'swabi',\n",
              "       'swat', 'taftan', 'tangi, charsadda district', 'tank', 'taunsa',\n",
              "       'tirah valley', 'totalai', 'upper dir', 'wagah', 'zhob'],\n",
              "      dtype=object)"
            ]
          },
          "metadata": {
            "tags": []
          },
          "execution_count": 65
        }
      ]
    },
    {
      "cell_type": "code",
      "metadata": {
        "colab": {
          "base_uri": "https://localhost:8080/"
        },
        "id": "f78vEQF1_-AR",
        "outputId": "26f57c50-db8c-4db0-d611-ffd55f763a54"
      },
      "source": [
        "print(\"Redundant Values: {}\".format(len(x3)-len(y3)))"
      ],
      "execution_count": 66,
      "outputs": [
        {
          "output_type": "stream",
          "text": [
            "Redundant Values: 26\n"
          ],
          "name": "stdout"
        }
      ]
    },
    {
      "cell_type": "markdown",
      "metadata": {
        "id": "SAmzHLY5AII4"
      },
      "source": [
        "*We can fix a good 80% of your text data entry inconsistencies by doing this. There's a more efficient way to do this though*"
      ]
    },
    {
      "cell_type": "markdown",
      "metadata": {
        "id": "0NbXaKjL6OpQ"
      },
      "source": [
        "#### **Fuzzy Matching**\n",
        "*The process of automatically finding text strings that are very similar to the target string. In general, a string is considered \"closer\" to another one the fewer characters you'd need to change if you were transforming one string into another.*"
      ]
    },
    {
      "cell_type": "code",
      "metadata": {
        "colab": {
          "base_uri": "https://localhost:8080/"
        },
        "id": "FGY8vq0uAj1A",
        "outputId": "bd00d22d-9828-4050-8b50-763d3e0bad7a"
      },
      "source": [
        "a3 = fuzzywuzzy.process.extract(\"d.i khan\", y3, limit=5, scorer=fuzzywuzzy.fuzz.token_sort_ratio)\n",
        "a3"
      ],
      "execution_count": 67,
      "outputs": [
        {
          "output_type": "execute_result",
          "data": {
            "text/plain": [
              "[('d. i khan', 100),\n",
              " ('d.i khan', 100),\n",
              " ('d.g khan', 88),\n",
              " ('khanewal', 50),\n",
              " ('sudhanoti', 47)]"
            ]
          },
          "metadata": {
            "tags": []
          },
          "execution_count": 67
        }
      ]
    },
    {
      "cell_type": "code",
      "metadata": {
        "id": "E9thUFPVBiDR"
      },
      "source": [
        "def replace_matches_in_column_3(df, column, string_to_match, min_ratio = 85):\n",
        "    strings = df[column].unique()\n",
        "    matches = fuzzywuzzy.process.extract(string_to_match, strings, \n",
        "                                         limit=10, scorer=fuzzywuzzy.fuzz.token_sort_ratio)\n",
        "    close_matches = [matches[0] for matches in matches if matches[1] >= min_ratio]\n",
        "    rows_with_matches = df[column].isin(close_matches)\n",
        "    df.loc[rows_with_matches, column] = string_to_match  \n",
        "    print(\"Completed\")"
      ],
      "execution_count": 68,
      "outputs": []
    },
    {
      "cell_type": "code",
      "metadata": {
        "colab": {
          "base_uri": "https://localhost:8080/"
        },
        "id": "FLqYnlGjB4AI",
        "outputId": "2018bce8-8fe8-4555-c9a2-d9f0868d60e5"
      },
      "source": [
        "replace_matches_in_column_3(df=df3, column='City', string_to_match=\"d.i khan\")"
      ],
      "execution_count": 69,
      "outputs": [
        {
          "output_type": "stream",
          "text": [
            "Completed\n"
          ],
          "name": "stdout"
        }
      ]
    },
    {
      "cell_type": "code",
      "metadata": {
        "id": "pdi2lSehCBpf"
      },
      "source": [
        "z3 = df3['City'].unique()"
      ],
      "execution_count": 70,
      "outputs": []
    },
    {
      "cell_type": "code",
      "metadata": {
        "colab": {
          "base_uri": "https://localhost:8080/"
        },
        "id": "w7XQwkWECIml",
        "outputId": "87dd8b27-ae76-415a-fbe1-0d6c4b1220de"
      },
      "source": [
        "len(z3)"
      ],
      "execution_count": 71,
      "outputs": [
        {
          "output_type": "execute_result",
          "data": {
            "text/plain": [
              "65"
            ]
          },
          "metadata": {
            "tags": []
          },
          "execution_count": 71
        }
      ]
    },
    {
      "cell_type": "code",
      "metadata": {
        "colab": {
          "base_uri": "https://localhost:8080/"
        },
        "id": "GV1sWPNgCf8h",
        "outputId": "a464dc39-bb38-47ad-a2ea-a244caefd351"
      },
      "source": [
        "z3.sort()\n",
        "z3"
      ],
      "execution_count": 72,
      "outputs": [
        {
          "output_type": "execute_result",
          "data": {
            "text/plain": [
              "array(['attock', 'bajaur agency', 'bannu', 'bhakkar', 'buner', 'chakwal',\n",
              "       'chaman', 'charsadda', 'd.i khan', 'dara adam khel', 'fateh jang',\n",
              "       'ghallanai, mohmand agency', 'gujrat', 'hangu', 'haripur',\n",
              "       'hayatabad', 'islamabad', 'jacobabad', 'karachi', 'karak',\n",
              "       'khanewal', 'khuzdar', 'khyber agency', 'kohat', 'kuram agency',\n",
              "       'kurram agency', 'lahore', 'lakki marwat', 'lasbela', 'lower dir',\n",
              "       'malakand', 'mansehra', 'mardan', 'mohmand agency',\n",
              "       'mosal kor, mohmand agency', 'multan', 'muzaffarabad',\n",
              "       'north waziristan', 'nowshehra', 'orakzai agency', 'peshawar',\n",
              "       'pishin', 'poonch', 'quetta', 'rawalpindi', 'sargodha',\n",
              "       'sehwan town', 'shabqadar-charsadda', 'shangla', 'shikarpur',\n",
              "       'sialkot', 'south waziristan', 'sudhanoti', 'sukkur', 'swabi',\n",
              "       'swat', 'taftan', 'tangi, charsadda district', 'tank', 'taunsa',\n",
              "       'tirah valley', 'totalai', 'upper dir', 'wagah', 'zhob'],\n",
              "      dtype=object)"
            ]
          },
          "metadata": {
            "tags": []
          },
          "execution_count": 72
        }
      ]
    },
    {
      "cell_type": "code",
      "metadata": {
        "colab": {
          "base_uri": "https://localhost:8080/"
        },
        "id": "wejm4kgFCkBQ",
        "outputId": "de160bbd-a3a3-4d42-dec8-bfe924f78a39"
      },
      "source": [
        "print(\"Redundant Values: {}\".format(len(x3)-len(z3)))"
      ],
      "execution_count": 73,
      "outputs": [
        {
          "output_type": "stream",
          "text": [
            "Redundant Values: 28\n"
          ],
          "name": "stdout"
        }
      ]
    },
    {
      "cell_type": "markdown",
      "metadata": {
        "id": "hSxhad0xA0O8"
      },
      "source": [
        "*So \"apple\" and \"snapple\" are two changes away from each other (add \"s\" and \"n\") while \"in\" and \"on\" are one change away (replace \"i\" with \"o\"). We won't always be able to rely on fuzzy matching 100%, but it is comparitively efficient.*"
      ]
    },
    {
      "cell_type": "markdown",
      "metadata": {
        "id": "hAaPC92WZsV6"
      },
      "source": [
        "# **4.\tHandling Dates and Times**"
      ]
    },
    {
      "cell_type": "markdown",
      "metadata": {
        "id": "cBzx7jGeSx_9"
      },
      "source": [
        "## References\n",
        "- https://www.kaggle.com/rtatman/data-cleaning-challenge-parsing-dates\n",
        "- https://towardsdatascience.com/machine-learning-with-datetime-feature-engineering-predicting-healthcare-appointment-no-shows-5e4ca3a85f96\n",
        "- https://predictablynoisy.com/posts/2017/2017-03-16-dates_in_python/\n",
        "- https://medium.com/jbennetcodes/dealing-with-datetimes-like-a-pro-in-pandas-b80d3d808a7f"
      ]
    },
    {
      "cell_type": "markdown",
      "metadata": {
        "id": "bb-gklbrTZUX"
      },
      "source": [
        "## Dataset\n",
        "- https://www.kaggle.com/nasa/landslide-events"
      ]
    },
    {
      "cell_type": "markdown",
      "metadata": {
        "id": "fJ3b1MxOTxY9"
      },
      "source": [
        "## Explanation\n",
        "*Dates and times are rich sources of information that can be used with machine learning models. However, these datetime variables do require some feature engineering to turn them into numerical data. In this post, I will demonstrate how to create datetime features with built in pandas functions for your machine learning models.*\n",
        "\n",
        "*Pandas uses the **object** dtype for storing various types of data types, but most often when you see a column with the dtype **object** it will have strings in it.*\n",
        "\n",
        "*There's also a specific **datetime64** dtypes in the pandas documentation. Since the dtype of our column is **object** rather than **datetime64**, Python doesn't know that this column contains dates.*\n",
        "\n",
        "*The basic idea is that you need to point out which parts of the date are where and what punctuation is between them. There are lots of possible parts of a date, but the most common are **%d** for day, **%m** for month, **%y** for a two-digit year and **%Y** for a four digit year.*"
      ]
    },
    {
      "cell_type": "markdown",
      "metadata": {
        "id": "gCphB5TfTzJD"
      },
      "source": [
        "## **Sample Program**"
      ]
    },
    {
      "cell_type": "markdown",
      "metadata": {
        "id": "4O9Ogduk5HHz"
      },
      "source": [
        "#### Dataset Inspection"
      ]
    },
    {
      "cell_type": "code",
      "metadata": {
        "id": "mLfUMMUzC1VZ"
      },
      "source": [
        "np.random.seed(0)"
      ],
      "execution_count": 111,
      "outputs": []
    },
    {
      "cell_type": "code",
      "metadata": {
        "id": "u7xxvK7k5k-a"
      },
      "source": [
        "df4 = pd.read_csv('/content/T1/3.csv')"
      ],
      "execution_count": 112,
      "outputs": []
    },
    {
      "cell_type": "code",
      "metadata": {
        "colab": {
          "base_uri": "https://localhost:8080/",
          "height": 400
        },
        "id": "J2NwTQnL5nhY",
        "outputId": "2f7ef5a0-1717-4418-b9f3-6b8b24557944"
      },
      "source": [
        "df4.head()"
      ],
      "execution_count": 113,
      "outputs": [
        {
          "output_type": "execute_result",
          "data": {
            "text/html": [
              "<div>\n",
              "<style scoped>\n",
              "    .dataframe tbody tr th:only-of-type {\n",
              "        vertical-align: middle;\n",
              "    }\n",
              "\n",
              "    .dataframe tbody tr th {\n",
              "        vertical-align: top;\n",
              "    }\n",
              "\n",
              "    .dataframe thead th {\n",
              "        text-align: right;\n",
              "    }\n",
              "</style>\n",
              "<table border=\"1\" class=\"dataframe\">\n",
              "  <thead>\n",
              "    <tr style=\"text-align: right;\">\n",
              "      <th></th>\n",
              "      <th>id</th>\n",
              "      <th>date</th>\n",
              "      <th>time</th>\n",
              "      <th>continent_code</th>\n",
              "      <th>country_name</th>\n",
              "      <th>country_code</th>\n",
              "      <th>state/province</th>\n",
              "      <th>population</th>\n",
              "      <th>city/town</th>\n",
              "      <th>distance</th>\n",
              "      <th>location_description</th>\n",
              "      <th>latitude</th>\n",
              "      <th>longitude</th>\n",
              "      <th>geolocation</th>\n",
              "      <th>hazard_type</th>\n",
              "      <th>landslide_type</th>\n",
              "      <th>landslide_size</th>\n",
              "      <th>trigger</th>\n",
              "      <th>storm_name</th>\n",
              "      <th>injuries</th>\n",
              "      <th>fatalities</th>\n",
              "      <th>source_name</th>\n",
              "      <th>source_link</th>\n",
              "    </tr>\n",
              "  </thead>\n",
              "  <tbody>\n",
              "    <tr>\n",
              "      <th>0</th>\n",
              "      <td>34</td>\n",
              "      <td>3/2/07</td>\n",
              "      <td>Night</td>\n",
              "      <td>NaN</td>\n",
              "      <td>United States</td>\n",
              "      <td>US</td>\n",
              "      <td>Virginia</td>\n",
              "      <td>16000</td>\n",
              "      <td>Cherry Hill</td>\n",
              "      <td>3.40765</td>\n",
              "      <td>Unknown</td>\n",
              "      <td>38.6009</td>\n",
              "      <td>-77.2682</td>\n",
              "      <td>(38.600900000000003, -77.268199999999993)</td>\n",
              "      <td>Landslide</td>\n",
              "      <td>Landslide</td>\n",
              "      <td>Small</td>\n",
              "      <td>Rain</td>\n",
              "      <td>NaN</td>\n",
              "      <td>NaN</td>\n",
              "      <td>NaN</td>\n",
              "      <td>NBC 4 news</td>\n",
              "      <td>http://www.nbc4.com/news/11186871/detail.html</td>\n",
              "    </tr>\n",
              "    <tr>\n",
              "      <th>1</th>\n",
              "      <td>42</td>\n",
              "      <td>3/22/07</td>\n",
              "      <td>NaN</td>\n",
              "      <td>NaN</td>\n",
              "      <td>United States</td>\n",
              "      <td>US</td>\n",
              "      <td>Ohio</td>\n",
              "      <td>17288</td>\n",
              "      <td>New Philadelphia</td>\n",
              "      <td>3.33522</td>\n",
              "      <td>NaN</td>\n",
              "      <td>40.5175</td>\n",
              "      <td>-81.4305</td>\n",
              "      <td>(40.517499999999998, -81.430499999999995)</td>\n",
              "      <td>Landslide</td>\n",
              "      <td>Landslide</td>\n",
              "      <td>Small</td>\n",
              "      <td>Rain</td>\n",
              "      <td>NaN</td>\n",
              "      <td>NaN</td>\n",
              "      <td>NaN</td>\n",
              "      <td>Canton Rep.com</td>\n",
              "      <td>http://www.cantonrep.com/index.php?ID=345054&amp;C...</td>\n",
              "    </tr>\n",
              "    <tr>\n",
              "      <th>2</th>\n",
              "      <td>56</td>\n",
              "      <td>4/6/07</td>\n",
              "      <td>NaN</td>\n",
              "      <td>NaN</td>\n",
              "      <td>United States</td>\n",
              "      <td>US</td>\n",
              "      <td>Pennsylvania</td>\n",
              "      <td>15930</td>\n",
              "      <td>Wilkinsburg</td>\n",
              "      <td>2.91977</td>\n",
              "      <td>Urban area</td>\n",
              "      <td>40.4377</td>\n",
              "      <td>-79.9160</td>\n",
              "      <td>(40.4377, -79.915999999999997)</td>\n",
              "      <td>Landslide</td>\n",
              "      <td>Landslide</td>\n",
              "      <td>Small</td>\n",
              "      <td>Rain</td>\n",
              "      <td>NaN</td>\n",
              "      <td>NaN</td>\n",
              "      <td>NaN</td>\n",
              "      <td>The Pittsburgh Channel.com</td>\n",
              "      <td>https://web.archive.org/web/20080423132842/htt...</td>\n",
              "    </tr>\n",
              "    <tr>\n",
              "      <th>3</th>\n",
              "      <td>59</td>\n",
              "      <td>4/14/07</td>\n",
              "      <td>NaN</td>\n",
              "      <td>NaN</td>\n",
              "      <td>Canada</td>\n",
              "      <td>CA</td>\n",
              "      <td>Quebec</td>\n",
              "      <td>42786</td>\n",
              "      <td>Châteauguay</td>\n",
              "      <td>2.98682</td>\n",
              "      <td>Above river</td>\n",
              "      <td>45.3226</td>\n",
              "      <td>-73.7771</td>\n",
              "      <td>(45.322600000000001, -73.777100000000004)</td>\n",
              "      <td>Landslide</td>\n",
              "      <td>Riverbank collapse</td>\n",
              "      <td>Small</td>\n",
              "      <td>Rain</td>\n",
              "      <td>NaN</td>\n",
              "      <td>NaN</td>\n",
              "      <td>NaN</td>\n",
              "      <td>Le Soleil</td>\n",
              "      <td>http://www.hebdos.net/lsc/edition162007/articl...</td>\n",
              "    </tr>\n",
              "    <tr>\n",
              "      <th>4</th>\n",
              "      <td>61</td>\n",
              "      <td>4/15/07</td>\n",
              "      <td>NaN</td>\n",
              "      <td>NaN</td>\n",
              "      <td>United States</td>\n",
              "      <td>US</td>\n",
              "      <td>Kentucky</td>\n",
              "      <td>6903</td>\n",
              "      <td>Pikeville</td>\n",
              "      <td>5.66542</td>\n",
              "      <td>Below road</td>\n",
              "      <td>37.4325</td>\n",
              "      <td>-82.4931</td>\n",
              "      <td>(37.432499999999997, -82.493099999999998)</td>\n",
              "      <td>Landslide</td>\n",
              "      <td>Landslide</td>\n",
              "      <td>Small</td>\n",
              "      <td>Downpour</td>\n",
              "      <td>NaN</td>\n",
              "      <td>NaN</td>\n",
              "      <td>0.0</td>\n",
              "      <td>Matthew Crawford (KGS)</td>\n",
              "      <td>NaN</td>\n",
              "    </tr>\n",
              "  </tbody>\n",
              "</table>\n",
              "</div>"
            ],
            "text/plain": [
              "   id  ...                                        source_link\n",
              "0  34  ...      http://www.nbc4.com/news/11186871/detail.html\n",
              "1  42  ...  http://www.cantonrep.com/index.php?ID=345054&C...\n",
              "2  56  ...  https://web.archive.org/web/20080423132842/htt...\n",
              "3  59  ...  http://www.hebdos.net/lsc/edition162007/articl...\n",
              "4  61  ...                                                NaN\n",
              "\n",
              "[5 rows x 23 columns]"
            ]
          },
          "metadata": {
            "tags": []
          },
          "execution_count": 113
        }
      ]
    },
    {
      "cell_type": "code",
      "metadata": {
        "colab": {
          "base_uri": "https://localhost:8080/",
          "height": 300
        },
        "id": "dPXvHNVA5ozo",
        "outputId": "16e140e0-e654-4dfc-ce02-846b0031f907"
      },
      "source": [
        "df4.describe()"
      ],
      "execution_count": 114,
      "outputs": [
        {
          "output_type": "execute_result",
          "data": {
            "text/html": [
              "<div>\n",
              "<style scoped>\n",
              "    .dataframe tbody tr th:only-of-type {\n",
              "        vertical-align: middle;\n",
              "    }\n",
              "\n",
              "    .dataframe tbody tr th {\n",
              "        vertical-align: top;\n",
              "    }\n",
              "\n",
              "    .dataframe thead th {\n",
              "        text-align: right;\n",
              "    }\n",
              "</style>\n",
              "<table border=\"1\" class=\"dataframe\">\n",
              "  <thead>\n",
              "    <tr style=\"text-align: right;\">\n",
              "      <th></th>\n",
              "      <th>id</th>\n",
              "      <th>population</th>\n",
              "      <th>distance</th>\n",
              "      <th>latitude</th>\n",
              "      <th>longitude</th>\n",
              "      <th>injuries</th>\n",
              "      <th>fatalities</th>\n",
              "    </tr>\n",
              "  </thead>\n",
              "  <tbody>\n",
              "    <tr>\n",
              "      <th>count</th>\n",
              "      <td>1693.000000</td>\n",
              "      <td>1.693000e+03</td>\n",
              "      <td>1692.000000</td>\n",
              "      <td>1692.000000</td>\n",
              "      <td>1692.000000</td>\n",
              "      <td>515.000000</td>\n",
              "      <td>1446.000000</td>\n",
              "    </tr>\n",
              "    <tr>\n",
              "      <th>mean</th>\n",
              "      <td>4145.027761</td>\n",
              "      <td>9.345940e+04</td>\n",
              "      <td>7.822695</td>\n",
              "      <td>27.715661</td>\n",
              "      <td>-86.883660</td>\n",
              "      <td>0.526214</td>\n",
              "      <td>1.459198</td>\n",
              "    </tr>\n",
              "    <tr>\n",
              "      <th>std</th>\n",
              "      <td>2236.741960</td>\n",
              "      <td>5.226016e+05</td>\n",
              "      <td>9.358256</td>\n",
              "      <td>14.206341</td>\n",
              "      <td>14.332811</td>\n",
              "      <td>3.427514</td>\n",
              "      <td>9.184653</td>\n",
              "    </tr>\n",
              "    <tr>\n",
              "      <th>min</th>\n",
              "      <td>34.000000</td>\n",
              "      <td>0.000000e+00</td>\n",
              "      <td>0.000030</td>\n",
              "      <td>-10.125800</td>\n",
              "      <td>-117.309200</td>\n",
              "      <td>0.000000</td>\n",
              "      <td>0.000000</td>\n",
              "    </tr>\n",
              "    <tr>\n",
              "      <th>25%</th>\n",
              "      <td>2330.000000</td>\n",
              "      <td>2.080000e+03</td>\n",
              "      <td>1.936360</td>\n",
              "      <td>14.085650</td>\n",
              "      <td>-92.646625</td>\n",
              "      <td>0.000000</td>\n",
              "      <td>0.000000</td>\n",
              "    </tr>\n",
              "    <tr>\n",
              "      <th>50%</th>\n",
              "      <td>4087.000000</td>\n",
              "      <td>5.785000e+03</td>\n",
              "      <td>4.538635</td>\n",
              "      <td>35.613200</td>\n",
              "      <td>-83.653000</td>\n",
              "      <td>0.000000</td>\n",
              "      <td>0.000000</td>\n",
              "    </tr>\n",
              "    <tr>\n",
              "      <th>75%</th>\n",
              "      <td>6098.000000</td>\n",
              "      <td>1.886700e+04</td>\n",
              "      <td>9.873865</td>\n",
              "      <td>39.546400</td>\n",
              "      <td>-78.851325</td>\n",
              "      <td>0.000000</td>\n",
              "      <td>0.000000</td>\n",
              "    </tr>\n",
              "    <tr>\n",
              "      <th>max</th>\n",
              "      <td>7541.000000</td>\n",
              "      <td>1.229419e+07</td>\n",
              "      <td>74.460970</td>\n",
              "      <td>45.425700</td>\n",
              "      <td>-45.601000</td>\n",
              "      <td>45.000000</td>\n",
              "      <td>280.000000</td>\n",
              "    </tr>\n",
              "  </tbody>\n",
              "</table>\n",
              "</div>"
            ],
            "text/plain": [
              "                id    population  ...    injuries   fatalities\n",
              "count  1693.000000  1.693000e+03  ...  515.000000  1446.000000\n",
              "mean   4145.027761  9.345940e+04  ...    0.526214     1.459198\n",
              "std    2236.741960  5.226016e+05  ...    3.427514     9.184653\n",
              "min      34.000000  0.000000e+00  ...    0.000000     0.000000\n",
              "25%    2330.000000  2.080000e+03  ...    0.000000     0.000000\n",
              "50%    4087.000000  5.785000e+03  ...    0.000000     0.000000\n",
              "75%    6098.000000  1.886700e+04  ...    0.000000     0.000000\n",
              "max    7541.000000  1.229419e+07  ...   45.000000   280.000000\n",
              "\n",
              "[8 rows x 7 columns]"
            ]
          },
          "metadata": {
            "tags": []
          },
          "execution_count": 114
        }
      ]
    },
    {
      "cell_type": "code",
      "metadata": {
        "colab": {
          "base_uri": "https://localhost:8080/"
        },
        "id": "d1OzgzTx5qf2",
        "outputId": "ea174ae3-7406-42c5-94eb-640b847a00d0"
      },
      "source": [
        "df4.info"
      ],
      "execution_count": 115,
      "outputs": [
        {
          "output_type": "execute_result",
          "data": {
            "text/plain": [
              "<bound method DataFrame.info of         id  ...                                        source_link\n",
              "0       34  ...      http://www.nbc4.com/news/11186871/detail.html\n",
              "1       42  ...  http://www.cantonrep.com/index.php?ID=345054&C...\n",
              "2       56  ...  https://web.archive.org/web/20080423132842/htt...\n",
              "3       59  ...  http://www.hebdos.net/lsc/edition162007/articl...\n",
              "4       61  ...                                                NaN\n",
              "...    ...  ...                                                ...\n",
              "1688  7535  ...  http://www.tryondailybulletin.com/2016/02/26/u...\n",
              "1689  7537  ...  http://www.wvgazettemail.com/news/20160222/us-...\n",
              "1690  7539  ...  http://www.bdtonline.com/news/officials-cautio...\n",
              "1691  7540  ...  http://www.bdtonline.com/news/rockslide-snarls...\n",
              "1692  7541  ...  http://www.vnews.com/home/21353539-95/loose-ledge\n",
              "\n",
              "[1693 rows x 23 columns]>"
            ]
          },
          "metadata": {
            "tags": []
          },
          "execution_count": 115
        }
      ]
    },
    {
      "cell_type": "markdown",
      "metadata": {
        "id": "Y9Ok__cZ5gNO"
      },
      "source": [
        "#### **Date Parsing**\n",
        "*Now that we know that our date column isn't being recognized as a date, it's time to convert it so that it is recognized as a date. This is called \"parsing dates\" because we're taking in a string and identifying its component parts.*"
      ]
    },
    {
      "cell_type": "code",
      "metadata": {
        "colab": {
          "base_uri": "https://localhost:8080/"
        },
        "id": "rIbG3yxsBKsW",
        "outputId": "a297cc40-a908-4cc1-e81a-15e1ed36633c"
      },
      "source": [
        "print(df4['date'].head())"
      ],
      "execution_count": 116,
      "outputs": [
        {
          "output_type": "stream",
          "text": [
            "0     3/2/07\n",
            "1    3/22/07\n",
            "2     4/6/07\n",
            "3    4/14/07\n",
            "4    4/15/07\n",
            "Name: date, dtype: object\n"
          ],
          "name": "stdout"
        }
      ]
    },
    {
      "cell_type": "code",
      "metadata": {
        "colab": {
          "base_uri": "https://localhost:8080/"
        },
        "id": "-a5vfBF7DARa",
        "outputId": "58b11d77-5b23-4127-c032-8d84a0187d3e"
      },
      "source": [
        "df4['date'].dtype"
      ],
      "execution_count": 117,
      "outputs": [
        {
          "output_type": "execute_result",
          "data": {
            "text/plain": [
              "dtype('O')"
            ]
          },
          "metadata": {
            "tags": []
          },
          "execution_count": 117
        }
      ]
    },
    {
      "cell_type": "markdown",
      "metadata": {
        "id": "ac4nAYdtD3PL"
      },
      "source": [
        "`df4['new_date'] = pd.to_datetime(df4['Date'], format = \"%m/%d/%y\")` \n",
        "> This statement gave an error because there are multiple date formats in a single column."
      ]
    },
    {
      "cell_type": "code",
      "metadata": {
        "id": "glnzZtG3DEcn"
      },
      "source": [
        "df4['new_date'] = pd.to_datetime(df4['date'], infer_datetime_format=True)"
      ],
      "execution_count": 120,
      "outputs": []
    },
    {
      "cell_type": "code",
      "metadata": {
        "colab": {
          "base_uri": "https://localhost:8080/"
        },
        "id": "GeVUfQA4FyC3",
        "outputId": "7ce773c1-a68b-401f-8d47-3145b3af1a6f"
      },
      "source": [
        "df4['new_date'].dtype"
      ],
      "execution_count": 121,
      "outputs": [
        {
          "output_type": "execute_result",
          "data": {
            "text/plain": [
              "dtype('<M8[ns]')"
            ]
          },
          "metadata": {
            "tags": []
          },
          "execution_count": 121
        }
      ]
    },
    {
      "cell_type": "code",
      "metadata": {
        "colab": {
          "base_uri": "https://localhost:8080/"
        },
        "id": "IvQIkX45FVr7",
        "outputId": "d0ab1a61-c648-47fa-f4f8-f8c8eba7065f"
      },
      "source": [
        "day4 = df4['new_date'].dt.day\n",
        "day4"
      ],
      "execution_count": 123,
      "outputs": [
        {
          "output_type": "execute_result",
          "data": {
            "text/plain": [
              "0        2.0\n",
              "1       22.0\n",
              "2        6.0\n",
              "3       14.0\n",
              "4       15.0\n",
              "        ... \n",
              "1688     7.0\n",
              "1689    22.0\n",
              "1690    23.0\n",
              "1691    26.0\n",
              "1692     2.0\n",
              "Name: new_date, Length: 1693, dtype: float64"
            ]
          },
          "metadata": {
            "tags": []
          },
          "execution_count": 123
        }
      ]
    },
    {
      "cell_type": "code",
      "metadata": {
        "colab": {
          "base_uri": "https://localhost:8080/"
        },
        "id": "p5pHPZZXHx2G",
        "outputId": "87a403d4-f4d0-4967-e799-8b55ba1bd421"
      },
      "source": [
        "month4 = df4['new_date'].dt.month\n",
        "month4"
      ],
      "execution_count": 125,
      "outputs": [
        {
          "output_type": "execute_result",
          "data": {
            "text/plain": [
              "0        3.0\n",
              "1        3.0\n",
              "2        4.0\n",
              "3        4.0\n",
              "4        4.0\n",
              "        ... \n",
              "1688    12.0\n",
              "1689     2.0\n",
              "1690     2.0\n",
              "1691     2.0\n",
              "1692     3.0\n",
              "Name: new_date, Length: 1693, dtype: float64"
            ]
          },
          "metadata": {
            "tags": []
          },
          "execution_count": 125
        }
      ]
    },
    {
      "cell_type": "code",
      "metadata": {
        "colab": {
          "base_uri": "https://localhost:8080/"
        },
        "id": "EROKiNrUH7yB",
        "outputId": "1a48f3b0-62ed-4d13-af23-c2863d1fc550"
      },
      "source": [
        "year4 = df4['new_date'].dt.year\n",
        "year4"
      ],
      "execution_count": 126,
      "outputs": [
        {
          "output_type": "execute_result",
          "data": {
            "text/plain": [
              "0       2007.0\n",
              "1       2007.0\n",
              "2       2007.0\n",
              "3       2007.0\n",
              "4       2007.0\n",
              "         ...  \n",
              "1688    2015.0\n",
              "1689    2016.0\n",
              "1690    2016.0\n",
              "1691    2016.0\n",
              "1692    2016.0\n",
              "Name: new_date, Length: 1693, dtype: float64"
            ]
          },
          "metadata": {
            "tags": []
          },
          "execution_count": 126
        }
      ]
    },
    {
      "cell_type": "code",
      "metadata": {
        "id": "JC3SbVEPH_Nn"
      },
      "source": [
        "day4 = day4.dropna()\n",
        "month4 = month4.dropna()\n",
        "year4 = year4.dropna()"
      ],
      "execution_count": 128,
      "outputs": []
    },
    {
      "cell_type": "code",
      "metadata": {
        "colab": {
          "base_uri": "https://localhost:8080/",
          "height": 299
        },
        "id": "hIcYaVnyIM3u",
        "outputId": "7ec78ed9-3fbd-4f40-d3a3-cbb4c1a63e9a"
      },
      "source": [
        "sns.distplot(day4, kde=False, bins=31)"
      ],
      "execution_count": 129,
      "outputs": [
        {
          "output_type": "execute_result",
          "data": {
            "text/plain": [
              "<matplotlib.axes._subplots.AxesSubplot at 0x7fa5e9bb0e50>"
            ]
          },
          "metadata": {
            "tags": []
          },
          "execution_count": 129
        },
        {
          "output_type": "display_data",
          "data": {
            "image/png": "[encoded data removed]",
            "text/plain": [
              "<Figure size 432x288 with 1 Axes>"
            ]
          },
          "metadata": {
            "tags": [],
            "needs_background": "light"
          }
        }
      ]
    },
    {
      "cell_type": "code",
      "metadata": {
        "colab": {
          "base_uri": "https://localhost:8080/",
          "height": 299
        },
        "id": "M0P0AnLmIPVi",
        "outputId": "81ba3642-15b2-4398-9f2f-a633861def1a"
      },
      "source": [
        "sns.distplot(month4, kde=False, bins=12)"
      ],
      "execution_count": 130,
      "outputs": [
        {
          "output_type": "execute_result",
          "data": {
            "text/plain": [
              "<matplotlib.axes._subplots.AxesSubplot at 0x7fa5e9a25150>"
            ]
          },
          "metadata": {
            "tags": []
          },
          "execution_count": 130
        },
        {
          "output_type": "display_data",
          "data": {
            "image/png": "[encoded data removed]",
            "text/plain": [
              "<Figure size 432x288 with 1 Axes>"
            ]
          },
          "metadata": {
            "tags": [],
            "needs_background": "light"
          }
        }
      ]
    },
    {
      "cell_type": "code",
      "metadata": {
        "colab": {
          "base_uri": "https://localhost:8080/",
          "height": 299
        },
        "id": "mXibPg0sIRjx",
        "outputId": "91a6b729-a372-4c63-93ae-1f4dff8ffb79"
      },
      "source": [
        "sns.distplot(year4, kde=False)"
      ],
      "execution_count": 132,
      "outputs": [
        {
          "output_type": "execute_result",
          "data": {
            "text/plain": [
              "<matplotlib.axes._subplots.AxesSubplot at 0x7fa5e8503d10>"
            ]
          },
          "metadata": {
            "tags": []
          },
          "execution_count": 132
        },
        {
          "output_type": "display_data",
          "data": {
            "image/png": "[encoded data removed]",
            "text/plain": [
              "<Figure size 432x288 with 1 Axes>"
            ]
          },
          "metadata": {
            "tags": [],
            "needs_background": "light"
          }
        }
      ]
    },
    {
      "cell_type": "markdown",
      "metadata": {
        "id": "CJU1EsNLE4Fh"
      },
      "source": [
        "*There are two big reasons not to always have pandas guess the time format. The first is that pandas won't always been able to figure out the correct date format, especially if someone has gotten creative with data entry. The second is that it's much slower than specifying the exact format of the dates.*"
      ]
    },
    {
      "cell_type": "markdown",
      "metadata": {
        "id": "LNYm8fOVZskK"
      },
      "source": [
        "# **5. Scaling and Normalization**"
      ]
    },
    {
      "cell_type": "markdown",
      "metadata": {
        "id": "Umdea-MyUFgF"
      },
      "source": [
        "## References\n",
        "- https://www.kaggle.com/rtatman/data-cleaning-challenge-scale-and-normalize-data\n",
        "- https://www.analyticsvidhya.com/blog/2020/04/feature-scaling-machine-learning-normalization-standardization/\n",
        "- https://machinelearningmastery.com/standardscaler-and-minmaxscaler-transforms-in-python/\n",
        "- https://machinelearningmastery.com/how-to-improve-neural-network-stability-and-modeling-performance-with-data-scaling/"
      ]
    },
    {
      "cell_type": "markdown",
      "metadata": {
        "id": "E0D6P9hYUKTw"
      },
      "source": [
        "## Dataset\n",
        "- https://raw.githubusercontent.com/jbrownlee/Datasets/master/sonar.csv"
      ]
    },
    {
      "cell_type": "markdown",
      "metadata": {
        "id": "yYGpMWB0UMEX"
      },
      "source": [
        "## Explanation\n",
        "*Deep learning neural network models learn a mapping from input variables to an output variable. As such, the scale and distribution of the data drawn from the domain may be different for each variable. Input variables may have different units (e.g. feet, kilometers, and hours) that, in turn, may mean the variables have different scales.*\n",
        "\n",
        "*Differences in the scales across input variables may increase the difficulty of the problem being modeled. An example of this is that large input values (e.g. a spread of hundreds or thousands of units) can result in a model that learns large weight values. A model with large weight values is often unstable, meaning that it may suffer from poor performance during learning and sensitivity to input values resulting in higher generalization error.*\n",
        "\n",
        "#### ***Scaling***\n",
        "*This means that you're transforming your data so that it fits within a specific scale, like 0-100 or 0-1. You want to scale data when you're using methods based on measures of how far apart data points, like support vector machines, or SVM or k-nearest neighbors, or KNN. With these algorithms, a change of \"1\" in any numeric feature is given the same importance. By scaling your variables, you can help compare different variables on equal footing. To help solidify what scaling looks like, let's look at a made-up example.*\n",
        "\n",
        "#### ***Normalization***\n",
        "*Scaling just changes the range of your data. Normalization is a more radical transformation. The point of normalization is to change your observations so that they can be described as a normal distribution. In general, you'll only want to normalize your data if you're going to be using a machine learning or statistics technique that assumes your data is normally distributed. Some examples of these include t-tests, ANOVAs, linear regression, linear discriminant analysis (LDA) and Gaussian naive Bayes.*\n"
      ]
    },
    {
      "cell_type": "markdown",
      "metadata": {
        "id": "x_KNtJwlUNwq"
      },
      "source": [
        "## **Sample Program**"
      ]
    },
    {
      "cell_type": "markdown",
      "metadata": {
        "id": "wrK0EyWfJpeN"
      },
      "source": [
        "#### Dataset Inspection"
      ]
    },
    {
      "cell_type": "code",
      "metadata": {
        "id": "x2H9ELpRTbCn"
      },
      "source": [
        "np.random.seed(0)"
      ],
      "execution_count": 138,
      "outputs": []
    },
    {
      "cell_type": "code",
      "metadata": {
        "id": "DDUHWh5zTbtc"
      },
      "source": [
        "df5 = pd.read_csv('/content/T1/4.csv',header=None)"
      ],
      "execution_count": 139,
      "outputs": []
    },
    {
      "cell_type": "code",
      "metadata": {
        "colab": {
          "base_uri": "https://localhost:8080/",
          "height": 226
        },
        "id": "D6RpFuC3TtC9",
        "outputId": "e32cbf71-4144-490d-c22b-4c8b9ac7e4a2"
      },
      "source": [
        "df5.head()"
      ],
      "execution_count": 140,
      "outputs": [
        {
          "output_type": "execute_result",
          "data": {
            "text/html": [
              "<div>\n",
              "<style scoped>\n",
              "    .dataframe tbody tr th:only-of-type {\n",
              "        vertical-align: middle;\n",
              "    }\n",
              "\n",
              "    .dataframe tbody tr th {\n",
              "        vertical-align: top;\n",
              "    }\n",
              "\n",
              "    .dataframe thead th {\n",
              "        text-align: right;\n",
              "    }\n",
              "</style>\n",
              "<table border=\"1\" class=\"dataframe\">\n",
              "  <thead>\n",
              "    <tr style=\"text-align: right;\">\n",
              "      <th></th>\n",
              "      <th>0</th>\n",
              "      <th>1</th>\n",
              "      <th>2</th>\n",
              "      <th>3</th>\n",
              "      <th>4</th>\n",
              "      <th>5</th>\n",
              "      <th>6</th>\n",
              "      <th>7</th>\n",
              "      <th>8</th>\n",
              "      <th>9</th>\n",
              "      <th>10</th>\n",
              "      <th>11</th>\n",
              "      <th>12</th>\n",
              "      <th>13</th>\n",
              "      <th>14</th>\n",
              "      <th>15</th>\n",
              "      <th>16</th>\n",
              "      <th>17</th>\n",
              "      <th>18</th>\n",
              "      <th>19</th>\n",
              "      <th>20</th>\n",
              "      <th>21</th>\n",
              "      <th>22</th>\n",
              "      <th>23</th>\n",
              "      <th>24</th>\n",
              "      <th>25</th>\n",
              "      <th>26</th>\n",
              "      <th>27</th>\n",
              "      <th>28</th>\n",
              "      <th>29</th>\n",
              "      <th>30</th>\n",
              "      <th>31</th>\n",
              "      <th>32</th>\n",
              "      <th>33</th>\n",
              "      <th>34</th>\n",
              "      <th>35</th>\n",
              "      <th>36</th>\n",
              "      <th>37</th>\n",
              "      <th>38</th>\n",
              "      <th>39</th>\n",
              "      <th>40</th>\n",
              "      <th>41</th>\n",
              "      <th>42</th>\n",
              "      <th>43</th>\n",
              "      <th>44</th>\n",
              "      <th>45</th>\n",
              "      <th>46</th>\n",
              "      <th>47</th>\n",
              "      <th>48</th>\n",
              "      <th>49</th>\n",
              "      <th>50</th>\n",
              "      <th>51</th>\n",
              "      <th>52</th>\n",
              "      <th>53</th>\n",
              "      <th>54</th>\n",
              "      <th>55</th>\n",
              "      <th>56</th>\n",
              "      <th>57</th>\n",
              "      <th>58</th>\n",
              "      <th>59</th>\n",
              "      <th>60</th>\n",
              "    </tr>\n",
              "  </thead>\n",
              "  <tbody>\n",
              "    <tr>\n",
              "      <th>0</th>\n",
              "      <td>0.0200</td>\n",
              "      <td>0.0371</td>\n",
              "      <td>0.0428</td>\n",
              "      <td>0.0207</td>\n",
              "      <td>0.0954</td>\n",
              "      <td>0.0986</td>\n",
              "      <td>0.1539</td>\n",
              "      <td>0.1601</td>\n",
              "      <td>0.3109</td>\n",
              "      <td>0.2111</td>\n",
              "      <td>0.1609</td>\n",
              "      <td>0.1582</td>\n",
              "      <td>0.2238</td>\n",
              "      <td>0.0645</td>\n",
              "      <td>0.0660</td>\n",
              "      <td>0.2273</td>\n",
              "      <td>0.3100</td>\n",
              "      <td>0.2999</td>\n",
              "      <td>0.5078</td>\n",
              "      <td>0.4797</td>\n",
              "      <td>0.5783</td>\n",
              "      <td>0.5071</td>\n",
              "      <td>0.4328</td>\n",
              "      <td>0.5550</td>\n",
              "      <td>0.6711</td>\n",
              "      <td>0.6415</td>\n",
              "      <td>0.7104</td>\n",
              "      <td>0.8080</td>\n",
              "      <td>0.6791</td>\n",
              "      <td>0.3857</td>\n",
              "      <td>0.1307</td>\n",
              "      <td>0.2604</td>\n",
              "      <td>0.5121</td>\n",
              "      <td>0.7547</td>\n",
              "      <td>0.8537</td>\n",
              "      <td>0.8507</td>\n",
              "      <td>0.6692</td>\n",
              "      <td>0.6097</td>\n",
              "      <td>0.4943</td>\n",
              "      <td>0.2744</td>\n",
              "      <td>0.0510</td>\n",
              "      <td>0.2834</td>\n",
              "      <td>0.2825</td>\n",
              "      <td>0.4256</td>\n",
              "      <td>0.2641</td>\n",
              "      <td>0.1386</td>\n",
              "      <td>0.1051</td>\n",
              "      <td>0.1343</td>\n",
              "      <td>0.0383</td>\n",
              "      <td>0.0324</td>\n",
              "      <td>0.0232</td>\n",
              "      <td>0.0027</td>\n",
              "      <td>0.0065</td>\n",
              "      <td>0.0159</td>\n",
              "      <td>0.0072</td>\n",
              "      <td>0.0167</td>\n",
              "      <td>0.0180</td>\n",
              "      <td>0.0084</td>\n",
              "      <td>0.0090</td>\n",
              "      <td>0.0032</td>\n",
              "      <td>R</td>\n",
              "    </tr>\n",
              "    <tr>\n",
              "      <th>1</th>\n",
              "      <td>0.0453</td>\n",
              "      <td>0.0523</td>\n",
              "      <td>0.0843</td>\n",
              "      <td>0.0689</td>\n",
              "      <td>0.1183</td>\n",
              "      <td>0.2583</td>\n",
              "      <td>0.2156</td>\n",
              "      <td>0.3481</td>\n",
              "      <td>0.3337</td>\n",
              "      <td>0.2872</td>\n",
              "      <td>0.4918</td>\n",
              "      <td>0.6552</td>\n",
              "      <td>0.6919</td>\n",
              "      <td>0.7797</td>\n",
              "      <td>0.7464</td>\n",
              "      <td>0.9444</td>\n",
              "      <td>1.0000</td>\n",
              "      <td>0.8874</td>\n",
              "      <td>0.8024</td>\n",
              "      <td>0.7818</td>\n",
              "      <td>0.5212</td>\n",
              "      <td>0.4052</td>\n",
              "      <td>0.3957</td>\n",
              "      <td>0.3914</td>\n",
              "      <td>0.3250</td>\n",
              "      <td>0.3200</td>\n",
              "      <td>0.3271</td>\n",
              "      <td>0.2767</td>\n",
              "      <td>0.4423</td>\n",
              "      <td>0.2028</td>\n",
              "      <td>0.3788</td>\n",
              "      <td>0.2947</td>\n",
              "      <td>0.1984</td>\n",
              "      <td>0.2341</td>\n",
              "      <td>0.1306</td>\n",
              "      <td>0.4182</td>\n",
              "      <td>0.3835</td>\n",
              "      <td>0.1057</td>\n",
              "      <td>0.1840</td>\n",
              "      <td>0.1970</td>\n",
              "      <td>0.1674</td>\n",
              "      <td>0.0583</td>\n",
              "      <td>0.1401</td>\n",
              "      <td>0.1628</td>\n",
              "      <td>0.0621</td>\n",
              "      <td>0.0203</td>\n",
              "      <td>0.0530</td>\n",
              "      <td>0.0742</td>\n",
              "      <td>0.0409</td>\n",
              "      <td>0.0061</td>\n",
              "      <td>0.0125</td>\n",
              "      <td>0.0084</td>\n",
              "      <td>0.0089</td>\n",
              "      <td>0.0048</td>\n",
              "      <td>0.0094</td>\n",
              "      <td>0.0191</td>\n",
              "      <td>0.0140</td>\n",
              "      <td>0.0049</td>\n",
              "      <td>0.0052</td>\n",
              "      <td>0.0044</td>\n",
              "      <td>R</td>\n",
              "    </tr>\n",
              "    <tr>\n",
              "      <th>2</th>\n",
              "      <td>0.0262</td>\n",
              "      <td>0.0582</td>\n",
              "      <td>0.1099</td>\n",
              "      <td>0.1083</td>\n",
              "      <td>0.0974</td>\n",
              "      <td>0.2280</td>\n",
              "      <td>0.2431</td>\n",
              "      <td>0.3771</td>\n",
              "      <td>0.5598</td>\n",
              "      <td>0.6194</td>\n",
              "      <td>0.6333</td>\n",
              "      <td>0.7060</td>\n",
              "      <td>0.5544</td>\n",
              "      <td>0.5320</td>\n",
              "      <td>0.6479</td>\n",
              "      <td>0.6931</td>\n",
              "      <td>0.6759</td>\n",
              "      <td>0.7551</td>\n",
              "      <td>0.8929</td>\n",
              "      <td>0.8619</td>\n",
              "      <td>0.7974</td>\n",
              "      <td>0.6737</td>\n",
              "      <td>0.4293</td>\n",
              "      <td>0.3648</td>\n",
              "      <td>0.5331</td>\n",
              "      <td>0.2413</td>\n",
              "      <td>0.5070</td>\n",
              "      <td>0.8533</td>\n",
              "      <td>0.6036</td>\n",
              "      <td>0.8514</td>\n",
              "      <td>0.8512</td>\n",
              "      <td>0.5045</td>\n",
              "      <td>0.1862</td>\n",
              "      <td>0.2709</td>\n",
              "      <td>0.4232</td>\n",
              "      <td>0.3043</td>\n",
              "      <td>0.6116</td>\n",
              "      <td>0.6756</td>\n",
              "      <td>0.5375</td>\n",
              "      <td>0.4719</td>\n",
              "      <td>0.4647</td>\n",
              "      <td>0.2587</td>\n",
              "      <td>0.2129</td>\n",
              "      <td>0.2222</td>\n",
              "      <td>0.2111</td>\n",
              "      <td>0.0176</td>\n",
              "      <td>0.1348</td>\n",
              "      <td>0.0744</td>\n",
              "      <td>0.0130</td>\n",
              "      <td>0.0106</td>\n",
              "      <td>0.0033</td>\n",
              "      <td>0.0232</td>\n",
              "      <td>0.0166</td>\n",
              "      <td>0.0095</td>\n",
              "      <td>0.0180</td>\n",
              "      <td>0.0244</td>\n",
              "      <td>0.0316</td>\n",
              "      <td>0.0164</td>\n",
              "      <td>0.0095</td>\n",
              "      <td>0.0078</td>\n",
              "      <td>R</td>\n",
              "    </tr>\n",
              "    <tr>\n",
              "      <th>3</th>\n",
              "      <td>0.0100</td>\n",
              "      <td>0.0171</td>\n",
              "      <td>0.0623</td>\n",
              "      <td>0.0205</td>\n",
              "      <td>0.0205</td>\n",
              "      <td>0.0368</td>\n",
              "      <td>0.1098</td>\n",
              "      <td>0.1276</td>\n",
              "      <td>0.0598</td>\n",
              "      <td>0.1264</td>\n",
              "      <td>0.0881</td>\n",
              "      <td>0.1992</td>\n",
              "      <td>0.0184</td>\n",
              "      <td>0.2261</td>\n",
              "      <td>0.1729</td>\n",
              "      <td>0.2131</td>\n",
              "      <td>0.0693</td>\n",
              "      <td>0.2281</td>\n",
              "      <td>0.4060</td>\n",
              "      <td>0.3973</td>\n",
              "      <td>0.2741</td>\n",
              "      <td>0.3690</td>\n",
              "      <td>0.5556</td>\n",
              "      <td>0.4846</td>\n",
              "      <td>0.3140</td>\n",
              "      <td>0.5334</td>\n",
              "      <td>0.5256</td>\n",
              "      <td>0.2520</td>\n",
              "      <td>0.2090</td>\n",
              "      <td>0.3559</td>\n",
              "      <td>0.6260</td>\n",
              "      <td>0.7340</td>\n",
              "      <td>0.6120</td>\n",
              "      <td>0.3497</td>\n",
              "      <td>0.3953</td>\n",
              "      <td>0.3012</td>\n",
              "      <td>0.5408</td>\n",
              "      <td>0.8814</td>\n",
              "      <td>0.9857</td>\n",
              "      <td>0.9167</td>\n",
              "      <td>0.6121</td>\n",
              "      <td>0.5006</td>\n",
              "      <td>0.3210</td>\n",
              "      <td>0.3202</td>\n",
              "      <td>0.4295</td>\n",
              "      <td>0.3654</td>\n",
              "      <td>0.2655</td>\n",
              "      <td>0.1576</td>\n",
              "      <td>0.0681</td>\n",
              "      <td>0.0294</td>\n",
              "      <td>0.0241</td>\n",
              "      <td>0.0121</td>\n",
              "      <td>0.0036</td>\n",
              "      <td>0.0150</td>\n",
              "      <td>0.0085</td>\n",
              "      <td>0.0073</td>\n",
              "      <td>0.0050</td>\n",
              "      <td>0.0044</td>\n",
              "      <td>0.0040</td>\n",
              "      <td>0.0117</td>\n",
              "      <td>R</td>\n",
              "    </tr>\n",
              "    <tr>\n",
              "      <th>4</th>\n",
              "      <td>0.0762</td>\n",
              "      <td>0.0666</td>\n",
              "      <td>0.0481</td>\n",
              "      <td>0.0394</td>\n",
              "      <td>0.0590</td>\n",
              "      <td>0.0649</td>\n",
              "      <td>0.1209</td>\n",
              "      <td>0.2467</td>\n",
              "      <td>0.3564</td>\n",
              "      <td>0.4459</td>\n",
              "      <td>0.4152</td>\n",
              "      <td>0.3952</td>\n",
              "      <td>0.4256</td>\n",
              "      <td>0.4135</td>\n",
              "      <td>0.4528</td>\n",
              "      <td>0.5326</td>\n",
              "      <td>0.7306</td>\n",
              "      <td>0.6193</td>\n",
              "      <td>0.2032</td>\n",
              "      <td>0.4636</td>\n",
              "      <td>0.4148</td>\n",
              "      <td>0.4292</td>\n",
              "      <td>0.5730</td>\n",
              "      <td>0.5399</td>\n",
              "      <td>0.3161</td>\n",
              "      <td>0.2285</td>\n",
              "      <td>0.6995</td>\n",
              "      <td>1.0000</td>\n",
              "      <td>0.7262</td>\n",
              "      <td>0.4724</td>\n",
              "      <td>0.5103</td>\n",
              "      <td>0.5459</td>\n",
              "      <td>0.2881</td>\n",
              "      <td>0.0981</td>\n",
              "      <td>0.1951</td>\n",
              "      <td>0.4181</td>\n",
              "      <td>0.4604</td>\n",
              "      <td>0.3217</td>\n",
              "      <td>0.2828</td>\n",
              "      <td>0.2430</td>\n",
              "      <td>0.1979</td>\n",
              "      <td>0.2444</td>\n",
              "      <td>0.1847</td>\n",
              "      <td>0.0841</td>\n",
              "      <td>0.0692</td>\n",
              "      <td>0.0528</td>\n",
              "      <td>0.0357</td>\n",
              "      <td>0.0085</td>\n",
              "      <td>0.0230</td>\n",
              "      <td>0.0046</td>\n",
              "      <td>0.0156</td>\n",
              "      <td>0.0031</td>\n",
              "      <td>0.0054</td>\n",
              "      <td>0.0105</td>\n",
              "      <td>0.0110</td>\n",
              "      <td>0.0015</td>\n",
              "      <td>0.0072</td>\n",
              "      <td>0.0048</td>\n",
              "      <td>0.0107</td>\n",
              "      <td>0.0094</td>\n",
              "      <td>R</td>\n",
              "    </tr>\n",
              "  </tbody>\n",
              "</table>\n",
              "</div>"
            ],
            "text/plain": [
              "       0       1       2       3       4   ...      56      57      58      59  60\n",
              "0  0.0200  0.0371  0.0428  0.0207  0.0954  ...  0.0180  0.0084  0.0090  0.0032   R\n",
              "1  0.0453  0.0523  0.0843  0.0689  0.1183  ...  0.0140  0.0049  0.0052  0.0044   R\n",
              "2  0.0262  0.0582  0.1099  0.1083  0.0974  ...  0.0316  0.0164  0.0095  0.0078   R\n",
              "3  0.0100  0.0171  0.0623  0.0205  0.0205  ...  0.0050  0.0044  0.0040  0.0117   R\n",
              "4  0.0762  0.0666  0.0481  0.0394  0.0590  ...  0.0072  0.0048  0.0107  0.0094   R\n",
              "\n",
              "[5 rows x 61 columns]"
            ]
          },
          "metadata": {
            "tags": []
          },
          "execution_count": 140
        }
      ]
    },
    {
      "cell_type": "code",
      "metadata": {
        "colab": {
          "base_uri": "https://localhost:8080/",
          "height": 320
        },
        "id": "imwN02bUTuhM",
        "outputId": "dd26b03b-0565-4d99-8b2f-384354ac2f39"
      },
      "source": [
        "df5.describe()"
      ],
      "execution_count": 142,
      "outputs": [
        {
          "output_type": "execute_result",
          "data": {
            "text/html": [
              "<div>\n",
              "<style scoped>\n",
              "    .dataframe tbody tr th:only-of-type {\n",
              "        vertical-align: middle;\n",
              "    }\n",
              "\n",
              "    .dataframe tbody tr th {\n",
              "        vertical-align: top;\n",
              "    }\n",
              "\n",
              "    .dataframe thead th {\n",
              "        text-align: right;\n",
              "    }\n",
              "</style>\n",
              "<table border=\"1\" class=\"dataframe\">\n",
              "  <thead>\n",
              "    <tr style=\"text-align: right;\">\n",
              "      <th></th>\n",
              "      <th>0</th>\n",
              "      <th>1</th>\n",
              "      <th>2</th>\n",
              "      <th>3</th>\n",
              "      <th>4</th>\n",
              "      <th>5</th>\n",
              "      <th>6</th>\n",
              "      <th>7</th>\n",
              "      <th>8</th>\n",
              "      <th>9</th>\n",
              "      <th>10</th>\n",
              "      <th>11</th>\n",
              "      <th>12</th>\n",
              "      <th>13</th>\n",
              "      <th>14</th>\n",
              "      <th>15</th>\n",
              "      <th>16</th>\n",
              "      <th>17</th>\n",
              "      <th>18</th>\n",
              "      <th>19</th>\n",
              "      <th>20</th>\n",
              "      <th>21</th>\n",
              "      <th>22</th>\n",
              "      <th>23</th>\n",
              "      <th>24</th>\n",
              "      <th>25</th>\n",
              "      <th>26</th>\n",
              "      <th>27</th>\n",
              "      <th>28</th>\n",
              "      <th>29</th>\n",
              "      <th>30</th>\n",
              "      <th>31</th>\n",
              "      <th>32</th>\n",
              "      <th>33</th>\n",
              "      <th>34</th>\n",
              "      <th>35</th>\n",
              "      <th>36</th>\n",
              "      <th>37</th>\n",
              "      <th>38</th>\n",
              "      <th>39</th>\n",
              "      <th>40</th>\n",
              "      <th>41</th>\n",
              "      <th>42</th>\n",
              "      <th>43</th>\n",
              "      <th>44</th>\n",
              "      <th>45</th>\n",
              "      <th>46</th>\n",
              "      <th>47</th>\n",
              "      <th>48</th>\n",
              "      <th>49</th>\n",
              "      <th>50</th>\n",
              "      <th>51</th>\n",
              "      <th>52</th>\n",
              "      <th>53</th>\n",
              "      <th>54</th>\n",
              "      <th>55</th>\n",
              "      <th>56</th>\n",
              "      <th>57</th>\n",
              "      <th>58</th>\n",
              "      <th>59</th>\n",
              "    </tr>\n",
              "  </thead>\n",
              "  <tbody>\n",
              "    <tr>\n",
              "      <th>count</th>\n",
              "      <td>208.000000</td>\n",
              "      <td>208.000000</td>\n",
              "      <td>208.000000</td>\n",
              "      <td>208.000000</td>\n",
              "      <td>208.000000</td>\n",
              "      <td>208.000000</td>\n",
              "      <td>208.000000</td>\n",
              "      <td>208.000000</td>\n",
              "      <td>208.000000</td>\n",
              "      <td>208.000000</td>\n",
              "      <td>208.000000</td>\n",
              "      <td>208.000000</td>\n",
              "      <td>208.000000</td>\n",
              "      <td>208.000000</td>\n",
              "      <td>208.000000</td>\n",
              "      <td>208.000000</td>\n",
              "      <td>208.000000</td>\n",
              "      <td>208.000000</td>\n",
              "      <td>208.000000</td>\n",
              "      <td>208.000000</td>\n",
              "      <td>208.000000</td>\n",
              "      <td>208.000000</td>\n",
              "      <td>208.000000</td>\n",
              "      <td>208.000000</td>\n",
              "      <td>208.000000</td>\n",
              "      <td>208.000000</td>\n",
              "      <td>208.000000</td>\n",
              "      <td>208.000000</td>\n",
              "      <td>208.000000</td>\n",
              "      <td>208.000000</td>\n",
              "      <td>208.000000</td>\n",
              "      <td>208.000000</td>\n",
              "      <td>208.000000</td>\n",
              "      <td>208.000000</td>\n",
              "      <td>208.000000</td>\n",
              "      <td>208.000000</td>\n",
              "      <td>208.000000</td>\n",
              "      <td>208.000000</td>\n",
              "      <td>208.000000</td>\n",
              "      <td>208.000000</td>\n",
              "      <td>208.000000</td>\n",
              "      <td>208.000000</td>\n",
              "      <td>208.000000</td>\n",
              "      <td>208.000000</td>\n",
              "      <td>208.000000</td>\n",
              "      <td>208.000000</td>\n",
              "      <td>208.000000</td>\n",
              "      <td>208.000000</td>\n",
              "      <td>208.000000</td>\n",
              "      <td>208.000000</td>\n",
              "      <td>208.000000</td>\n",
              "      <td>208.000000</td>\n",
              "      <td>208.000000</td>\n",
              "      <td>208.000000</td>\n",
              "      <td>208.000000</td>\n",
              "      <td>208.000000</td>\n",
              "      <td>208.000000</td>\n",
              "      <td>208.000000</td>\n",
              "      <td>208.000000</td>\n",
              "      <td>208.000000</td>\n",
              "    </tr>\n",
              "    <tr>\n",
              "      <th>mean</th>\n",
              "      <td>0.029164</td>\n",
              "      <td>0.038437</td>\n",
              "      <td>0.043832</td>\n",
              "      <td>0.053892</td>\n",
              "      <td>0.075202</td>\n",
              "      <td>0.104570</td>\n",
              "      <td>0.121747</td>\n",
              "      <td>0.134799</td>\n",
              "      <td>0.178003</td>\n",
              "      <td>0.208259</td>\n",
              "      <td>0.236013</td>\n",
              "      <td>0.250221</td>\n",
              "      <td>0.273305</td>\n",
              "      <td>0.296568</td>\n",
              "      <td>0.320201</td>\n",
              "      <td>0.378487</td>\n",
              "      <td>0.415983</td>\n",
              "      <td>0.452318</td>\n",
              "      <td>0.504812</td>\n",
              "      <td>0.563047</td>\n",
              "      <td>0.609060</td>\n",
              "      <td>0.624275</td>\n",
              "      <td>0.646975</td>\n",
              "      <td>0.672654</td>\n",
              "      <td>0.675424</td>\n",
              "      <td>0.699866</td>\n",
              "      <td>0.702155</td>\n",
              "      <td>0.694024</td>\n",
              "      <td>0.642074</td>\n",
              "      <td>0.580928</td>\n",
              "      <td>0.504475</td>\n",
              "      <td>0.439040</td>\n",
              "      <td>0.417220</td>\n",
              "      <td>0.403233</td>\n",
              "      <td>0.392571</td>\n",
              "      <td>0.384848</td>\n",
              "      <td>0.363807</td>\n",
              "      <td>0.339657</td>\n",
              "      <td>0.325800</td>\n",
              "      <td>0.311207</td>\n",
              "      <td>0.289252</td>\n",
              "      <td>0.278293</td>\n",
              "      <td>0.246542</td>\n",
              "      <td>0.214075</td>\n",
              "      <td>0.197232</td>\n",
              "      <td>0.160631</td>\n",
              "      <td>0.122453</td>\n",
              "      <td>0.091424</td>\n",
              "      <td>0.051929</td>\n",
              "      <td>0.020424</td>\n",
              "      <td>0.016069</td>\n",
              "      <td>0.013420</td>\n",
              "      <td>0.010709</td>\n",
              "      <td>0.010941</td>\n",
              "      <td>0.009290</td>\n",
              "      <td>0.008222</td>\n",
              "      <td>0.007820</td>\n",
              "      <td>0.007949</td>\n",
              "      <td>0.007941</td>\n",
              "      <td>0.006507</td>\n",
              "    </tr>\n",
              "    <tr>\n",
              "      <th>std</th>\n",
              "      <td>0.022991</td>\n",
              "      <td>0.032960</td>\n",
              "      <td>0.038428</td>\n",
              "      <td>0.046528</td>\n",
              "      <td>0.055552</td>\n",
              "      <td>0.059105</td>\n",
              "      <td>0.061788</td>\n",
              "      <td>0.085152</td>\n",
              "      <td>0.118387</td>\n",
              "      <td>0.134416</td>\n",
              "      <td>0.132705</td>\n",
              "      <td>0.140072</td>\n",
              "      <td>0.140962</td>\n",
              "      <td>0.164474</td>\n",
              "      <td>0.205427</td>\n",
              "      <td>0.232650</td>\n",
              "      <td>0.263677</td>\n",
              "      <td>0.261529</td>\n",
              "      <td>0.257988</td>\n",
              "      <td>0.262653</td>\n",
              "      <td>0.257818</td>\n",
              "      <td>0.255883</td>\n",
              "      <td>0.250175</td>\n",
              "      <td>0.239116</td>\n",
              "      <td>0.244926</td>\n",
              "      <td>0.237228</td>\n",
              "      <td>0.245657</td>\n",
              "      <td>0.237189</td>\n",
              "      <td>0.240250</td>\n",
              "      <td>0.220749</td>\n",
              "      <td>0.213992</td>\n",
              "      <td>0.213237</td>\n",
              "      <td>0.206513</td>\n",
              "      <td>0.231242</td>\n",
              "      <td>0.259132</td>\n",
              "      <td>0.264121</td>\n",
              "      <td>0.239912</td>\n",
              "      <td>0.212973</td>\n",
              "      <td>0.199075</td>\n",
              "      <td>0.178662</td>\n",
              "      <td>0.171111</td>\n",
              "      <td>0.168728</td>\n",
              "      <td>0.138993</td>\n",
              "      <td>0.133291</td>\n",
              "      <td>0.151628</td>\n",
              "      <td>0.133938</td>\n",
              "      <td>0.086953</td>\n",
              "      <td>0.062417</td>\n",
              "      <td>0.035954</td>\n",
              "      <td>0.013665</td>\n",
              "      <td>0.012008</td>\n",
              "      <td>0.009634</td>\n",
              "      <td>0.007060</td>\n",
              "      <td>0.007301</td>\n",
              "      <td>0.007088</td>\n",
              "      <td>0.005736</td>\n",
              "      <td>0.005785</td>\n",
              "      <td>0.006470</td>\n",
              "      <td>0.006181</td>\n",
              "      <td>0.005031</td>\n",
              "    </tr>\n",
              "    <tr>\n",
              "      <th>min</th>\n",
              "      <td>0.001500</td>\n",
              "      <td>0.000600</td>\n",
              "      <td>0.001500</td>\n",
              "      <td>0.005800</td>\n",
              "      <td>0.006700</td>\n",
              "      <td>0.010200</td>\n",
              "      <td>0.003300</td>\n",
              "      <td>0.005500</td>\n",
              "      <td>0.007500</td>\n",
              "      <td>0.011300</td>\n",
              "      <td>0.028900</td>\n",
              "      <td>0.023600</td>\n",
              "      <td>0.018400</td>\n",
              "      <td>0.027300</td>\n",
              "      <td>0.003100</td>\n",
              "      <td>0.016200</td>\n",
              "      <td>0.034900</td>\n",
              "      <td>0.037500</td>\n",
              "      <td>0.049400</td>\n",
              "      <td>0.065600</td>\n",
              "      <td>0.051200</td>\n",
              "      <td>0.021900</td>\n",
              "      <td>0.056300</td>\n",
              "      <td>0.023900</td>\n",
              "      <td>0.024000</td>\n",
              "      <td>0.092100</td>\n",
              "      <td>0.048100</td>\n",
              "      <td>0.028400</td>\n",
              "      <td>0.014400</td>\n",
              "      <td>0.061300</td>\n",
              "      <td>0.048200</td>\n",
              "      <td>0.040400</td>\n",
              "      <td>0.047700</td>\n",
              "      <td>0.021200</td>\n",
              "      <td>0.022300</td>\n",
              "      <td>0.008000</td>\n",
              "      <td>0.035100</td>\n",
              "      <td>0.038300</td>\n",
              "      <td>0.037100</td>\n",
              "      <td>0.011700</td>\n",
              "      <td>0.036000</td>\n",
              "      <td>0.005600</td>\n",
              "      <td>0.000000</td>\n",
              "      <td>0.000000</td>\n",
              "      <td>0.000000</td>\n",
              "      <td>0.000000</td>\n",
              "      <td>0.000000</td>\n",
              "      <td>0.000000</td>\n",
              "      <td>0.000000</td>\n",
              "      <td>0.000000</td>\n",
              "      <td>0.000000</td>\n",
              "      <td>0.000800</td>\n",
              "      <td>0.000500</td>\n",
              "      <td>0.001000</td>\n",
              "      <td>0.000600</td>\n",
              "      <td>0.000400</td>\n",
              "      <td>0.000300</td>\n",
              "      <td>0.000300</td>\n",
              "      <td>0.000100</td>\n",
              "      <td>0.000600</td>\n",
              "    </tr>\n",
              "    <tr>\n",
              "      <th>25%</th>\n",
              "      <td>0.013350</td>\n",
              "      <td>0.016450</td>\n",
              "      <td>0.018950</td>\n",
              "      <td>0.024375</td>\n",
              "      <td>0.038050</td>\n",
              "      <td>0.067025</td>\n",
              "      <td>0.080900</td>\n",
              "      <td>0.080425</td>\n",
              "      <td>0.097025</td>\n",
              "      <td>0.111275</td>\n",
              "      <td>0.129250</td>\n",
              "      <td>0.133475</td>\n",
              "      <td>0.166125</td>\n",
              "      <td>0.175175</td>\n",
              "      <td>0.164625</td>\n",
              "      <td>0.196300</td>\n",
              "      <td>0.205850</td>\n",
              "      <td>0.242075</td>\n",
              "      <td>0.299075</td>\n",
              "      <td>0.350625</td>\n",
              "      <td>0.399725</td>\n",
              "      <td>0.406925</td>\n",
              "      <td>0.450225</td>\n",
              "      <td>0.540725</td>\n",
              "      <td>0.525800</td>\n",
              "      <td>0.544175</td>\n",
              "      <td>0.531900</td>\n",
              "      <td>0.534775</td>\n",
              "      <td>0.463700</td>\n",
              "      <td>0.411400</td>\n",
              "      <td>0.345550</td>\n",
              "      <td>0.281400</td>\n",
              "      <td>0.257875</td>\n",
              "      <td>0.217575</td>\n",
              "      <td>0.179375</td>\n",
              "      <td>0.154350</td>\n",
              "      <td>0.160100</td>\n",
              "      <td>0.174275</td>\n",
              "      <td>0.173975</td>\n",
              "      <td>0.186450</td>\n",
              "      <td>0.163100</td>\n",
              "      <td>0.158900</td>\n",
              "      <td>0.155200</td>\n",
              "      <td>0.126875</td>\n",
              "      <td>0.094475</td>\n",
              "      <td>0.068550</td>\n",
              "      <td>0.064250</td>\n",
              "      <td>0.045125</td>\n",
              "      <td>0.026350</td>\n",
              "      <td>0.011550</td>\n",
              "      <td>0.008425</td>\n",
              "      <td>0.007275</td>\n",
              "      <td>0.005075</td>\n",
              "      <td>0.005375</td>\n",
              "      <td>0.004150</td>\n",
              "      <td>0.004400</td>\n",
              "      <td>0.003700</td>\n",
              "      <td>0.003600</td>\n",
              "      <td>0.003675</td>\n",
              "      <td>0.003100</td>\n",
              "    </tr>\n",
              "    <tr>\n",
              "      <th>50%</th>\n",
              "      <td>0.022800</td>\n",
              "      <td>0.030800</td>\n",
              "      <td>0.034300</td>\n",
              "      <td>0.044050</td>\n",
              "      <td>0.062500</td>\n",
              "      <td>0.092150</td>\n",
              "      <td>0.106950</td>\n",
              "      <td>0.112100</td>\n",
              "      <td>0.152250</td>\n",
              "      <td>0.182400</td>\n",
              "      <td>0.224800</td>\n",
              "      <td>0.249050</td>\n",
              "      <td>0.263950</td>\n",
              "      <td>0.281100</td>\n",
              "      <td>0.281700</td>\n",
              "      <td>0.304700</td>\n",
              "      <td>0.308400</td>\n",
              "      <td>0.368300</td>\n",
              "      <td>0.434950</td>\n",
              "      <td>0.542500</td>\n",
              "      <td>0.617700</td>\n",
              "      <td>0.664900</td>\n",
              "      <td>0.699700</td>\n",
              "      <td>0.698500</td>\n",
              "      <td>0.721100</td>\n",
              "      <td>0.754500</td>\n",
              "      <td>0.745600</td>\n",
              "      <td>0.731900</td>\n",
              "      <td>0.680800</td>\n",
              "      <td>0.607150</td>\n",
              "      <td>0.490350</td>\n",
              "      <td>0.429600</td>\n",
              "      <td>0.391200</td>\n",
              "      <td>0.351050</td>\n",
              "      <td>0.312750</td>\n",
              "      <td>0.321150</td>\n",
              "      <td>0.306300</td>\n",
              "      <td>0.312700</td>\n",
              "      <td>0.283500</td>\n",
              "      <td>0.278050</td>\n",
              "      <td>0.259500</td>\n",
              "      <td>0.245100</td>\n",
              "      <td>0.222550</td>\n",
              "      <td>0.177700</td>\n",
              "      <td>0.148000</td>\n",
              "      <td>0.121350</td>\n",
              "      <td>0.101650</td>\n",
              "      <td>0.078100</td>\n",
              "      <td>0.044700</td>\n",
              "      <td>0.017900</td>\n",
              "      <td>0.013900</td>\n",
              "      <td>0.011400</td>\n",
              "      <td>0.009550</td>\n",
              "      <td>0.009300</td>\n",
              "      <td>0.007500</td>\n",
              "      <td>0.006850</td>\n",
              "      <td>0.005950</td>\n",
              "      <td>0.005800</td>\n",
              "      <td>0.006400</td>\n",
              "      <td>0.005300</td>\n",
              "    </tr>\n",
              "    <tr>\n",
              "      <th>75%</th>\n",
              "      <td>0.035550</td>\n",
              "      <td>0.047950</td>\n",
              "      <td>0.057950</td>\n",
              "      <td>0.064500</td>\n",
              "      <td>0.100275</td>\n",
              "      <td>0.134125</td>\n",
              "      <td>0.154000</td>\n",
              "      <td>0.169600</td>\n",
              "      <td>0.233425</td>\n",
              "      <td>0.268700</td>\n",
              "      <td>0.301650</td>\n",
              "      <td>0.331250</td>\n",
              "      <td>0.351250</td>\n",
              "      <td>0.386175</td>\n",
              "      <td>0.452925</td>\n",
              "      <td>0.535725</td>\n",
              "      <td>0.659425</td>\n",
              "      <td>0.679050</td>\n",
              "      <td>0.731400</td>\n",
              "      <td>0.809325</td>\n",
              "      <td>0.816975</td>\n",
              "      <td>0.831975</td>\n",
              "      <td>0.848575</td>\n",
              "      <td>0.872175</td>\n",
              "      <td>0.873725</td>\n",
              "      <td>0.893800</td>\n",
              "      <td>0.917100</td>\n",
              "      <td>0.900275</td>\n",
              "      <td>0.852125</td>\n",
              "      <td>0.735175</td>\n",
              "      <td>0.641950</td>\n",
              "      <td>0.580300</td>\n",
              "      <td>0.556125</td>\n",
              "      <td>0.596125</td>\n",
              "      <td>0.593350</td>\n",
              "      <td>0.556525</td>\n",
              "      <td>0.518900</td>\n",
              "      <td>0.440550</td>\n",
              "      <td>0.434900</td>\n",
              "      <td>0.424350</td>\n",
              "      <td>0.387525</td>\n",
              "      <td>0.384250</td>\n",
              "      <td>0.324525</td>\n",
              "      <td>0.271750</td>\n",
              "      <td>0.231550</td>\n",
              "      <td>0.200375</td>\n",
              "      <td>0.154425</td>\n",
              "      <td>0.120100</td>\n",
              "      <td>0.068525</td>\n",
              "      <td>0.025275</td>\n",
              "      <td>0.020825</td>\n",
              "      <td>0.016725</td>\n",
              "      <td>0.014900</td>\n",
              "      <td>0.014500</td>\n",
              "      <td>0.012100</td>\n",
              "      <td>0.010575</td>\n",
              "      <td>0.010425</td>\n",
              "      <td>0.010350</td>\n",
              "      <td>0.010325</td>\n",
              "      <td>0.008525</td>\n",
              "    </tr>\n",
              "    <tr>\n",
              "      <th>max</th>\n",
              "      <td>0.137100</td>\n",
              "      <td>0.233900</td>\n",
              "      <td>0.305900</td>\n",
              "      <td>0.426400</td>\n",
              "      <td>0.401000</td>\n",
              "      <td>0.382300</td>\n",
              "      <td>0.372900</td>\n",
              "      <td>0.459000</td>\n",
              "      <td>0.682800</td>\n",
              "      <td>0.710600</td>\n",
              "      <td>0.734200</td>\n",
              "      <td>0.706000</td>\n",
              "      <td>0.713100</td>\n",
              "      <td>0.997000</td>\n",
              "      <td>1.000000</td>\n",
              "      <td>0.998800</td>\n",
              "      <td>1.000000</td>\n",
              "      <td>1.000000</td>\n",
              "      <td>1.000000</td>\n",
              "      <td>1.000000</td>\n",
              "      <td>1.000000</td>\n",
              "      <td>1.000000</td>\n",
              "      <td>1.000000</td>\n",
              "      <td>1.000000</td>\n",
              "      <td>1.000000</td>\n",
              "      <td>1.000000</td>\n",
              "      <td>1.000000</td>\n",
              "      <td>1.000000</td>\n",
              "      <td>1.000000</td>\n",
              "      <td>1.000000</td>\n",
              "      <td>0.965700</td>\n",
              "      <td>0.930600</td>\n",
              "      <td>1.000000</td>\n",
              "      <td>0.964700</td>\n",
              "      <td>1.000000</td>\n",
              "      <td>1.000000</td>\n",
              "      <td>0.949700</td>\n",
              "      <td>1.000000</td>\n",
              "      <td>0.985700</td>\n",
              "      <td>0.929700</td>\n",
              "      <td>0.899500</td>\n",
              "      <td>0.824600</td>\n",
              "      <td>0.773300</td>\n",
              "      <td>0.776200</td>\n",
              "      <td>0.703400</td>\n",
              "      <td>0.729200</td>\n",
              "      <td>0.552200</td>\n",
              "      <td>0.333900</td>\n",
              "      <td>0.198100</td>\n",
              "      <td>0.082500</td>\n",
              "      <td>0.100400</td>\n",
              "      <td>0.070900</td>\n",
              "      <td>0.039000</td>\n",
              "      <td>0.035200</td>\n",
              "      <td>0.044700</td>\n",
              "      <td>0.039400</td>\n",
              "      <td>0.035500</td>\n",
              "      <td>0.044000</td>\n",
              "      <td>0.036400</td>\n",
              "      <td>0.043900</td>\n",
              "    </tr>\n",
              "  </tbody>\n",
              "</table>\n",
              "</div>"
            ],
            "text/plain": [
              "               0           1           2   ...          57          58          59\n",
              "count  208.000000  208.000000  208.000000  ...  208.000000  208.000000  208.000000\n",
              "mean     0.029164    0.038437    0.043832  ...    0.007949    0.007941    0.006507\n",
              "std      0.022991    0.032960    0.038428  ...    0.006470    0.006181    0.005031\n",
              "min      0.001500    0.000600    0.001500  ...    0.000300    0.000100    0.000600\n",
              "25%      0.013350    0.016450    0.018950  ...    0.003600    0.003675    0.003100\n",
              "50%      0.022800    0.030800    0.034300  ...    0.005800    0.006400    0.005300\n",
              "75%      0.035550    0.047950    0.057950  ...    0.010350    0.010325    0.008525\n",
              "max      0.137100    0.233900    0.305900  ...    0.044000    0.036400    0.043900\n",
              "\n",
              "[8 rows x 60 columns]"
            ]
          },
          "metadata": {
            "tags": []
          },
          "execution_count": 142
        }
      ]
    },
    {
      "cell_type": "code",
      "metadata": {
        "colab": {
          "base_uri": "https://localhost:8080/"
        },
        "id": "SOiXtUB-XKAc",
        "outputId": "6887b6cd-5e73-48e8-85c1-6d5f58e2e949"
      },
      "source": [
        "df5.shape"
      ],
      "execution_count": 160,
      "outputs": [
        {
          "output_type": "execute_result",
          "data": {
            "text/plain": [
              "(208, 61)"
            ]
          },
          "metadata": {
            "tags": []
          },
          "execution_count": 160
        }
      ]
    },
    {
      "cell_type": "code",
      "metadata": {
        "colab": {
          "base_uri": "https://localhost:8080/"
        },
        "id": "5mY2njzkTwm2",
        "outputId": "b8fd11a2-eda2-4359-ea32-66630274c2ac"
      },
      "source": [
        "df5.info"
      ],
      "execution_count": 143,
      "outputs": [
        {
          "output_type": "execute_result",
          "data": {
            "text/plain": [
              "<bound method DataFrame.info of          0       1       2       3       4   ...      56      57      58      59  60\n",
              "0    0.0200  0.0371  0.0428  0.0207  0.0954  ...  0.0180  0.0084  0.0090  0.0032   R\n",
              "1    0.0453  0.0523  0.0843  0.0689  0.1183  ...  0.0140  0.0049  0.0052  0.0044   R\n",
              "2    0.0262  0.0582  0.1099  0.1083  0.0974  ...  0.0316  0.0164  0.0095  0.0078   R\n",
              "3    0.0100  0.0171  0.0623  0.0205  0.0205  ...  0.0050  0.0044  0.0040  0.0117   R\n",
              "4    0.0762  0.0666  0.0481  0.0394  0.0590  ...  0.0072  0.0048  0.0107  0.0094   R\n",
              "..      ...     ...     ...     ...     ...  ...     ...     ...     ...     ...  ..\n",
              "203  0.0187  0.0346  0.0168  0.0177  0.0393  ...  0.0065  0.0115  0.0193  0.0157   M\n",
              "204  0.0323  0.0101  0.0298  0.0564  0.0760  ...  0.0034  0.0032  0.0062  0.0067   M\n",
              "205  0.0522  0.0437  0.0180  0.0292  0.0351  ...  0.0140  0.0138  0.0077  0.0031   M\n",
              "206  0.0303  0.0353  0.0490  0.0608  0.0167  ...  0.0034  0.0079  0.0036  0.0048   M\n",
              "207  0.0260  0.0363  0.0136  0.0272  0.0214  ...  0.0040  0.0036  0.0061  0.0115   M\n",
              "\n",
              "[208 rows x 61 columns]>"
            ]
          },
          "metadata": {
            "tags": []
          },
          "execution_count": 143
        }
      ]
    },
    {
      "cell_type": "markdown",
      "metadata": {
        "id": "bNr4cbbcSKW7"
      },
      "source": [
        "#### **Scaling vs Normalization**\n",
        ">*Standardization:* \n",
        "***y = (x – mean) / standard_deviation***\n",
        "\n",
        ">*Normalization:* \n",
        "***y = (x – min) / (max – min)***"
      ]
    },
    {
      "cell_type": "code",
      "metadata": {
        "id": "WxXkG1hoT3JF"
      },
      "source": [
        "# Scaling\n",
        "df5_original1 = np.random.exponential(size = 1000)\n",
        "df5_scaled1 = minmax_scaling(df5_original1, columns = [0])"
      ],
      "execution_count": 153,
      "outputs": []
    },
    {
      "cell_type": "code",
      "metadata": {
        "colab": {
          "base_uri": "https://localhost:8080/",
          "height": 300
        },
        "id": "Atc3Dw00WQLE",
        "outputId": "7386493c-2170-4e17-f8b9-866471191758"
      },
      "source": [
        "fig, ax=plt.subplots(1,2)\n",
        "sns.distplot(df5_original1, ax=ax[0])\n",
        "ax[0].set_title(\"Original Data\")\n",
        "sns.distplot(df5_scaled1, ax=ax[1])\n",
        "ax[1].set_title(\"Scaled data\")"
      ],
      "execution_count": 154,
      "outputs": [
        {
          "output_type": "execute_result",
          "data": {
            "text/plain": [
              "Text(0.5, 1.0, 'Scaled data')"
            ]
          },
          "metadata": {
            "tags": []
          },
          "execution_count": 154
        },
        {
          "output_type": "display_data",
          "data": {
            "image/png": "[encoded data removed]",
            "text/plain": [
              "<Figure size 432x288 with 2 Axes>"
            ]
          },
          "metadata": {
            "tags": [],
            "needs_background": "light"
          }
        }
      ]
    },
    {
      "cell_type": "code",
      "metadata": {
        "id": "ZXlEx5CTUVVU"
      },
      "source": [
        "# Normalization\n",
        "df5_original2 = np.random.exponential(size = 1000)\n",
        "df5_normalized2 = stats.boxcox(df5_original2)"
      ],
      "execution_count": 156,
      "outputs": []
    },
    {
      "cell_type": "code",
      "metadata": {
        "colab": {
          "base_uri": "https://localhost:8080/",
          "height": 300
        },
        "id": "ZBxk5PH4WS67",
        "outputId": "096a14b6-bb3a-48c4-cd3f-3fd60650e351"
      },
      "source": [
        "fig, ax=plt.subplots(1,2)\n",
        "sns.distplot(df5_original2, ax=ax[0])\n",
        "ax[0].set_title(\"Original Data\")\n",
        "sns.distplot(df5_normalized2[0], ax=ax[1])\n",
        "ax[1].set_title(\"Normalized data\")"
      ],
      "execution_count": 157,
      "outputs": [
        {
          "output_type": "execute_result",
          "data": {
            "text/plain": [
              "Text(0.5, 1.0, 'Normalized data')"
            ]
          },
          "metadata": {
            "tags": []
          },
          "execution_count": 157
        },
        {
          "output_type": "display_data",
          "data": {
            "image/png": "[encoded data removed]",
            "text/plain": [
              "<Figure size 432x288 with 2 Axes>"
            ]
          },
          "metadata": {
            "tags": [],
            "needs_background": "light"
          }
        }
      ]
    },
    {
      "cell_type": "markdown",
      "metadata": {
        "id": "IB6xDCMCSDc2"
      },
      "source": [
        "#### **Comparitive Study**\n",
        "*Let's see which method yields better accuracy for this dataset*"
      ]
    },
    {
      "cell_type": "code",
      "metadata": {
        "id": "VuN1Fvr_ZENq"
      },
      "source": [
        "data51 = df5.values\n",
        "x5, y5 = data51[:, :-1], data51[:, -1]\n",
        "x5 = x5.astype('float32')\n",
        "y5 = LabelEncoder().fit_transform(y5.astype('str'))"
      ],
      "execution_count": 164,
      "outputs": []
    },
    {
      "cell_type": "code",
      "metadata": {
        "colab": {
          "base_uri": "https://localhost:8080/"
        },
        "id": "rxndiZu3Z1b_",
        "outputId": "dfdc24a3-83d3-465e-ed8b-d78352946182"
      },
      "source": [
        "model51 = KNeighborsClassifier()\n",
        "cv51 = RepeatedStratifiedKFold(n_splits=10, n_repeats=3, random_state=1)\n",
        "n_scores_51 = cross_val_score(model51, x5, y5, scoring='accuracy', cv=cv51, n_jobs=-1, error_score='raise')\n",
        "print('Accuracy: %.3f (%.3f)' % (np.mean(n_scores_51), np.std(n_scores_51)))"
      ],
      "execution_count": 167,
      "outputs": [
        {
          "output_type": "stream",
          "text": [
            "Accuracy: 0.797 (0.073)\n"
          ],
          "name": "stdout"
        }
      ]
    },
    {
      "cell_type": "code",
      "metadata": {
        "id": "bi79kTccalMV"
      },
      "source": [
        ""
      ],
      "execution_count": null,
      "outputs": []
    }
  ]
}