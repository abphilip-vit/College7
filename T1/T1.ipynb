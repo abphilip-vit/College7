{
  "nbformat": 4,
  "nbformat_minor": 0,
  "metadata": {
    "colab": {
      "name": "T1.ipynb",
      "provenance": [],
      "collapsed_sections": [
        "UVjpftgcVgHH",
        "p9RMLu7GWwZ2",
        "XgSQ_CZ7ZjOa",
        "brcVXKcNvd_r",
        "gqsJyWs0wtv6",
        "ZXop1lJgwNPa",
        "V5Q8Gsh3Zr_c",
        "hAaPC92WZsV6",
        "LNYm8fOVZskK"
      ],
      "toc_visible": true,
      "mount_file_id": "1KZD98u0CbLavpdTXOKzaC5zt6kMkm-7n",
      "authorship_tag": "ABX9TyOYoNBuWtYAkF6quG+Om1Pt",
      "include_colab_link": true
    },
    "kernelspec": {
      "name": "python3",
      "display_name": "Python 3"
    }
  },
  "cells": [
    {
      "cell_type": "markdown",
      "metadata": {
        "id": "view-in-github",
        "colab_type": "text"
      },
      "source": [
        "<a href=\"https://colab.research.google.com/github/allenalvin333/College7/blob/master/T1/T1.ipynb\" target=\"_parent\"><img src=\"https://colab.research.google.com/assets/colab-badge.svg\" alt=\"Open In Colab\"/></a>"
      ]
    },
    {
      "cell_type": "markdown",
      "metadata": {
        "id": "UVjpftgcVgHH"
      },
      "source": [
        "# **Allen Ben Philipose** - 18BIS0043\n",
        "# **Lab Task - 1, Submitted to: Dr. Sankar Ganesh S**"
      ]
    },
    {
      "cell_type": "markdown",
      "metadata": {
        "id": "p9RMLu7GWwZ2"
      },
      "source": [
        "## Example"
      ]
    },
    {
      "cell_type": "code",
      "metadata": {
        "colab": {
          "base_uri": "https://localhost:8080/"
        },
        "id": "TaSkzzJ48Rz7",
        "outputId": "f5e2fddf-407f-4923-d3e2-1433c5e87948"
      },
      "source": [
        "dataset = pd.read_csv('sample_data.csv')\n",
        "print(dataset)"
      ],
      "execution_count": null,
      "outputs": [
        {
          "output_type": "stream",
          "text": [
            "    Country   Age   Salary Purchased\n",
            "0    France  44.0  72000.0        No\n",
            "1     Spain  27.0  48000.0       Yes\n",
            "2   Germany  30.0  54000.0        No\n",
            "3     Spain  38.0  61000.0        No\n",
            "4   Nigeria  18.0  15000.0        No\n",
            "5   Germany  40.0      NaN       Yes\n",
            "6    France  35.0  58000.0       Yes\n",
            "7     Spain   NaN  52000.0        No\n",
            "8    France  48.0  79000.0       Yes\n",
            "9   Germany  50.0  83000.0        No\n",
            "10   France  37.0  67000.0       Yes\n",
            "11  Nigeria  50.0  60000.0       Yes\n",
            "12   France  22.0  30000.0        No\n",
            "13      NaN  44.0  45000.0       Yes\n",
            "14   France  47.0  78000.0       NaN\n",
            "15  Nigeria  35.0  43000.0       Yes\n",
            "16    Spain  34.0  44000.0       Yes\n",
            "17    Spain  27.0  48000.0       Yes\n",
            "18    Spain  33.0  48000.0       Yes\n",
            "19  Nigeria  29.0  77000.0       Yes\n",
            "20    Spain   NaN  57000.0       Yes\n",
            "21   France  44.0  48000.0       Yes\n",
            "22  Germany  50.0  83000.0        No\n",
            "23   France  37.0  67000.0       Yes\n",
            "24   France  37.0  23000.0       Yes\n",
            "25  Germany  45.0  50000.0        No\n",
            "26   France  37.0  67000.0       Yes\n",
            "27  Nigeria  30.0  30000.0       Yes\n",
            "28  Nigeria  29.0  15000.0        No\n"
          ],
          "name": "stdout"
        }
      ]
    },
    {
      "cell_type": "code",
      "metadata": {
        "colab": {
          "base_uri": "https://localhost:8080/"
        },
        "id": "Ixu6Dh9r50L8",
        "outputId": "d1a44c5f-e196-4558-907d-baa27f4d4463"
      },
      "source": [
        "dataset = dataset.drop_duplicates()\n",
        "print(dataset)"
      ],
      "execution_count": null,
      "outputs": [
        {
          "output_type": "stream",
          "text": [
            "    Country   Age   Salary Purchased\n",
            "0    France  44.0  72000.0        No\n",
            "1     Spain  27.0  48000.0       Yes\n",
            "2   Germany  30.0  54000.0        No\n",
            "3     Spain  38.0  61000.0        No\n",
            "4   Nigeria  18.0  15000.0        No\n",
            "5   Germany  40.0      NaN       Yes\n",
            "6    France  35.0  58000.0       Yes\n",
            "7     Spain   NaN  52000.0        No\n",
            "8    France  48.0  79000.0       Yes\n",
            "9   Germany  50.0  83000.0        No\n",
            "10   France  37.0  67000.0       Yes\n",
            "11  Nigeria  50.0  60000.0       Yes\n",
            "12   France  22.0  30000.0        No\n",
            "13      NaN  44.0  45000.0       Yes\n",
            "14   France  47.0  78000.0       NaN\n",
            "15  Nigeria  35.0  43000.0       Yes\n",
            "16    Spain  34.0  44000.0       Yes\n",
            "18    Spain  33.0  48000.0       Yes\n",
            "19  Nigeria  29.0  77000.0       Yes\n",
            "20    Spain   NaN  57000.0       Yes\n",
            "21   France  44.0  48000.0       Yes\n",
            "24   France  37.0  23000.0       Yes\n",
            "25  Germany  45.0  50000.0        No\n",
            "27  Nigeria  30.0  30000.0       Yes\n",
            "28  Nigeria  29.0  15000.0        No\n"
          ],
          "name": "stdout"
        }
      ]
    },
    {
      "cell_type": "markdown",
      "metadata": {
        "id": "Zxyz4_1gC971"
      },
      "source": [
        "# **0. Initialization**"
      ]
    },
    {
      "cell_type": "code",
      "metadata": {
        "colab": {
          "base_uri": "https://localhost:8080/"
        },
        "id": "Un1O0J8ADpMM",
        "outputId": "25fbb62c-bdfb-4104-9037-7b44ab5f95ad"
      },
      "source": [
        "from google.colab import drive\n",
        "drive.mount(\"/content/gdrive\")"
      ],
      "execution_count": 2,
      "outputs": [
        {
          "output_type": "stream",
          "text": [
            "Mounted at /content/gdrive\n"
          ],
          "name": "stdout"
        }
      ]
    },
    {
      "cell_type": "code",
      "metadata": {
        "id": "kyE8Ju5CFMM8"
      },
      "source": [
        "!cp -r /content/gdrive/MyDrive/Academic/Labs/ML/T1 /content/"
      ],
      "execution_count": 3,
      "outputs": []
    },
    {
      "cell_type": "code",
      "metadata": {
        "id": "VebPMaCk71qX"
      },
      "source": [
        "import pandas as pd\n",
        "import numpy as np\n",
        "import seaborn as sns\n",
        "import matplotlib.pyplot as plt"
      ],
      "execution_count": 5,
      "outputs": []
    },
    {
      "cell_type": "markdown",
      "metadata": {
        "id": "XgSQ_CZ7ZjOa"
      },
      "source": [
        "# **1. Dealing with Missing Values** "
      ]
    },
    {
      "cell_type": "markdown",
      "metadata": {
        "id": "y1wzGQNVZrrs"
      },
      "source": [
        "# **2. Handling categorical data**"
      ]
    },
    {
      "cell_type": "markdown",
      "metadata": {
        "id": "brcVXKcNvd_r"
      },
      "source": [
        "## References\n",
        "- https://pbpython.com/categorical-encoding.html\n",
        "- https://analyticsindiamag.com/complete-guide-to-handling-categorical-data-using-scikit-learn/\n",
        "- https://towardsdatascience.com/handling-categorical-data-the-right-way-9d1279956fc6"
      ]
    },
    {
      "cell_type": "markdown",
      "metadata": {
        "id": "gqsJyWs0wtv6"
      },
      "source": [
        "## Dataset\n",
        "- https://www.kaggle.com/dansbecker/melbourne-housing-snapshot/home?select=melb_data.csv"
      ]
    },
    {
      "cell_type": "markdown",
      "metadata": {
        "id": "ZXop1lJgwNPa"
      },
      "source": [
        "## Explanation\n",
        "\n",
        "*Categorical features have a lot to say about the dataset thus it should be converted to numerical to make it into a machine-readable format. Focusing only on numerical variables in the dataset isn’t enough to get good accuracy. Often categorical variables prove to be the most important factor and thus identify them. In many practical Data Science activities, the data set will contain categorical variables.*\n",
        "\n",
        "*These variables are typically stored as text values which represent various traits. Some examples include color (“Red”, “Yellow”, “Blue”), size (“Small”, “Medium”, “Large”) or geographic designations (State or Country). Regardless of what the value is used for, the challenge is determining how to use this data in the analysis. Many machine learning algorithms can support categorical values without further manipulation but there are many more algorithms that do not. Therefore, the analyst is faced with the challenge of figuring out how to turn these text attributes into numerical values for further processing.*\n",
        "\n",
        "*Currently, many resources advertise a wide variety of solutions that might seem to work at first, but are deeply wrong once thought through. This is especially true for non-ordinal categorical data, meaning that the classes are not ordered (As it might be for Good=0, Better=1, Best=2). A bit of clarity is needed to distinguish the approaches that Data Scientists should use from those that simply make the models run.*\n",
        "\n",
        "*Two major types of categorical features are:*\n",
        "- *Nominal – These are variables which are not related to each other in any order such as colour (black, blue, green).*\n",
        "- *Ordinal – These are variables where a certain order can be found between them such as student grades (A, B, C, D, Fail).*"
      ]
    },
    {
      "cell_type": "markdown",
      "metadata": {
        "id": "_Q2mC0bTyYrI"
      },
      "source": [
        "## **Sample Program**"
      ]
    },
    {
      "cell_type": "code",
      "metadata": {
        "id": "WmzAXfqAvYqL"
      },
      "source": [
        ""
      ],
      "execution_count": null,
      "outputs": []
    },
    {
      "cell_type": "markdown",
      "metadata": {
        "id": "E3fMIaWp6oaT"
      },
      "source": [
        "#### **Label Encoding**"
      ]
    },
    {
      "cell_type": "code",
      "metadata": {
        "id": "sk0F_Av47kzT"
      },
      "source": [
        ""
      ],
      "execution_count": null,
      "outputs": []
    },
    {
      "cell_type": "markdown",
      "metadata": {
        "id": "V5Q8Gsh3Zr_c"
      },
      "source": [
        "# **3. Dealing with inconsistent data entry**"
      ]
    },
    {
      "cell_type": "markdown",
      "metadata": {
        "id": "hAaPC92WZsV6"
      },
      "source": [
        "# **4.\tHandling Dates and Times**"
      ]
    },
    {
      "cell_type": "markdown",
      "metadata": {
        "id": "LNYm8fOVZskK"
      },
      "source": [
        "# **5. Scaling and Normalization**"
      ]
    }
  ]
}