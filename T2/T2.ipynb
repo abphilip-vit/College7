{
 "cells": [
  {
   "cell_type": "markdown",
   "metadata": {},
   "source": [
    "# Initialization"
   ]
  },
  {
   "cell_type": "code",
   "execution_count": 215,
   "metadata": {},
   "outputs": [],
   "source": [
    "from sklearn.model_selection import train_test_split\n",
    "from sklearn.linear_model import LinearRegression\n",
    "from sklearn.metrics import accuracy_score\n",
    "from sklearn.metrics import mean_squared_error\n",
    "from scipy.stats import spearmanr"
   ]
  },
  {
   "cell_type": "code",
   "execution_count": 216,
   "metadata": {},
   "outputs": [],
   "source": [
    "import pandas as pd\n",
    "import numpy as np\n",
    "import matplotlib.pyplot as plt\n",
    "import pickle"
   ]
  },
  {
   "cell_type": "markdown",
   "metadata": {},
   "source": [
    "# Dataset"
   ]
  },
  {
   "cell_type": "code",
   "execution_count": 217,
   "metadata": {},
   "outputs": [
    {
     "data": {
      "text/html": [
       "<div>\n",
       "<style scoped>\n",
       "    .dataframe tbody tr th:only-of-type {\n",
       "        vertical-align: middle;\n",
       "    }\n",
       "\n",
       "    .dataframe tbody tr th {\n",
       "        vertical-align: top;\n",
       "    }\n",
       "\n",
       "    .dataframe thead th {\n",
       "        text-align: right;\n",
       "    }\n",
       "</style>\n",
       "<table border=\"1\" class=\"dataframe\">\n",
       "  <thead>\n",
       "    <tr style=\"text-align: right;\">\n",
       "      <th></th>\n",
       "      <th>Date</th>\n",
       "      <th>NO2</th>\n",
       "      <th>CO</th>\n",
       "      <th>O3</th>\n",
       "      <th>PM2.5</th>\n",
       "      <th>SO2</th>\n",
       "      <th>AQI Value</th>\n",
       "      <th>WIND</th>\n",
       "      <th>TEMP</th>\n",
       "      <th>PRESSURE</th>\n",
       "      <th>RH</th>\n",
       "    </tr>\n",
       "  </thead>\n",
       "  <tbody>\n",
       "    <tr>\n",
       "      <th>0</th>\n",
       "      <td>01/01/2010</td>\n",
       "      <td>38.16</td>\n",
       "      <td>0.704</td>\n",
       "      <td>0.03348</td>\n",
       "      <td>13.526531</td>\n",
       "      <td>7.7</td>\n",
       "      <td>54</td>\n",
       "      <td>5.854167</td>\n",
       "      <td>46.000000</td>\n",
       "      <td>1030.041667</td>\n",
       "      <td>65.916667</td>\n",
       "    </tr>\n",
       "    <tr>\n",
       "      <th>1</th>\n",
       "      <td>02/01/2010</td>\n",
       "      <td>37.10</td>\n",
       "      <td>0.880</td>\n",
       "      <td>0.03996</td>\n",
       "      <td>14.953061</td>\n",
       "      <td>14.7</td>\n",
       "      <td>57</td>\n",
       "      <td>2.970833</td>\n",
       "      <td>44.000000</td>\n",
       "      <td>1028.208333</td>\n",
       "      <td>63.291667</td>\n",
       "    </tr>\n",
       "    <tr>\n",
       "      <th>2</th>\n",
       "      <td>03/01/2010</td>\n",
       "      <td>38.16</td>\n",
       "      <td>0.440</td>\n",
       "      <td>0.02484</td>\n",
       "      <td>15.428571</td>\n",
       "      <td>21.7</td>\n",
       "      <td>58</td>\n",
       "      <td>3.579167</td>\n",
       "      <td>44.041667</td>\n",
       "      <td>1025.833333</td>\n",
       "      <td>69.625000</td>\n",
       "    </tr>\n",
       "    <tr>\n",
       "      <th>3</th>\n",
       "      <td>04/01/2010</td>\n",
       "      <td>26.50</td>\n",
       "      <td>0.440</td>\n",
       "      <td>0.03348</td>\n",
       "      <td>10.800000</td>\n",
       "      <td>32.9</td>\n",
       "      <td>47</td>\n",
       "      <td>6.891667</td>\n",
       "      <td>41.750000</td>\n",
       "      <td>1031.208333</td>\n",
       "      <td>60.166667</td>\n",
       "    </tr>\n",
       "    <tr>\n",
       "      <th>4</th>\n",
       "      <td>05/01/2010</td>\n",
       "      <td>45.58</td>\n",
       "      <td>0.616</td>\n",
       "      <td>0.03348</td>\n",
       "      <td>15.904082</td>\n",
       "      <td>34.3</td>\n",
       "      <td>59</td>\n",
       "      <td>2.233333</td>\n",
       "      <td>37.333333</td>\n",
       "      <td>1032.125000</td>\n",
       "      <td>59.916667</td>\n",
       "    </tr>\n",
       "  </tbody>\n",
       "</table>\n",
       "</div>"
      ],
      "text/plain": [
       "         Date    NO2     CO       O3      PM2.5   SO2   AQI Value      WIND  \\\n",
       "0  01/01/2010  38.16  0.704  0.03348  13.526531   7.7          54  5.854167   \n",
       "1  02/01/2010  37.10  0.880  0.03996  14.953061  14.7          57  2.970833   \n",
       "2  03/01/2010  38.16  0.440  0.02484  15.428571  21.7          58  3.579167   \n",
       "3  04/01/2010  26.50  0.440  0.03348  10.800000  32.9          47  6.891667   \n",
       "4  05/01/2010  45.58  0.616  0.03348  15.904082  34.3          59  2.233333   \n",
       "\n",
       "        TEMP     PRESSURE        RH   \n",
       "0  46.000000  1030.041667  65.916667  \n",
       "1  44.000000  1028.208333  63.291667  \n",
       "2  44.041667  1025.833333  69.625000  \n",
       "3  41.750000  1031.208333  60.166667  \n",
       "4  37.333333  1032.125000  59.916667  "
      ]
     },
     "execution_count": 217,
     "metadata": {},
     "output_type": "execute_result"
    }
   ],
   "source": [
    "allen = pd.read_csv('Dataset.csv');\n",
    "allen.head()"
   ]
  },
  {
   "cell_type": "markdown",
   "metadata": {},
   "source": [
    "# Preprocessing"
   ]
  },
  {
   "cell_type": "markdown",
   "metadata": {},
   "source": [
    "### Drop dates"
   ]
  },
  {
   "cell_type": "code",
   "execution_count": 218,
   "metadata": {},
   "outputs": [
    {
     "data": {
      "text/html": [
       "<div>\n",
       "<style scoped>\n",
       "    .dataframe tbody tr th:only-of-type {\n",
       "        vertical-align: middle;\n",
       "    }\n",
       "\n",
       "    .dataframe tbody tr th {\n",
       "        vertical-align: top;\n",
       "    }\n",
       "\n",
       "    .dataframe thead th {\n",
       "        text-align: right;\n",
       "    }\n",
       "</style>\n",
       "<table border=\"1\" class=\"dataframe\">\n",
       "  <thead>\n",
       "    <tr style=\"text-align: right;\">\n",
       "      <th></th>\n",
       "      <th>NO2</th>\n",
       "      <th>CO</th>\n",
       "      <th>O3</th>\n",
       "      <th>PM2.5</th>\n",
       "      <th>SO2</th>\n",
       "      <th>AQI Value</th>\n",
       "      <th>WIND</th>\n",
       "      <th>TEMP</th>\n",
       "      <th>PRESSURE</th>\n",
       "      <th>RH</th>\n",
       "    </tr>\n",
       "  </thead>\n",
       "  <tbody>\n",
       "    <tr>\n",
       "      <th>0</th>\n",
       "      <td>38.16</td>\n",
       "      <td>0.704</td>\n",
       "      <td>0.03348</td>\n",
       "      <td>13.526531</td>\n",
       "      <td>7.7</td>\n",
       "      <td>54</td>\n",
       "      <td>5.854167</td>\n",
       "      <td>46.000000</td>\n",
       "      <td>1030.041667</td>\n",
       "      <td>65.916667</td>\n",
       "    </tr>\n",
       "    <tr>\n",
       "      <th>1</th>\n",
       "      <td>37.10</td>\n",
       "      <td>0.880</td>\n",
       "      <td>0.03996</td>\n",
       "      <td>14.953061</td>\n",
       "      <td>14.7</td>\n",
       "      <td>57</td>\n",
       "      <td>2.970833</td>\n",
       "      <td>44.000000</td>\n",
       "      <td>1028.208333</td>\n",
       "      <td>63.291667</td>\n",
       "    </tr>\n",
       "    <tr>\n",
       "      <th>2</th>\n",
       "      <td>38.16</td>\n",
       "      <td>0.440</td>\n",
       "      <td>0.02484</td>\n",
       "      <td>15.428571</td>\n",
       "      <td>21.7</td>\n",
       "      <td>58</td>\n",
       "      <td>3.579167</td>\n",
       "      <td>44.041667</td>\n",
       "      <td>1025.833333</td>\n",
       "      <td>69.625000</td>\n",
       "    </tr>\n",
       "    <tr>\n",
       "      <th>3</th>\n",
       "      <td>26.50</td>\n",
       "      <td>0.440</td>\n",
       "      <td>0.03348</td>\n",
       "      <td>10.800000</td>\n",
       "      <td>32.9</td>\n",
       "      <td>47</td>\n",
       "      <td>6.891667</td>\n",
       "      <td>41.750000</td>\n",
       "      <td>1031.208333</td>\n",
       "      <td>60.166667</td>\n",
       "    </tr>\n",
       "    <tr>\n",
       "      <th>4</th>\n",
       "      <td>45.58</td>\n",
       "      <td>0.616</td>\n",
       "      <td>0.03348</td>\n",
       "      <td>15.904082</td>\n",
       "      <td>34.3</td>\n",
       "      <td>59</td>\n",
       "      <td>2.233333</td>\n",
       "      <td>37.333333</td>\n",
       "      <td>1032.125000</td>\n",
       "      <td>59.916667</td>\n",
       "    </tr>\n",
       "  </tbody>\n",
       "</table>\n",
       "</div>"
      ],
      "text/plain": [
       "     NO2     CO       O3      PM2.5   SO2   AQI Value      WIND       TEMP  \\\n",
       "0  38.16  0.704  0.03348  13.526531   7.7          54  5.854167  46.000000   \n",
       "1  37.10  0.880  0.03996  14.953061  14.7          57  2.970833  44.000000   \n",
       "2  38.16  0.440  0.02484  15.428571  21.7          58  3.579167  44.041667   \n",
       "3  26.50  0.440  0.03348  10.800000  32.9          47  6.891667  41.750000   \n",
       "4  45.58  0.616  0.03348  15.904082  34.3          59  2.233333  37.333333   \n",
       "\n",
       "      PRESSURE        RH   \n",
       "0  1030.041667  65.916667  \n",
       "1  1028.208333  63.291667  \n",
       "2  1025.833333  69.625000  \n",
       "3  1031.208333  60.166667  \n",
       "4  1032.125000  59.916667  "
      ]
     },
     "execution_count": 218,
     "metadata": {},
     "output_type": "execute_result"
    }
   ],
   "source": [
    "allen = allen.drop(['Date'],axis=1)\n",
    "allen.head()"
   ]
  },
  {
   "cell_type": "markdown",
   "metadata": {},
   "source": [
    "### Drop duplicates"
   ]
  },
  {
   "cell_type": "code",
   "execution_count": 219,
   "metadata": {},
   "outputs": [
    {
     "data": {
      "text/html": [
       "<div>\n",
       "<style scoped>\n",
       "    .dataframe tbody tr th:only-of-type {\n",
       "        vertical-align: middle;\n",
       "    }\n",
       "\n",
       "    .dataframe tbody tr th {\n",
       "        vertical-align: top;\n",
       "    }\n",
       "\n",
       "    .dataframe thead th {\n",
       "        text-align: right;\n",
       "    }\n",
       "</style>\n",
       "<table border=\"1\" class=\"dataframe\">\n",
       "  <thead>\n",
       "    <tr style=\"text-align: right;\">\n",
       "      <th></th>\n",
       "      <th>NO2</th>\n",
       "      <th>CO</th>\n",
       "      <th>O3</th>\n",
       "      <th>PM2.5</th>\n",
       "      <th>SO2</th>\n",
       "      <th>AQI Value</th>\n",
       "      <th>WIND</th>\n",
       "      <th>TEMP</th>\n",
       "      <th>PRESSURE</th>\n",
       "      <th>RH</th>\n",
       "    </tr>\n",
       "  </thead>\n",
       "  <tbody>\n",
       "    <tr>\n",
       "      <th>0</th>\n",
       "      <td>38.16</td>\n",
       "      <td>0.704</td>\n",
       "      <td>0.03348</td>\n",
       "      <td>13.526531</td>\n",
       "      <td>7.7</td>\n",
       "      <td>54</td>\n",
       "      <td>5.854167</td>\n",
       "      <td>46.000000</td>\n",
       "      <td>1030.041667</td>\n",
       "      <td>65.916667</td>\n",
       "    </tr>\n",
       "    <tr>\n",
       "      <th>1</th>\n",
       "      <td>37.10</td>\n",
       "      <td>0.880</td>\n",
       "      <td>0.03996</td>\n",
       "      <td>14.953061</td>\n",
       "      <td>14.7</td>\n",
       "      <td>57</td>\n",
       "      <td>2.970833</td>\n",
       "      <td>44.000000</td>\n",
       "      <td>1028.208333</td>\n",
       "      <td>63.291667</td>\n",
       "    </tr>\n",
       "    <tr>\n",
       "      <th>2</th>\n",
       "      <td>38.16</td>\n",
       "      <td>0.440</td>\n",
       "      <td>0.02484</td>\n",
       "      <td>15.428571</td>\n",
       "      <td>21.7</td>\n",
       "      <td>58</td>\n",
       "      <td>3.579167</td>\n",
       "      <td>44.041667</td>\n",
       "      <td>1025.833333</td>\n",
       "      <td>69.625000</td>\n",
       "    </tr>\n",
       "    <tr>\n",
       "      <th>3</th>\n",
       "      <td>26.50</td>\n",
       "      <td>0.440</td>\n",
       "      <td>0.03348</td>\n",
       "      <td>10.800000</td>\n",
       "      <td>32.9</td>\n",
       "      <td>47</td>\n",
       "      <td>6.891667</td>\n",
       "      <td>41.750000</td>\n",
       "      <td>1031.208333</td>\n",
       "      <td>60.166667</td>\n",
       "    </tr>\n",
       "    <tr>\n",
       "      <th>4</th>\n",
       "      <td>45.58</td>\n",
       "      <td>0.616</td>\n",
       "      <td>0.03348</td>\n",
       "      <td>15.904082</td>\n",
       "      <td>34.3</td>\n",
       "      <td>59</td>\n",
       "      <td>2.233333</td>\n",
       "      <td>37.333333</td>\n",
       "      <td>1032.125000</td>\n",
       "      <td>59.916667</td>\n",
       "    </tr>\n",
       "  </tbody>\n",
       "</table>\n",
       "</div>"
      ],
      "text/plain": [
       "     NO2     CO       O3      PM2.5   SO2   AQI Value      WIND       TEMP  \\\n",
       "0  38.16  0.704  0.03348  13.526531   7.7          54  5.854167  46.000000   \n",
       "1  37.10  0.880  0.03996  14.953061  14.7          57  2.970833  44.000000   \n",
       "2  38.16  0.440  0.02484  15.428571  21.7          58  3.579167  44.041667   \n",
       "3  26.50  0.440  0.03348  10.800000  32.9          47  6.891667  41.750000   \n",
       "4  45.58  0.616  0.03348  15.904082  34.3          59  2.233333  37.333333   \n",
       "\n",
       "      PRESSURE        RH   \n",
       "0  1030.041667  65.916667  \n",
       "1  1028.208333  63.291667  \n",
       "2  1025.833333  69.625000  \n",
       "3  1031.208333  60.166667  \n",
       "4  1032.125000  59.916667  "
      ]
     },
     "execution_count": 219,
     "metadata": {},
     "output_type": "execute_result"
    }
   ],
   "source": [
    "allen = allen.drop_duplicates()\n",
    "allen.head()"
   ]
  },
  {
   "cell_type": "markdown",
   "metadata": {},
   "source": [
    "# Training"
   ]
  },
  {
   "cell_type": "code",
   "execution_count": 220,
   "metadata": {},
   "outputs": [
    {
     "data": {
      "text/html": [
       "<div>\n",
       "<style scoped>\n",
       "    .dataframe tbody tr th:only-of-type {\n",
       "        vertical-align: middle;\n",
       "    }\n",
       "\n",
       "    .dataframe tbody tr th {\n",
       "        vertical-align: top;\n",
       "    }\n",
       "\n",
       "    .dataframe thead th {\n",
       "        text-align: right;\n",
       "    }\n",
       "</style>\n",
       "<table border=\"1\" class=\"dataframe\">\n",
       "  <thead>\n",
       "    <tr style=\"text-align: right;\">\n",
       "      <th></th>\n",
       "      <th>NO2</th>\n",
       "      <th>CO</th>\n",
       "      <th>O3</th>\n",
       "      <th>PM2.5</th>\n",
       "      <th>SO2</th>\n",
       "      <th>WIND</th>\n",
       "      <th>TEMP</th>\n",
       "      <th>PRESSURE</th>\n",
       "      <th>RH</th>\n",
       "    </tr>\n",
       "  </thead>\n",
       "  <tbody>\n",
       "    <tr>\n",
       "      <th>0</th>\n",
       "      <td>38.16</td>\n",
       "      <td>0.704</td>\n",
       "      <td>0.03348</td>\n",
       "      <td>13.526531</td>\n",
       "      <td>7.7</td>\n",
       "      <td>5.854167</td>\n",
       "      <td>46.000000</td>\n",
       "      <td>1030.041667</td>\n",
       "      <td>65.916667</td>\n",
       "    </tr>\n",
       "    <tr>\n",
       "      <th>1</th>\n",
       "      <td>37.10</td>\n",
       "      <td>0.880</td>\n",
       "      <td>0.03996</td>\n",
       "      <td>14.953061</td>\n",
       "      <td>14.7</td>\n",
       "      <td>2.970833</td>\n",
       "      <td>44.000000</td>\n",
       "      <td>1028.208333</td>\n",
       "      <td>63.291667</td>\n",
       "    </tr>\n",
       "    <tr>\n",
       "      <th>2</th>\n",
       "      <td>38.16</td>\n",
       "      <td>0.440</td>\n",
       "      <td>0.02484</td>\n",
       "      <td>15.428571</td>\n",
       "      <td>21.7</td>\n",
       "      <td>3.579167</td>\n",
       "      <td>44.041667</td>\n",
       "      <td>1025.833333</td>\n",
       "      <td>69.625000</td>\n",
       "    </tr>\n",
       "    <tr>\n",
       "      <th>3</th>\n",
       "      <td>26.50</td>\n",
       "      <td>0.440</td>\n",
       "      <td>0.03348</td>\n",
       "      <td>10.800000</td>\n",
       "      <td>32.9</td>\n",
       "      <td>6.891667</td>\n",
       "      <td>41.750000</td>\n",
       "      <td>1031.208333</td>\n",
       "      <td>60.166667</td>\n",
       "    </tr>\n",
       "    <tr>\n",
       "      <th>4</th>\n",
       "      <td>45.58</td>\n",
       "      <td>0.616</td>\n",
       "      <td>0.03348</td>\n",
       "      <td>15.904082</td>\n",
       "      <td>34.3</td>\n",
       "      <td>2.233333</td>\n",
       "      <td>37.333333</td>\n",
       "      <td>1032.125000</td>\n",
       "      <td>59.916667</td>\n",
       "    </tr>\n",
       "  </tbody>\n",
       "</table>\n",
       "</div>"
      ],
      "text/plain": [
       "     NO2     CO       O3      PM2.5   SO2      WIND       TEMP     PRESSURE  \\\n",
       "0  38.16  0.704  0.03348  13.526531   7.7  5.854167  46.000000  1030.041667   \n",
       "1  37.10  0.880  0.03996  14.953061  14.7  2.970833  44.000000  1028.208333   \n",
       "2  38.16  0.440  0.02484  15.428571  21.7  3.579167  44.041667  1025.833333   \n",
       "3  26.50  0.440  0.03348  10.800000  32.9  6.891667  41.750000  1031.208333   \n",
       "4  45.58  0.616  0.03348  15.904082  34.3  2.233333  37.333333  1032.125000   \n",
       "\n",
       "         RH   \n",
       "0  65.916667  \n",
       "1  63.291667  \n",
       "2  69.625000  \n",
       "3  60.166667  \n",
       "4  59.916667  "
      ]
     },
     "execution_count": 220,
     "metadata": {},
     "output_type": "execute_result"
    }
   ],
   "source": [
    "x = allen.drop([' AQI Value'],axis=1)\n",
    "x.head()"
   ]
  },
  {
   "cell_type": "code",
   "execution_count": 221,
   "metadata": {},
   "outputs": [
    {
     "data": {
      "text/plain": [
       "0    54\n",
       "1    57\n",
       "2    58\n",
       "3    47\n",
       "4    59\n",
       "Name:  AQI Value, dtype: int64"
      ]
     },
     "execution_count": 221,
     "metadata": {},
     "output_type": "execute_result"
    }
   ],
   "source": [
    "y = allen[' AQI Value']\n",
    "y.head()"
   ]
  },
  {
   "cell_type": "code",
   "execution_count": 222,
   "metadata": {},
   "outputs": [],
   "source": [
    "xtrain, xtest, ytrain, ytest = train_test_split(x,y,test_size=0.4,random_state=45)"
   ]
  },
  {
   "cell_type": "code",
   "execution_count": 223,
   "metadata": {
    "scrolled": true
   },
   "outputs": [
    {
     "name": "stdout",
     "output_type": "stream",
     "text": [
      "0.7701520200996208\n"
     ]
    }
   ],
   "source": [
    "lr = LinearRegression().fit(xtrain,ytrain)\n",
    "print(lr.score(xtest,ytest))"
   ]
  },
  {
   "cell_type": "markdown",
   "metadata": {},
   "source": [
    "# Assignment"
   ]
  },
  {
   "cell_type": "markdown",
   "metadata": {},
   "source": [
    "### Correlation"
   ]
  },
  {
   "cell_type": "code",
   "execution_count": 224,
   "metadata": {},
   "outputs": [
    {
     "name": "stdout",
     "output_type": "stream",
     "text": [
      "Correlation: 0.85846\n"
     ]
    }
   ],
   "source": [
    "c, _ = spearmanr(ytest,lr.predict(xtest))\n",
    "print(\"Correlation: %.5f\"%c)"
   ]
  },
  {
   "cell_type": "markdown",
   "metadata": {},
   "source": [
    "### Mean Squared Error"
   ]
  },
  {
   "cell_type": "code",
   "execution_count": 225,
   "metadata": {},
   "outputs": [
    {
     "name": "stdout",
     "output_type": "stream",
     "text": [
      "MSE: 240.10213\n"
     ]
    }
   ],
   "source": [
    "m = mean_squared_error(ytest,lr.predict(xtest))\n",
    "print(\"MSE: %.5f\"%m)"
   ]
  },
  {
   "cell_type": "markdown",
   "metadata": {},
   "source": [
    "### Regression Plot"
   ]
  },
  {
   "cell_type": "code",
   "execution_count": 226,
   "metadata": {},
   "outputs": [
    {
     "data": {
      "text/plain": [
       "<matplotlib.legend.Legend at 0x1477dfa0340>"
      ]
     },
     "execution_count": 226,
     "metadata": {},
     "output_type": "execute_result"
    },
    {
     "data": {
      "image/png": "[encoded data removed]",
      "text/plain": [
       "<Figure size 432x288 with 1 Axes>"
      ]
     },
     "metadata": {
      "needs_background": "light"
     },
     "output_type": "display_data"
    }
   ],
   "source": [
    "plt.plot(ytest,'.',color=\"red\",label=\"Real\")\n",
    "plt.plot(lr.predict(xtest),color=\"orange\",label=\"Predicted\")\n",
    "plt.xlim([0,50])\n",
    "plt.legend()"
   ]
  }
 ],
 "metadata": {
  "kernelspec": {
   "display_name": "Python 3",
   "language": "python",
   "name": "python3"
  },
  "language_info": {
   "codemirror_mode": {
    "name": "ipython",
    "version": 3
   },
   "file_extension": ".py",
   "mimetype": "text/x-python",
   "name": "python",
   "nbconvert_exporter": "python",
   "pygments_lexer": "ipython3",
   "version": "3.8.3"
  }
 },
 "nbformat": 4,
 "nbformat_minor": 4
}
