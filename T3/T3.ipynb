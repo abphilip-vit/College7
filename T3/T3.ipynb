{
 "cells": [
  {
   "cell_type": "markdown",
   "metadata": {},
   "source": [
    "# Import Libraries"
   ]
  },
  {
   "cell_type": "code",
   "execution_count": 49,
   "metadata": {
    "id": "s9IvUwnBSCl2"
   },
   "outputs": [],
   "source": [
    "import pandas as pd\n",
    "import numpy as np\n",
    "import seaborn as sns\n",
    "import matplotlib.pyplot as plt"
   ]
  },
  {
   "cell_type": "code",
   "execution_count": 50,
   "metadata": {},
   "outputs": [],
   "source": [
    "from sklearn import preprocessing\n",
    "from sklearn.metrics import accuracy_score, log_loss, confusion_matrix, f1_score \n",
    "from sklearn.model_selection import train_test_split, cross_val_score\n",
    "from sklearn.model_selection import StratifiedKFold, GridSearchCV, KFold \n",
    "from sklearn.preprocessing import MinMaxScaler"
   ]
  },
  {
   "cell_type": "code",
   "execution_count": 51,
   "metadata": {},
   "outputs": [],
   "source": [
    "from sklearn.ensemble import RandomForestClassifier\n",
    "from sklearn.tree import DecisionTreeClassifier\n",
    "from sklearn.naive_bayes import GaussianNB\n",
    "from sklearn.neighbors import KNeighborsClassifier\n",
    "from sklearn.linear_model import LogisticRegression"
   ]
  },
  {
   "cell_type": "markdown",
   "metadata": {
    "id": "RyP9iy-qZY4k"
   },
   "source": [
    "# Dataset"
   ]
  },
  {
   "cell_type": "code",
   "execution_count": 52,
   "metadata": {},
   "outputs": [],
   "source": [
    "allen = pd.read_csv(\"Dataset.csv\")"
   ]
  },
  {
   "cell_type": "code",
   "execution_count": 54,
   "metadata": {
    "colab": {
     "base_uri": "https://localhost:8080/",
     "height": 204
    },
    "id": "87jf1rTUZL5C",
    "outputId": "5b060829-317b-425b-c5fb-c67c502aefb6"
   },
   "outputs": [
    {
     "output_type": "execute_result",
     "data": {
      "text/plain": [
       "   Gender  Age  Salary  Purchase Iphone\n",
       "0    Male   19   19000                0\n",
       "1    Male   35   20000                0\n",
       "2  Female   26   43000                0\n",
       "3  Female   27   57000                0\n",
       "4    Male   19   76000                0"
      ],
      "text/html": "<div>\n<style scoped>\n    .dataframe tbody tr th:only-of-type {\n        vertical-align: middle;\n    }\n\n    .dataframe tbody tr th {\n        vertical-align: top;\n    }\n\n    .dataframe thead th {\n        text-align: right;\n    }\n</style>\n<table border=\"1\" class=\"dataframe\">\n  <thead>\n    <tr style=\"text-align: right;\">\n      <th></th>\n      <th>Gender</th>\n      <th>Age</th>\n      <th>Salary</th>\n      <th>Purchase Iphone</th>\n    </tr>\n  </thead>\n  <tbody>\n    <tr>\n      <th>0</th>\n      <td>Male</td>\n      <td>19</td>\n      <td>19000</td>\n      <td>0</td>\n    </tr>\n    <tr>\n      <th>1</th>\n      <td>Male</td>\n      <td>35</td>\n      <td>20000</td>\n      <td>0</td>\n    </tr>\n    <tr>\n      <th>2</th>\n      <td>Female</td>\n      <td>26</td>\n      <td>43000</td>\n      <td>0</td>\n    </tr>\n    <tr>\n      <th>3</th>\n      <td>Female</td>\n      <td>27</td>\n      <td>57000</td>\n      <td>0</td>\n    </tr>\n    <tr>\n      <th>4</th>\n      <td>Male</td>\n      <td>19</td>\n      <td>76000</td>\n      <td>0</td>\n    </tr>\n  </tbody>\n</table>\n</div>"
     },
     "metadata": {},
     "execution_count": 54
    }
   ],
   "source": [
    "allen.head()"
   ]
  },
  {
   "cell_type": "markdown",
   "metadata": {},
   "source": [
    "# Label Encoding"
   ]
  },
  {
   "cell_type": "code",
   "execution_count": 55,
   "metadata": {
    "colab": {
     "base_uri": "https://localhost:8080/"
    },
    "id": "xdHNmBriIOo1",
    "outputId": "40f73c7c-244b-4025-a71c-f192c2431176"
   },
   "outputs": [],
   "source": [
    "l1 = preprocessing.LabelEncoder()\n",
    "f1 = l1.fit_transform(allen['Gender']) \n",
    "f1 = pd.DataFrame(data=f1, columns=['Gender'])\n",
    "allen['Gender'] = f1['Gender']"
   ]
  },
  {
   "cell_type": "code",
   "execution_count": 56,
   "metadata": {},
   "outputs": [
    {
     "output_type": "execute_result",
     "data": {
      "text/plain": [
       "   Gender  Age  Salary  Purchase Iphone\n",
       "0       1   19   19000                0\n",
       "1       1   35   20000                0\n",
       "2       0   26   43000                0\n",
       "3       0   27   57000                0\n",
       "4       1   19   76000                0"
      ],
      "text/html": "<div>\n<style scoped>\n    .dataframe tbody tr th:only-of-type {\n        vertical-align: middle;\n    }\n\n    .dataframe tbody tr th {\n        vertical-align: top;\n    }\n\n    .dataframe thead th {\n        text-align: right;\n    }\n</style>\n<table border=\"1\" class=\"dataframe\">\n  <thead>\n    <tr style=\"text-align: right;\">\n      <th></th>\n      <th>Gender</th>\n      <th>Age</th>\n      <th>Salary</th>\n      <th>Purchase Iphone</th>\n    </tr>\n  </thead>\n  <tbody>\n    <tr>\n      <th>0</th>\n      <td>1</td>\n      <td>19</td>\n      <td>19000</td>\n      <td>0</td>\n    </tr>\n    <tr>\n      <th>1</th>\n      <td>1</td>\n      <td>35</td>\n      <td>20000</td>\n      <td>0</td>\n    </tr>\n    <tr>\n      <th>2</th>\n      <td>0</td>\n      <td>26</td>\n      <td>43000</td>\n      <td>0</td>\n    </tr>\n    <tr>\n      <th>3</th>\n      <td>0</td>\n      <td>27</td>\n      <td>57000</td>\n      <td>0</td>\n    </tr>\n    <tr>\n      <th>4</th>\n      <td>1</td>\n      <td>19</td>\n      <td>76000</td>\n      <td>0</td>\n    </tr>\n  </tbody>\n</table>\n</div>"
     },
     "metadata": {},
     "execution_count": 56
    }
   ],
   "source": [
    "allen.head()"
   ]
  },
  {
   "cell_type": "markdown",
   "metadata": {
    "id": "crrlZyeK1vU3"
   },
   "source": [
    "# Train-test-split"
   ]
  },
  {
   "cell_type": "code",
   "execution_count": 57,
   "metadata": {
    "colab": {
     "base_uri": "https://localhost:8080/",
     "height": 204
    },
    "id": "1E6I2IpxL96L",
    "outputId": "1f5af59a-a5b5-49c9-d719-ccc7994d2005"
   },
   "outputs": [],
   "source": [
    "x = allen.drop(['Purchase Iphone'],axis=1)"
   ]
  },
  {
   "cell_type": "code",
   "execution_count": 58,
   "metadata": {
    "colab": {
     "base_uri": "https://localhost:8080/"
    },
    "id": "HxQC2ml5MoTr",
    "outputId": "c3728f42-261d-48be-b1d5-6b02349892ed"
   },
   "outputs": [],
   "source": [
    "y = allen['Purchase Iphone']"
   ]
  },
  {
   "cell_type": "code",
   "execution_count": 59,
   "metadata": {
    "id": "-hUABKPIMvwE"
   },
   "outputs": [],
   "source": [
    "xtrain, xtest, ytrain, ytest = train_test_split(x,y,test_size=0.15,random_state=30)"
   ]
  },
  {
   "source": [
    "# Random Forest"
   ],
   "cell_type": "markdown",
   "metadata": {}
  },
  {
   "cell_type": "code",
   "execution_count": 60,
   "metadata": {
    "id": "-9qxQPoaNxsw"
   },
   "outputs": [],
   "source": [
    "model1 = RandomForestClassifier()\n",
    "model1.fit(xtrain,ytrain)\n",
    "p1 = model1.predict(xtest)"
   ]
  },
  {
   "cell_type": "markdown",
   "metadata": {},
   "source": [
    "### Confusion Matrix "
   ]
  },
  {
   "cell_type": "code",
   "execution_count": 71,
   "metadata": {
    "colab": {
     "base_uri": "https://localhost:8080/"
    },
    "id": "QQK3hbNx3w5g",
    "outputId": "e82b34ce-dc79-4f25-a59a-dffef18d9306"
   },
   "outputs": [
    {
     "output_type": "stream",
     "name": "stdout",
     "text": [
      "[[38  0]\n [ 4 18]]\n"
     ]
    }
   ],
   "source": [
    "print(confusion_matrix(ytest,p1))"
   ]
  },
  {
   "cell_type": "markdown",
   "metadata": {},
   "source": [
    "### Specificity and Sensitivity"
   ]
  },
  {
   "cell_type": "code",
   "execution_count": 72,
   "metadata": {},
   "outputs": [
    {
     "output_type": "stream",
     "name": "stdout",
     "text": [
      "Specificity:  0.8181818181818182\nSensitivity:  1.0\n"
     ]
    }
   ],
   "source": [
    "c = confusion_matrix(ytest,p1)\n",
    "print('Specificity: ', c[1,1]/(c[1,0]+c[1,1]))\n",
    "print('Sensitivity: ', c[0,0]/(c[0,0]+c[0,1]))"
   ]
  },
  {
   "cell_type": "markdown",
   "metadata": {},
   "source": [
    "### Accuracy"
   ]
  },
  {
   "cell_type": "code",
   "execution_count": 73,
   "metadata": {},
   "outputs": [
    {
     "output_type": "stream",
     "name": "stdout",
     "text": [
      "Accuracy: 93.33%\n"
     ]
    }
   ],
   "source": [
    "c = confusion_matrix(ytest,p1)\n",
    "print('Accuracy: {:.2%}'.format((c[0,0]+c[1,1])/sum(sum(c))))"
   ]
  },
  {
   "source": [
    "### F1 Score"
   ],
   "cell_type": "markdown",
   "metadata": {}
  },
  {
   "cell_type": "code",
   "execution_count": 74,
   "metadata": {},
   "outputs": [
    {
     "output_type": "stream",
     "name": "stdout",
     "text": [
      "F1 Score: 90.00%\n"
     ]
    }
   ],
   "source": [
    "f11 = f1_score(ytest,p1)\n",
    "print('F1 Score: {:.2%}'.format(f11))"
   ]
  },
  {
   "source": [
    "# Decision Tree"
   ],
   "cell_type": "markdown",
   "metadata": {}
  },
  {
   "cell_type": "code",
   "execution_count": 75,
   "metadata": {},
   "outputs": [],
   "source": [
    "model2 = DecisionTreeClassifier()\n",
    "model2.fit(xtrain,ytrain)\n",
    "p2 = model2.predict(xtest)"
   ]
  },
  {
   "source": [
    "### Confusion Matrix "
   ],
   "cell_type": "markdown",
   "metadata": {}
  },
  {
   "cell_type": "code",
   "execution_count": 77,
   "metadata": {},
   "outputs": [
    {
     "output_type": "stream",
     "name": "stdout",
     "text": [
      "[[37  1]\n [ 5 17]]\n"
     ]
    }
   ],
   "source": [
    "print(confusion_matrix(ytest,p2))"
   ]
  },
  {
   "source": [
    "### Specificity and Sensitivity"
   ],
   "cell_type": "markdown",
   "metadata": {}
  },
  {
   "cell_type": "code",
   "execution_count": 79,
   "metadata": {},
   "outputs": [
    {
     "output_type": "stream",
     "name": "stdout",
     "text": [
      "Specificity:  0.7727272727272727\nSensitivity:  0.9736842105263158\n"
     ]
    }
   ],
   "source": [
    "c2 = confusion_matrix(ytest,p2)\n",
    "print('Specificity: ', c2[1,1]/(c2[1,0]+c2[1,1]))\n",
    "print('Sensitivity: ', c2[0,0]/(c2[0,0]+c2[0,1]))"
   ]
  },
  {
   "source": [
    "### Accuracy"
   ],
   "cell_type": "markdown",
   "metadata": {}
  },
  {
   "cell_type": "code",
   "execution_count": 80,
   "metadata": {},
   "outputs": [
    {
     "output_type": "stream",
     "name": "stdout",
     "text": [
      "Accuracy: 90.00%\n"
     ]
    }
   ],
   "source": [
    "c2 = confusion_matrix(ytest,p2)\n",
    "print('Accuracy: {:.2%}'.format((c2[0,0]+c2[1,1])/sum(sum(c2))))"
   ]
  },
  {
   "source": [
    "### F1 Score"
   ],
   "cell_type": "markdown",
   "metadata": {}
  },
  {
   "cell_type": "code",
   "execution_count": 82,
   "metadata": {},
   "outputs": [
    {
     "output_type": "stream",
     "name": "stdout",
     "text": [
      "F1 Score: 85.00%\n"
     ]
    }
   ],
   "source": [
    "f12 = f1_score(ytest,p2)\n",
    "print('F1 Score: {:.2%}'.format(f12))"
   ]
  },
  {
   "cell_type": "code",
   "execution_count": null,
   "metadata": {},
   "outputs": [],
   "source": []
  }
 ],
 "metadata": {
  "colab": {
   "name": "Nasscom Lab DA 3ipynb",
   "provenance": [],
   "toc_visible": true
  },
  "kernelspec": {
   "name": "python383jvsc74a57bd05a2c2b1e8e21bd441da1d17902ec1befce5a77884cfd8dc3337a42ec4181cc68",
   "display_name": "Python 3.8.3 64-bit ('base': conda)"
  },
  "language_info": {
   "codemirror_mode": {
    "name": "ipython",
    "version": 3
   },
   "file_extension": ".py",
   "mimetype": "text/x-python",
   "name": "python",
   "nbconvert_exporter": "python",
   "pygments_lexer": "ipython3",
   "version": "3.8.3"
  },
  "metadata": {
   "interpreter": {
    "hash": "5a2c2b1e8e21bd441da1d17902ec1befce5a77884cfd8dc3337a42ec4181cc68"
   }
  }
 },
 "nbformat": 4,
 "nbformat_minor": 1
}